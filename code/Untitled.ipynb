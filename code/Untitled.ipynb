{
 "cells": [
  {
   "cell_type": "code",
   "execution_count": 16,
   "id": "e829355c-6af8-420a-b59e-4347b01ebebe",
   "metadata": {},
   "outputs": [],
   "source": [
    "pose_label_path = '../data/labels/all_images/'\n",
    "bbox_label_path = '../data/bbox_labels/all_images/'\n",
    "keypoint_labels_path = '../data/key_point_labels/labels_2016.csv'"
   ]
  },
  {
   "cell_type": "code",
   "execution_count": 17,
   "id": "54df9285-f369-4ab0-9655-c00b2c739ed8",
   "metadata": {},
   "outputs": [],
   "source": [
    "# with open(keypoint_labels_path, mode='r') as file:\n",
    "#     csv_reader = csv.DictReader(file)\n",
    "#     for row in csv_reader:\n",
    "#         print(row)"
   ]
  },
  {
   "cell_type": "code",
   "execution_count": 18,
   "id": "da926e2b-1adc-424a-9f17-47817f15ad60",
   "metadata": {},
   "outputs": [],
   "source": [
    "# import csv \n",
    "  \n",
    "# # Open file  \n",
    "# with open(keypoint_labels_path) as file_obj: \n",
    "      \n",
    "#     # Create reader object by passing the file  \n",
    "#     # object to reader method \n",
    "#     reader_obj = csv.reader(file_obj) \n",
    "      \n",
    "#     # Iterate over each row in the csv  \n",
    "#     # file using reader object \n",
    "#     for row in reader_obj: \n",
    "#         print(row)"
   ]
  },
  {
   "cell_type": "markdown",
   "id": "0f2e6feb-453a-4ea9-ba88-b6a6199e1029",
   "metadata": {},
   "source": [
    "# Code for creating a dictonary for bbox values\n",
    "\n",
    "Dictonary format => filename as key and list of tuples of bbox co-ordinate for each whale as value\n",
    "\n",
    "\n",
    "{\n",
    "filename:[(a,b,c,d),(e,f,g,h)....]\n",
    "}\n"
   ]
  },
  {
   "cell_type": "code",
   "execution_count": 19,
   "id": "23e8d80b-9a9f-4b8a-b7b7-8e02ae584977",
   "metadata": {},
   "outputs": [
    {
     "data": {
      "text/plain": [
       "Index(['Unnamed: 0', 'filename', 'whale_id', 'rostrum_x', 'rostrum_y',\n",
       "       'side1_head1_x', 'side1_head1_y', 'side1_head2_x', 'side1_head2_y',\n",
       "       'side1_eye_x', 'side1_eye_y', 'side1_body1_x', 'side1_body1_y',\n",
       "       'side1_body2_x', 'side1_body2_y', 'side1_body3_x', 'side1_body3_y',\n",
       "       'side1_peduncle_width_x', 'side1_peduncle_width_y', 'peduncle_x',\n",
       "       'peduncle_y', 'side2_peduncle_width_x', 'side2_peduncle_width_y',\n",
       "       'side2_body3_x', 'side2_body3_y', 'side2_body2_x', 'side2_body2_y',\n",
       "       'side2_body1_x', 'side2_body1_y', 'side2_eye_x', 'side2_eye_y',\n",
       "       'side2_head2_x', 'side2_head2_y', 'side2_head1_x', 'side2_head1_y',\n",
       "       'blowhole_x', 'blowhole_y', 'len_mid_x', 'len_mid_y', 'fluke_x',\n",
       "       'fluke_y', 'Image.Length', 'Image.Width'],\n",
       "      dtype='object')"
      ]
     },
     "execution_count": 19,
     "metadata": {},
     "output_type": "execute_result"
    }
   ],
   "source": [
    "import pandas as pd\n",
    "\n",
    "keypoints_df = pd.read_csv(keypoint_labels_path)\n",
    "\n",
    "keypoints_df.columns"
   ]
  },
  {
   "cell_type": "code",
   "execution_count": 20,
   "id": "ad930cf9-bd80-40af-8d89-9b41254e6e90",
   "metadata": {},
   "outputs": [
    {
     "data": {
      "text/html": [
       "<div>\n",
       "<style scoped>\n",
       "    .dataframe tbody tr th:only-of-type {\n",
       "        vertical-align: middle;\n",
       "    }\n",
       "\n",
       "    .dataframe tbody tr th {\n",
       "        vertical-align: top;\n",
       "    }\n",
       "\n",
       "    .dataframe thead th {\n",
       "        text-align: right;\n",
       "    }\n",
       "</style>\n",
       "<table border=\"1\" class=\"dataframe\">\n",
       "  <thead>\n",
       "    <tr style=\"text-align: right;\">\n",
       "      <th></th>\n",
       "      <th>Unnamed: 0</th>\n",
       "      <th>filename</th>\n",
       "      <th>whale_id</th>\n",
       "      <th>rostrum_x</th>\n",
       "      <th>rostrum_y</th>\n",
       "      <th>side1_head1_x</th>\n",
       "      <th>side1_head1_y</th>\n",
       "      <th>side1_head2_x</th>\n",
       "      <th>side1_head2_y</th>\n",
       "      <th>side1_eye_x</th>\n",
       "      <th>...</th>\n",
       "      <th>side2_head1_x</th>\n",
       "      <th>side2_head1_y</th>\n",
       "      <th>blowhole_x</th>\n",
       "      <th>blowhole_y</th>\n",
       "      <th>len_mid_x</th>\n",
       "      <th>len_mid_y</th>\n",
       "      <th>fluke_x</th>\n",
       "      <th>fluke_y</th>\n",
       "      <th>Image.Length</th>\n",
       "      <th>Image.Width</th>\n",
       "    </tr>\n",
       "  </thead>\n",
       "  <tbody>\n",
       "    <tr>\n",
       "      <th>234</th>\n",
       "      <td>234</td>\n",
       "      <td>2016.08.03.420.04.JPG</td>\n",
       "      <td>1</td>\n",
       "      <td>540.0</td>\n",
       "      <td>2407.0</td>\n",
       "      <td>695.0</td>\n",
       "      <td>2532.0</td>\n",
       "      <td>953.0</td>\n",
       "      <td>2598.0</td>\n",
       "      <td>1120.0</td>\n",
       "      <td>...</td>\n",
       "      <td>659.0</td>\n",
       "      <td>2270.0</td>\n",
       "      <td>922.0</td>\n",
       "      <td>2419.0</td>\n",
       "      <td>1718.0</td>\n",
       "      <td>2413.0</td>\n",
       "      <td>2954.0</td>\n",
       "      <td>2183.0</td>\n",
       "      <td>3456</td>\n",
       "      <td>4608</td>\n",
       "    </tr>\n",
       "  </tbody>\n",
       "</table>\n",
       "<p>1 rows × 43 columns</p>\n",
       "</div>"
      ],
      "text/plain": [
       "     Unnamed: 0               filename  whale_id  rostrum_x  rostrum_y  \\\n",
       "234         234  2016.08.03.420.04.JPG         1      540.0     2407.0   \n",
       "\n",
       "     side1_head1_x  side1_head1_y  side1_head2_x  side1_head2_y  side1_eye_x  \\\n",
       "234          695.0         2532.0          953.0         2598.0       1120.0   \n",
       "\n",
       "     ...  side2_head1_x  side2_head1_y  blowhole_x  blowhole_y  len_mid_x  \\\n",
       "234  ...          659.0         2270.0       922.0      2419.0     1718.0   \n",
       "\n",
       "     len_mid_y  fluke_x  fluke_y  Image.Length  Image.Width  \n",
       "234     2413.0   2954.0   2183.0          3456         4608  \n",
       "\n",
       "[1 rows x 43 columns]"
      ]
     },
     "execution_count": 20,
     "metadata": {},
     "output_type": "execute_result"
    }
   ],
   "source": []
  },
  {
   "cell_type": "code",
   "execution_count": 21,
   "id": "c3b7593b-6285-4343-a4a0-4000607185f3",
   "metadata": {},
   "outputs": [],
   "source": [
    "bbox_dict = dict()\n",
    "for index,row in keypoints_df.iterrows():\n",
    "    filename = row.filename[:-4]\n",
    "    value = bbox_dict.get(filename,list())\n",
    "    with open(bbox_label_path+filename+'.txt', 'r') as file:\n",
    "        for line in file:\n",
    "            components = line.split()\n",
    "            cx, cy, w, h = [float(x) for x in components[1:5]]\n",
    "            bbox = (cx,cy,w,h)\n",
    "            value.append(bbox)\n",
    "    bbox_dict[filename]=value\n",
    "\n",
    "    "
   ]
  },
  {
   "cell_type": "code",
   "execution_count": 22,
   "id": "bc734e1d-196b-431b-8128-43f8fd3b80c1",
   "metadata": {},
   "outputs": [
    {
     "name": "stdout",
     "output_type": "stream",
     "text": [
      "468\n"
     ]
    }
   ],
   "source": [
    "print(len(bbox_dict))"
   ]
  },
  {
   "cell_type": "markdown",
   "id": "0f99788a-9d83-468e-b192-9d4c9f0ff124",
   "metadata": {},
   "source": [
    "# Below cells contain code for \n",
    "\n",
    "1: matching whale bbox to correct whale in keypoints csv\n",
    "2: Creating a file for each image and adding the yolov8-pose format keypoint data to it.\n",
    "\n",
    "<h4>Yolov8 Pose Format</h4>\n",
    "class-index, bbox_values, keypoint_values\n",
    "\n",
    "keypoint_values can be 2D or 3D.\n",
    "2D => x,y\n",
    "3D => x,y,visibility"
   ]
  },
  {
   "cell_type": "code",
   "execution_count": 23,
   "id": "b6363de1-8d04-4e51-ab00-51494b1c55f0",
   "metadata": {},
   "outputs": [],
   "source": [
    "def match_whale_bbox(bboxes,mid_x,mid_y):\n",
    "    min_index = 0\n",
    "    min_dist=999999\n",
    "    for i in range(len(bboxes)):\n",
    "        cx,cy,_,_ = bboxes[i]\n",
    "        dist =( (cx-mid_x)**2 + (cy-mid_y)**2 )**(1/2)\n",
    "        if(dist<min_dist):\n",
    "            min_dist = dist\n",
    "            min_index = i\n",
    "    return i\n",
    "    \n",
    "    "
   ]
  },
  {
   "cell_type": "code",
   "execution_count": 27,
   "id": "a11a8b60-ed92-48af-9b2a-f4a065a00870",
   "metadata": {},
   "outputs": [],
   "source": [
    "def normalize(keypoints,h,w):\n",
    "    n = len(keypoints)\n",
    "    visibility=n//2\n",
    "    norm = [1]*(n+visibility)\n",
    "    for i in range(0,n,2):\n",
    "        norm[i+i//2]=keypoints[i]/w\n",
    "    for i in range(1,n,2):\n",
    "        norm[i+i//2]=keypoints[i]/h\n",
    "    return norm\n",
    "        "
   ]
  },
  {
   "cell_type": "code",
   "execution_count": 28,
   "id": "cbaa2b78-cdda-4fa3-9257-97216ccc6e55",
   "metadata": {},
   "outputs": [
    {
     "name": "stdout",
     "output_type": "stream",
     "text": [
      "File Name:  2016.06.25.06.01\n",
      "bbox dict:  [(0.431137, 0.509709, 0.431589, 0.316817)]\n",
      "Matched index:  0\n",
      "Len of pose:  62\n",
      "File Name:  2016.06.25.13.01\n",
      "bbox dict:  [(0.448391, 0.431564, 0.680966, 0.412458), (0.551563, 0.599074, 0.226324, 0.185185)]\n",
      "Matched index:  1\n",
      "Len of pose:  62\n",
      "File Name:  2016.06.25.16.01\n",
      "bbox dict:  [(0.513732, 0.226937, 0.41373, 0.275926), (0.475426, 0.129377, 0.16288, 0.087542), (0.606961, 0.490488, 0.439395, 0.375421), (0.513732, 0.226937, 0.41373, 0.275926), (0.475426, 0.129377, 0.16288, 0.087542), (0.606961, 0.490488, 0.439395, 0.375421)]\n",
      "Matched index:  5\n",
      "Len of pose:  62\n",
      "File Name:  2016.06.25.16.01\n",
      "bbox dict:  [(0.513732, 0.226937, 0.41373, 0.275926), (0.475426, 0.129377, 0.16288, 0.087542), (0.606961, 0.490488, 0.439395, 0.375421), (0.513732, 0.226937, 0.41373, 0.275926), (0.475426, 0.129377, 0.16288, 0.087542)]\n",
      "Matched index:  4\n",
      "Len of pose:  62\n",
      "File Name:  2016.06.25.16.02\n",
      "bbox dict:  [(0.445124, 0.429797, 0.193181, 0.136532)]\n",
      "Matched index:  0\n",
      "Len of pose:  62\n",
      "File Name:  2016.06.25.17.01\n",
      "bbox dict:  [(0.408145, 0.583922, 0.202556, 0.13468), (0.45412, 0.356566, 0.502841, 0.3399)]\n",
      "Matched index:  1\n",
      "Len of pose:  62\n",
      "File Name:  2016.06.25.17.02\n",
      "bbox dict:  [(0.433665, 0.636111, 0.276515, 0.144784), (0.534991, 0.385185, 0.660985, 0.437878), (0.433665, 0.636111, 0.276515, 0.144784), (0.534991, 0.385185, 0.660985, 0.437878)]\n",
      "Matched index:  3\n",
      "Len of pose:  62\n",
      "File Name:  2016.06.25.17.02\n",
      "bbox dict:  [(0.433665, 0.636111, 0.276515, 0.144784), (0.534991, 0.385185, 0.660985, 0.437878), (0.433665, 0.636111, 0.276515, 0.144784)]\n",
      "Matched index:  2\n",
      "Len of pose:  62\n",
      "File Name:  2016.06.25.17.03\n",
      "bbox dict:  [(0.507576, 0.286784, 0.225473, 0.176771), (0.514205, 0.447558, 0.566382, 0.353534)]\n",
      "Matched index:  1\n",
      "Len of pose:  62\n",
      "File Name:  2016.06.25.19.01\n",
      "bbox dict:  [(0.551184, 0.44234, 0.545454, 0.356902), (0.437027, 0.567004, 0.194223, 0.141246)]\n",
      "Matched index:  1\n",
      "Len of pose:  62\n",
      "File Name:  2016.06.25.19.02\n",
      "bbox dict:  [(0.539725, 0.609174, 0.534091, 0.313133)]\n",
      "Matched index:  0\n",
      "Len of pose:  62\n",
      "File Name:  2016.06.25.20.01\n",
      "bbox dict:  [(0.452675, 0.534485, 0.655406, 0.531532), (0.524887, 0.876076, 0.269427, 0.208711)]\n",
      "Matched index:  1\n",
      "Len of pose:  62\n",
      "File Name:  2016.06.25.20.02\n",
      "bbox dict:  [(0.599479, 0.806144, 0.285985, 0.21549), (0.531203, 0.460858, 0.653409, 0.49495)]\n",
      "Matched index:  1\n",
      "Len of pose:  62\n",
      "File Name:  2016.06.25.21.02\n",
      "bbox dict:  [(0.554448, 0.575025, 0.465371, 0.360359), (0.639753, 0.726676, 0.200169, 0.195197), (0.554448, 0.575025, 0.465371, 0.360359), (0.639753, 0.726676, 0.200169, 0.195197)]\n",
      "Matched index:  3\n",
      "Len of pose:  62\n",
      "File Name:  2016.06.25.21.02\n",
      "bbox dict:  [(0.554448, 0.575025, 0.465371, 0.360359), (0.639753, 0.726676, 0.200169, 0.195197), (0.554448, 0.575025, 0.465371, 0.360359)]\n",
      "Matched index:  2\n",
      "Len of pose:  62\n",
      "File Name:  2016.06.25.21.03\n",
      "bbox dict:  [(0.448911, 0.513974, 0.49053, 0.331481), (0.454593, 0.865741, 0.204546, 0.119529)]\n",
      "Matched index:  1\n",
      "Len of pose:  62\n",
      "File Name:  2016.06.25.21.04\n",
      "bbox dict:  [(0.456961, 0.870118, 0.211174, 0.131316), (0.448864, 0.508924, 0.483049, 0.321381)]\n",
      "Matched index:  1\n",
      "Len of pose:  62\n",
      "File Name:  2016.06.26.23.01\n",
      "bbox dict:  [(0.494934, 0.430619, 0.50505, 0.242425), (0.636979, 0.675569, 0.195707, 0.089227), (0.494934, 0.430619, 0.50505, 0.242425), (0.636979, 0.675569, 0.195707, 0.089227)]\n",
      "Matched index:  3\n",
      "Len of pose:  62\n",
      "File Name:  2016.06.26.23.01\n",
      "bbox dict:  [(0.494934, 0.430619, 0.50505, 0.242425), (0.636979, 0.675569, 0.195707, 0.089227), (0.494934, 0.430619, 0.50505, 0.242425)]\n",
      "Matched index:  2\n",
      "Len of pose:  62\n",
      "File Name:  2016.06.26.23.02\n",
      "bbox dict:  [(0.495496, 0.426427, 0.493244, 0.222222), (0.636262, 0.673423, 0.18018, 0.079578), (0.495496, 0.426427, 0.493244, 0.222222), (0.636262, 0.673423, 0.18018, 0.079578)]\n",
      "Matched index:  3\n",
      "Len of pose:  62\n",
      "File Name:  2016.06.26.23.02\n",
      "bbox dict:  [(0.495496, 0.426427, 0.493244, 0.222222), (0.636262, 0.673423, 0.18018, 0.079578), (0.495496, 0.426427, 0.493244, 0.222222)]\n",
      "Matched index:  2\n",
      "Len of pose:  62\n",
      "File Name:  2016.06.26.24.01\n",
      "bbox dict:  [(0.45958, 0.544255, 0.169191, 0.338383)]\n",
      "Matched index:  0\n",
      "Len of pose:  62\n",
      "File Name:  2016.06.26.25.01\n",
      "bbox dict:  [(0.484201, 0.553514, 0.503789, 0.252526)]\n",
      "Matched index:  0\n",
      "Len of pose:  62\n",
      "File Name:  2016.06.26.26.04\n",
      "bbox dict:  [(0.402027, 0.62012, 0.229731, 0.14715), (0.4375, 0.436186, 0.600226, 0.274774)]\n",
      "Matched index:  1\n",
      "Len of pose:  62\n",
      "File Name:  2016.06.26.27.03\n",
      "bbox dict:  [(0.454529, 0.545097, 0.558082, 0.249158), (0.663494, 0.413785, 0.205807, 0.094277)]\n",
      "Matched index:  1\n",
      "Len of pose:  62\n",
      "File Name:  2016.06.26.27.04\n",
      "bbox dict:  [(0.644555, 0.447454, 0.220959, 0.124578)]\n",
      "Matched index:  0\n",
      "Len of pose:  62\n",
      "File Name:  2016.06.26.28.04\n",
      "bbox dict:  [(0.539125, 0.526578, 0.212122, 0.097642)]\n",
      "Matched index:  0\n",
      "Len of pose:  62\n",
      "File Name:  2016.06.27.33.02\n",
      "bbox dict:  [(0.647712, 0.471023, 0.252524, 0.23906)]\n",
      "Matched index:  0\n",
      "Len of pose:  62\n",
      "File Name:  2016.06.27.35.04\n",
      "bbox dict:  [(0.44001, 0.609912, 0.243687, 0.237376)]\n",
      "Matched index:  0\n",
      "Len of pose:  62\n",
      "File Name:  2016.06.27.37.02\n",
      "bbox dict:  [(0.601625, 0.809405, 0.210859, 0.10101), (0.436853, 0.399475, 0.462122, 0.250842)]\n",
      "Matched index:  1\n",
      "Len of pose:  62\n",
      "File Name:  2016.06.27.37.04\n",
      "bbox dict:  [(0.265136, 0.561931, 0.242424, 0.10101)]\n",
      "Matched index:  0\n",
      "Len of pose:  62\n",
      "File Name:  2016.06.27.38.02\n",
      "bbox dict:  [(0.527131, 0.391898, 0.223485, 0.161615)]\n",
      "Matched index:  0\n",
      "Len of pose:  62\n",
      "File Name:  2016.06.27.42.01\n",
      "bbox dict:  [(0.385717, 0.607386, 0.200757, 0.087543), (0.528393, 0.447454, 0.549243, 0.252523)]\n",
      "Matched index:  1\n",
      "Len of pose:  62\n",
      "File Name:  2016.06.27.43.02\n",
      "bbox dict:  [(0.497459, 0.487859, 0.255052, 0.111111)]\n",
      "Matched index:  0\n",
      "Len of pose:  62\n",
      "File Name:  2016.06.27.43.04\n",
      "bbox dict:  [(0.462737, 0.50806, 0.289141, 0.24579)]\n",
      "Matched index:  0\n",
      "Len of pose:  62\n",
      "File Name:  2016.06.27.44.01\n",
      "bbox dict:  [(0.488175, 0.621622, 0.537161, 0.27928), (0.436374, 0.469219, 0.183559, 0.091591), (0.488175, 0.621622, 0.537161, 0.27928), (0.436374, 0.469219, 0.183559, 0.091591)]\n",
      "Matched index:  3\n",
      "Len of pose:  62\n",
      "File Name:  2016.06.27.44.01\n",
      "bbox dict:  [(0.488175, 0.621622, 0.537161, 0.27928), (0.436374, 0.469219, 0.183559, 0.091591), (0.488175, 0.621622, 0.537161, 0.27928)]\n",
      "Matched index:  2\n",
      "Len of pose:  62\n",
      "File Name:  2016.06.27.45.02\n",
      "bbox dict:  [(0.543545, 0.561933, 0.200757, 0.090909), (0.464631, 0.626746, 0.530304, 0.284511)]\n",
      "Matched index:  1\n",
      "Len of pose:  62\n",
      "File Name:  2016.06.27.46.01\n",
      "bbox dict:  [(0.737358, 0.382639, 0.20202, 0.368686)]\n",
      "Matched index:  0\n",
      "Len of pose:  62\n",
      "File Name:  2016.06.27.47.01\n",
      "bbox dict:  [(0.445945, 0.488738, 0.682433, 0.364867), (0.317005, 0.640389, 0.262387, 0.145645)]\n",
      "Matched index:  1\n",
      "Len of pose:  62\n",
      "File Name:  2016.06.27.47.02\n",
      "bbox dict:  [(0.429909, 0.654524, 0.294193, 0.175084)]\n",
      "Matched index:  0\n",
      "Len of pose:  62\n",
      "File Name:  2016.06.27.52.02\n",
      "bbox dict:  [(0.543544, 0.52742, 0.097222, 0.287879)]\n",
      "Matched index:  0\n",
      "Len of pose:  62\n",
      "File Name:  2016.06.27.52.05\n",
      "bbox dict:  [(0.572585, 0.503009, 0.640152, 0.276094)]\n",
      "Matched index:  0\n",
      "Len of pose:  62\n",
      "File Name:  2016.06.28.55.02\n",
      "bbox dict:  [(0.465515, 0.590383, 0.646465, 0.289563), (0.489884, 0.734491, 0.257576, 0.095961)]\n",
      "Matched index:  1\n",
      "Len of pose:  62\n",
      "File Name:  2016.06.28.55.03\n",
      "bbox dict:  [(0.54102, 0.476916, 0.652778, 0.29798), (0.42107, 0.593918, 0.251263, 0.124578)]\n",
      "Matched index:  1\n",
      "Len of pose:  62\n",
      "File Name:  2016.06.28.58.01\n",
      "bbox dict:  [(0.436937, 0.406907, 0.533783, 0.37838), (0.523085, 0.635885, 0.221847, 0.130631)]\n",
      "Matched index:  1\n",
      "Len of pose:  62\n",
      "File Name:  2016.06.28.58.02\n",
      "bbox dict:  [(0.448848, 0.604019, 0.084596, 0.336701), (0.506297, 0.410417, 0.214646, 0.79798)]\n",
      "Matched index:  1\n",
      "Len of pose:  62\n",
      "File Name:  2016.06.28.61.03\n",
      "bbox dict:  [(0.522712, 0.198296, 0.26515, 0.127946), (0.566272, 0.391898, 0.690655, 0.407407), (0.522712, 0.198296, 0.26515, 0.127946), (0.566272, 0.391898, 0.690655, 0.407407)]\n",
      "Matched index:  3\n",
      "Len of pose:  62\n",
      "File Name:  2016.06.28.61.03\n",
      "bbox dict:  [(0.522712, 0.198296, 0.26515, 0.127946), (0.566272, 0.391898, 0.690655, 0.407407), (0.522712, 0.198296, 0.26515, 0.127946)]\n",
      "Matched index:  2\n",
      "Len of pose:  62\n",
      "File Name:  2016.06.28.61.04\n",
      "bbox dict:  [(0.433697, 0.298464, 0.286617, 0.1532), (0.50251, 0.474389, 0.70202, 0.3468), (0.433697, 0.298464, 0.286617, 0.1532), (0.50251, 0.474389, 0.70202, 0.3468)]\n",
      "Matched index:  3\n",
      "Len of pose:  62\n",
      "File Name:  2016.06.28.61.04\n",
      "bbox dict:  [(0.433697, 0.298464, 0.286617, 0.1532), (0.50251, 0.474389, 0.70202, 0.3468), (0.433697, 0.298464, 0.286617, 0.1532)]\n",
      "Matched index:  2\n",
      "Len of pose:  62\n",
      "File Name:  2016.06.28.62.04\n",
      "bbox dict:  [(0.521449, 0.408733, 0.580809, 0.424242), (0.552383, 0.689036, 0.236111, 0.170035)]\n",
      "Matched index:  1\n",
      "Len of pose:  62\n",
      "File Name:  2016.06.28.63.02\n",
      "bbox dict:  [(0.494302, 0.608229, 0.647728, 0.294612), (0.428014, 0.39274, 0.280304, 0.109427), (0.494302, 0.608229, 0.647728, 0.294612), (0.428014, 0.39274, 0.280304, 0.109427)]\n",
      "Matched index:  3\n",
      "Len of pose:  62\n",
      "File Name:  2016.06.28.63.02\n",
      "bbox dict:  [(0.494302, 0.608229, 0.647728, 0.294612), (0.428014, 0.39274, 0.280304, 0.109427), (0.494302, 0.608229, 0.647728, 0.294612)]\n",
      "Matched index:  2\n",
      "Len of pose:  62\n",
      "File Name:  2016.06.28.63.03\n",
      "bbox dict:  [(0.47852, 0.365803, 0.676766, 0.345119), (0.419808, 0.487857, 0.246213, 0.161617)]\n",
      "Matched index:  1\n",
      "Len of pose:  62\n",
      "File Name:  2016.06.28.63.04\n",
      "bbox dict:  [(0.415388, 0.37422, 0.676766, 0.341751), (0.441273, 0.520687, 0.268939, 0.139731)]\n",
      "Matched index:  1\n",
      "Len of pose:  62\n",
      "File Name:  2016.06.28.64.01\n",
      "bbox dict:  [(0.367409, 0.340551, 0.20707, 0.085859), (0.505666, 0.431461, 0.536615, 0.244109)]\n",
      "Matched index:  1\n",
      "Len of pose:  62\n",
      "File Name:  2016.06.28.65.02\n",
      "bbox dict:  [(0.438747, 0.455872, 0.13005, 0.397306)]\n",
      "Matched index:  0\n",
      "Len of pose:  62\n",
      "File Name:  2016.06.28.65.04\n",
      "bbox dict:  [(0.488621, 0.61412, 0.631313, 0.309763), (0.611096, 0.354021, 0.247474, 0.139731), (0.488621, 0.61412, 0.631313, 0.309763), (0.611096, 0.354021, 0.247474, 0.139731)]\n",
      "Matched index:  3\n",
      "Len of pose:  62\n",
      "File Name:  2016.06.28.65.04\n",
      "bbox dict:  [(0.488621, 0.61412, 0.631313, 0.309763), (0.611096, 0.354021, 0.247474, 0.139731), (0.488621, 0.61412, 0.631313, 0.309763)]\n",
      "Matched index:  2\n",
      "Len of pose:  62\n",
      "File Name:  2016.06.28.67.01\n",
      "bbox dict:  [(0.428015, 0.529103, 0.535354, 0.314815)]\n",
      "Matched index:  0\n",
      "Len of pose:  62\n",
      "File Name:  2016.06.28.67.02\n",
      "bbox dict:  [(0.379404, 0.327925, 0.311868, 0.181817)]\n",
      "Matched index:  0\n",
      "Len of pose:  62\n",
      "File Name:  2016.06.28.68.01\n",
      "bbox dict:  [(0.372459, 0.20082, 0.199497, 0.119528), (0.559959, 0.554356, 0.483585, 0.220541)]\n",
      "Matched index:  1\n",
      "Len of pose:  62\n",
      "File Name:  2016.06.28.69.01\n",
      "bbox dict:  [(0.534074, 0.492066, 0.507576, 0.277778), (0.580792, 0.311091, 0.191918, 0.127946), (0.534074, 0.492066, 0.507576, 0.277778), (0.580792, 0.311091, 0.191918, 0.127946)]\n",
      "Matched index:  3\n",
      "Len of pose:  62\n",
      "File Name:  2016.06.28.69.01\n",
      "bbox dict:  [(0.534074, 0.492066, 0.507576, 0.277778), (0.580792, 0.311091, 0.191918, 0.127946), (0.534074, 0.492066, 0.507576, 0.277778)]\n",
      "Matched index:  2\n",
      "Len of pose:  62\n",
      "File Name:  2016.06.28.69.03\n",
      "bbox dict:  [(0.542913, 0.426409, 0.580809, 0.281146), (0.381929, 0.682302, 0.205807, 0.210437), (0.542913, 0.426409, 0.580809, 0.281146), (0.381929, 0.682302, 0.205807, 0.210437)]\n",
      "Matched index:  3\n",
      "Len of pose:  62\n",
      "File Name:  2016.06.28.69.03\n",
      "bbox dict:  [(0.542913, 0.426409, 0.580809, 0.281146), (0.381929, 0.682302, 0.205807, 0.210437), (0.542913, 0.426409, 0.580809, 0.281146)]\n",
      "Matched index:  2\n",
      "Len of pose:  62\n",
      "File Name:  2016.06.28.69.04\n",
      "bbox dict:  [(0.549549, 0.498498, 0.556306, 0.264265), (0.481982, 0.848348, 0.213965, 0.174172)]\n",
      "Matched index:  1\n",
      "Len of pose:  62\n",
      "File Name:  2016.06.28.71.02\n",
      "bbox dict:  [(0.49304, 0.369171, 0.554293, 0.607746), (0.482307, 0.498801, 0.19697, 0.19697)]\n",
      "Matched index:  1\n",
      "Len of pose:  62\n",
      "File Name:  2016.06.28.72.02\n",
      "bbox dict:  [(0.4015, 0.496275, 0.505052, 0.289563), (0.510085, 0.781629, 0.209596, 0.106059)]\n",
      "Matched index:  1\n",
      "Len of pose:  62\n",
      "File Name:  2016.06.28.74.01\n",
      "bbox dict:  [(0.316903, 0.472707, 0.53283, 0.414141)]\n",
      "Matched index:  0\n",
      "Len of pose:  62\n",
      "File Name:  2016.06.28.75.01\n",
      "bbox dict:  [(0.513873, 0.420518, 0.628787, 0.511782), (0.470312, 0.616645, 0.220959, 0.136363)]\n",
      "Matched index:  1\n",
      "Len of pose:  62\n",
      "File Name:  2016.06.28.75.03\n",
      "bbox dict:  [(0.383823, 0.375064, 0.335857, 0.208756), (0.539125, 0.525736, 0.626263, 0.415825)]\n",
      "Matched index:  1\n",
      "Len of pose:  62\n",
      "File Name:  2016.06.28.76.03\n",
      "bbox dict:  [(0.550489, 0.601495, 0.593435, 0.402358), (0.542913, 0.46934, 0.23485, 0.127946)]\n",
      "Matched index:  1\n",
      "Len of pose:  62\n",
      "File Name:  2016.06.29.77.01\n",
      "bbox dict:  [(0.410337, 0.524054, 0.482324, 0.237373)]\n",
      "Matched index:  0\n",
      "Len of pose:  62\n",
      "File Name:  2016.06.29.79.02\n",
      "bbox dict:  [(0.592906, 0.44069, 0.462839, 0.175674), (0.534347, 0.565315, 0.190317, 0.094595), (0.592906, 0.44069, 0.462839, 0.175674), (0.534347, 0.565315, 0.190317, 0.094595)]\n",
      "Matched index:  3\n",
      "Len of pose:  62\n",
      "File Name:  2016.06.29.79.02\n",
      "bbox dict:  [(0.592906, 0.44069, 0.462839, 0.175674), (0.534347, 0.565315, 0.190317, 0.094595), (0.592906, 0.44069, 0.462839, 0.175674)]\n",
      "Matched index:  2\n",
      "Len of pose:  62\n",
      "File Name:  2016.06.29.82.02\n",
      "bbox dict:  [(0.481676, 0.547622, 0.218435, 0.1532)]\n",
      "Matched index:  0\n",
      "Len of pose:  62\n",
      "File Name:  2016.06.29.88.01\n",
      "bbox dict:  [(0.552383, 0.556039, 0.501263, 0.277778), (0.511979, 0.395265, 0.218433, 0.151513), (0.552383, 0.556039, 0.501263, 0.277778), (0.511979, 0.395265, 0.218433, 0.151513)]\n",
      "Matched index:  3\n",
      "Len of pose:  62\n",
      "File Name:  2016.06.29.88.01\n",
      "bbox dict:  [(0.552383, 0.556039, 0.501263, 0.277778), (0.511979, 0.395265, 0.218433, 0.151513), (0.552383, 0.556039, 0.501263, 0.277778)]\n",
      "Matched index:  2\n",
      "Len of pose:  62\n",
      "File Name:  2016.06.29.88.02\n",
      "bbox dict:  [(0.554909, 0.554356, 0.501263, 0.284511), (0.508823, 0.399473, 0.21212, 0.143096)]\n",
      "Matched index:  1\n",
      "Len of pose:  62\n",
      "File Name:  2016.06.29.88.03\n",
      "bbox dict:  [(0.407181, 0.585501, 0.286615, 0.62963), (0.362358, 0.524054, 0.108587, 0.260943)]\n",
      "Matched index:  1\n",
      "Len of pose:  62\n",
      "File Name:  2016.06.29.88.05\n",
      "bbox dict:  [(0.509453, 0.306881, 0.125, 0.277778), (0.505035, 0.561089, 0.305556, 0.638047), (0.509453, 0.306881, 0.125, 0.277778), (0.505035, 0.561089, 0.305556, 0.638047)]\n",
      "Matched index:  3\n",
      "Len of pose:  62\n",
      "File Name:  2016.06.29.88.05\n",
      "bbox dict:  [(0.509453, 0.306881, 0.125, 0.277778), (0.505035, 0.561089, 0.305556, 0.638047), (0.509453, 0.306881, 0.125, 0.277778)]\n",
      "Matched index:  2\n",
      "Len of pose:  62\n",
      "File Name:  2016.06.29.89.03\n",
      "bbox dict:  [(0.309328, 0.505534, 0.227272, 0.25421), (0.564378, 0.477758, 0.54798, 0.51515)]\n",
      "Matched index:  1\n",
      "Len of pose:  62\n",
      "File Name:  2016.06.29.90.01\n",
      "bbox dict:  [(0.355293, 0.421172, 0.58671, 0.307807), (0.47973, 0.525527, 0.236487, 0.114115)]\n",
      "Matched index:  1\n",
      "Len of pose:  62\n",
      "File Name:  2016.06.29.90.03\n",
      "bbox dict:  [(0.469681, 0.500483, 0.199497, 0.109427), (0.527131, 0.608228, 0.599748, 0.271045), (0.469681, 0.500483, 0.199497, 0.109427), (0.527131, 0.608228, 0.599748, 0.271045)]\n",
      "Matched index:  3\n",
      "Len of pose:  62\n",
      "File Name:  2016.06.29.90.03\n",
      "bbox dict:  [(0.469681, 0.500483, 0.199497, 0.109427), (0.527131, 0.608228, 0.599748, 0.271045), (0.469681, 0.500483, 0.199497, 0.109427)]\n",
      "Matched index:  2\n",
      "Len of pose:  62\n",
      "File Name:  2016.06.29.91.04\n",
      "bbox dict:  [(0.453829, 0.356606, 0.240992, 0.172674), (0.569257, 0.527778, 0.54617, 0.250752)]\n",
      "Matched index:  1\n",
      "Len of pose:  62\n",
      "File Name:  2016.06.29.92.01\n",
      "bbox dict:  [(0.454391, 0.557056, 0.503379, 0.27928), (0.499437, 0.641141, 0.224099, 0.09009), (0.454391, 0.557056, 0.503379, 0.27928), (0.499437, 0.641141, 0.224099, 0.09009)]\n",
      "Matched index:  3\n",
      "Len of pose:  62\n",
      "File Name:  2016.06.29.92.01\n",
      "bbox dict:  [(0.454391, 0.557056, 0.503379, 0.27928), (0.499437, 0.641141, 0.224099, 0.09009), (0.454391, 0.557056, 0.503379, 0.27928)]\n",
      "Matched index:  2\n",
      "Len of pose:  62\n",
      "File Name:  2016.06.29.93.03\n",
      "bbox dict:  [(0.523342, 0.717656, 0.486111, 0.44276), (0.496197, 0.534155, 0.174243, 0.186869)]\n",
      "Matched index:  1\n",
      "Len of pose:  62\n",
      "File Name:  2016.07.01.96.02\n",
      "bbox dict:  [(0.416098, 0.618618, 0.237622, 0.165165)]\n",
      "Matched index:  0\n",
      "Len of pose:  62\n",
      "File Name:  2016.07.01.100.02\n",
      "bbox dict:  [(0.705518, 0.538288, 0.221847, 0.124627)]\n",
      "Matched index:  0\n",
      "Len of pose:  62\n",
      "File Name:  2016.07.01.104.02\n",
      "bbox dict:  [(0.468468, 0.474475, 0.247747, 0.135136)]\n",
      "Matched index:  0\n",
      "Len of pose:  62\n",
      "File Name:  2016.07.01.106.01\n",
      "bbox dict:  [(0.45045, 0.22072, 0.20946, 0.096094), (0.47241, 0.545796, 0.467342, 0.247749), (0.45045, 0.22072, 0.20946, 0.096094), (0.47241, 0.545796, 0.467342, 0.247749)]\n",
      "Matched index:  3\n",
      "Len of pose:  62\n",
      "File Name:  2016.07.01.106.01\n",
      "bbox dict:  [(0.45045, 0.22072, 0.20946, 0.096094), (0.47241, 0.545796, 0.467342, 0.247749), (0.45045, 0.22072, 0.20946, 0.096094)]\n",
      "Matched index:  2\n",
      "Len of pose:  62\n",
      "File Name:  2016.07.01.108.02\n",
      "bbox dict:  [(0.401464, 0.423424, 0.215089, 0.207208), (0.434684, 0.528529, 0.484234, 0.468469)]\n",
      "Matched index:  1\n",
      "Len of pose:  62\n",
      "File Name:  2016.07.01.110.03\n",
      "bbox dict:  [(0.660969, 0.465132, 0.231061, 0.267677)]\n",
      "Matched index:  0\n",
      "Len of pose:  62\n",
      "File Name:  2016.07.01.111.02\n",
      "bbox dict:  [(0.486096, 0.396949, 0.747474, 0.400674), (0.25756, 0.342235, 0.285354, 0.163302), (0.486096, 0.396949, 0.747474, 0.400674), (0.25756, 0.342235, 0.285354, 0.163302)]\n",
      "Matched index:  3\n",
      "Len of pose:  62\n",
      "File Name:  2016.07.01.111.02\n",
      "bbox dict:  [(0.486096, 0.396949, 0.747474, 0.400674), (0.25756, 0.342235, 0.285354, 0.163302), (0.486096, 0.396949, 0.747474, 0.400674)]\n",
      "Matched index:  2\n",
      "Len of pose:  62\n",
      "File Name:  2016.07.01.112.04\n",
      "bbox dict:  [(0.391892, 0.544294, 0.195946, 0.136638)]\n",
      "Matched index:  0\n",
      "Len of pose:  62\n",
      "File Name:  2016.07.01.112.05\n",
      "bbox dict:  [(0.659706, 0.462606, 0.213383, 0.319864)]\n",
      "Matched index:  0\n",
      "Len of pose:  62\n",
      "File Name:  2016.07.01.113.02\n",
      "bbox dict:  [(0.372459, 0.714288, 0.28283, 0.203704)]\n",
      "Matched index:  0\n",
      "Len of pose:  62\n",
      "File Name:  2016.07.01.114.02\n",
      "bbox dict:  [(0.438747, 0.635165, 0.299243, 0.244109)]\n",
      "Matched index:  0\n",
      "Len of pose:  62\n",
      "File Name:  2016.07.01.115.02\n",
      "bbox dict:  [(0.541651, 0.422202, 0.20707, 0.111111)]\n",
      "Matched index:  0\n",
      "Len of pose:  62\n",
      "File Name:  2016.07.01.116.02\n",
      "bbox dict:  [(0.318798, 0.629272, 0.220959, 0.191918), (0.571956, 0.62422, 0.530306, 0.232323)]\n",
      "Matched index:  1\n",
      "Len of pose:  62\n",
      "File Name:  2016.07.01.116.03\n",
      "bbox dict:  [(0.552384, 0.678935, 0.549243, 0.244109), (0.29165, 0.710081, 0.242424, 0.20202)]\n",
      "Matched index:  1\n",
      "Len of pose:  62\n",
      "File Name:  2016.07.02.121.01\n",
      "bbox dict:  [(0.433065, 0.390214, 0.191921, 0.164983), (0.470312, 0.512269, 0.491163, 0.395625), (0.433065, 0.390214, 0.191921, 0.164983), (0.470312, 0.512269, 0.491163, 0.395625)]\n",
      "Matched index:  3\n",
      "Len of pose:  62\n",
      "File Name:  2016.07.02.121.01\n",
      "bbox dict:  [(0.433065, 0.390214, 0.191921, 0.164983), (0.470312, 0.512269, 0.491163, 0.395625), (0.433065, 0.390214, 0.191921, 0.164983)]\n",
      "Matched index:  2\n",
      "Len of pose:  62\n",
      "File Name:  2016.07.02.123.03\n",
      "bbox dict:  [(0.40991, 0.490991, 0.509008, 0.384384), (0.427364, 0.406907, 0.192567, 0.13213)]\n",
      "Matched index:  1\n",
      "Len of pose:  62\n",
      "File Name:  2016.07.02.123.05\n",
      "bbox dict:  [(0.469681, 0.520686, 0.54293, 0.281146), (0.247459, 0.496275, 0.209596, 0.138047), (0.469681, 0.520686, 0.54293, 0.281146), (0.247459, 0.496275, 0.209596, 0.138047)]\n",
      "Matched index:  3\n",
      "Len of pose:  62\n",
      "File Name:  2016.07.02.123.05\n",
      "bbox dict:  [(0.469681, 0.520686, 0.54293, 0.281146), (0.247459, 0.496275, 0.209596, 0.138047), (0.469681, 0.520686, 0.54293, 0.281146)]\n",
      "Matched index:  2\n",
      "Len of pose:  62\n",
      "File Name:  2016.07.02.124.03\n",
      "bbox dict:  [(0.469681, 0.39274, 0.477274, 0.234005), (0.527131, 0.524052, 0.198234, 0.143099)]\n",
      "Matched index:  1\n",
      "Len of pose:  62\n",
      "File Name:  2016.07.02.126.03\n",
      "bbox dict:  [(0.467905, 0.41967, 0.494368, 0.527025), (0.449887, 0.627627, 0.152027, 0.177176), (0.467905, 0.41967, 0.494368, 0.527025), (0.449887, 0.627627, 0.152027, 0.177176)]\n",
      "Matched index:  3\n",
      "Len of pose:  62\n",
      "File Name:  2016.07.02.126.03\n",
      "bbox dict:  [(0.467905, 0.41967, 0.494368, 0.527025), (0.449887, 0.627627, 0.152027, 0.177176), (0.467905, 0.41967, 0.494368, 0.527025)]\n",
      "Matched index:  2\n",
      "Len of pose:  62\n",
      "File Name:  2016.07.02.126.04\n",
      "bbox dict:  [(0.446323, 0.40284, 0.559342, 0.247474), (0.387611, 0.550148, 0.227274, 0.117847), (0.446323, 0.40284, 0.559342, 0.247474), (0.387611, 0.550148, 0.227274, 0.117847)]\n",
      "Matched index:  3\n",
      "Len of pose:  62\n",
      "File Name:  2016.07.02.126.04\n",
      "bbox dict:  [(0.446323, 0.40284, 0.559342, 0.247474), (0.387611, 0.550148, 0.227274, 0.117847), (0.446323, 0.40284, 0.559342, 0.247474)]\n",
      "Matched index:  2\n",
      "Len of pose:  62\n",
      "File Name:  2016.07.02.126.05\n",
      "bbox dict:  [(0.480413, 0.455029, 0.488635, 0.412459), (0.400868, 0.419676, 0.20076, 0.166667), (0.480413, 0.455029, 0.488635, 0.412459), (0.400868, 0.419676, 0.20076, 0.166667)]\n",
      "Matched index:  3\n",
      "Len of pose:  62\n",
      "File Name:  2016.07.02.126.05\n",
      "bbox dict:  [(0.480413, 0.455029, 0.488635, 0.412459), (0.400868, 0.419676, 0.20076, 0.166667), (0.480413, 0.455029, 0.488635, 0.412459)]\n",
      "Matched index:  2\n",
      "Len of pose:  62\n",
      "File Name:  2016.07.02.126.06\n",
      "bbox dict:  [(0.575111, 0.52742, 0.453281, 0.45623), (0.488621, 0.497959, 0.189395, 0.218857)]\n",
      "Matched index:  1\n",
      "Len of pose:  62\n",
      "File Name:  2016.07.02.128.01\n",
      "bbox dict:  [(0.371196, 0.539204, 0.54293, 0.429294), (0.672963, 0.469339, 0.199494, 0.12458)]\n",
      "Matched index:  1\n",
      "Len of pose:  62\n",
      "File Name:  2016.07.02.128.02\n",
      "bbox dict:  [(0.39203, 0.503851, 0.213383, 0.203704), (0.181179, 0.41715, 0.362359, 0.316499)]\n",
      "Matched index:  1\n",
      "Len of pose:  62\n",
      "File Name:  2016.07.02.129.01\n",
      "bbox dict:  [(0.510086, 0.520686, 0.532828, 0.314815)]\n",
      "Matched index:  0\n",
      "Len of pose:  62\n",
      "File Name:  2016.07.02.129.02\n",
      "bbox dict:  [(0.217164, 0.62338, 0.434327, 0.29798), (0.582687, 0.368329, 0.233585, 0.151513)]\n",
      "Matched index:  1\n",
      "Len of pose:  62\n",
      "File Name:  2016.07.02.129.03\n",
      "bbox dict:  [(0.311374, 0.464715, 0.507882, 0.439939), (0.501126, 0.469219, 0.171172, 0.199699)]\n",
      "Matched index:  1\n",
      "Len of pose:  62\n",
      "File Name:  2016.07.02.132.03\n",
      "bbox dict:  [(0.455792, 0.473549, 0.116163, 0.287879), (0.629403, 0.646949, 0.34217, 0.651513), (0.455792, 0.473549, 0.116163, 0.287879), (0.629403, 0.646949, 0.34217, 0.651513)]\n",
      "Matched index:  3\n",
      "Len of pose:  62\n",
      "File Name:  2016.07.02.132.03\n",
      "bbox dict:  [(0.455792, 0.473549, 0.116163, 0.287879), (0.629403, 0.646949, 0.34217, 0.651513), (0.455792, 0.473549, 0.116163, 0.287879)]\n",
      "Matched index:  2\n",
      "Len of pose:  62\n",
      "File Name:  2016.07.02.133.01\n",
      "bbox dict:  [(0.318165, 0.43651, 0.464646, 0.429294), (0.391399, 0.660417, 0.20202, 0.116163)]\n",
      "Matched index:  1\n",
      "Len of pose:  62\n",
      "File Name:  2016.07.02.133.02\n",
      "bbox dict:  [(0.316904, 0.434828, 0.464646, 0.419193), (0.392029, 0.658733, 0.210859, 0.132998)]\n",
      "Matched index:  1\n",
      "Len of pose:  62\n",
      "File Name:  2016.07.02.134.02\n",
      "bbox dict:  [(0.486096, 0.245434, 0.580807, 0.430978), (0.535337, 0.430619, 0.285354, 0.168351)]\n",
      "Matched index:  1\n",
      "Len of pose:  62\n",
      "File Name:  2016.07.02.134.04\n",
      "bbox dict:  [(0.482307, 0.380114, 0.25, 0.178452)]\n",
      "Matched index:  0\n",
      "Len of pose:  62\n",
      "File Name:  2016.07.03.141.02\n",
      "bbox dict:  [(0.556802, 0.485333, 0.237372, 0.116163)]\n",
      "Matched index:  0\n",
      "Len of pose:  62\n",
      "File Name:  2016.07.03.145.01\n",
      "bbox dict:  [(0.376247, 0.455871, 0.575757, 0.309763), (0.446323, 0.626746, 0.200757, 0.200339)]\n",
      "Matched index:  1\n",
      "Len of pose:  62\n",
      "File Name:  2016.07.03.146.03\n",
      "bbox dict:  [(0.44001, 0.47944, 0.468435, 0.602694), (0.41602, 0.621696, 0.155304, 0.301348), (0.44001, 0.47944, 0.468435, 0.602694), (0.41602, 0.621696, 0.155304, 0.301348)]\n",
      "Matched index:  3\n",
      "Len of pose:  62\n",
      "File Name:  2016.07.03.146.03\n",
      "bbox dict:  [(0.44001, 0.47944, 0.468435, 0.602694), (0.41602, 0.621696, 0.155304, 0.301348), (0.44001, 0.47944, 0.468435, 0.602694)]\n",
      "Matched index:  2\n",
      "Len of pose:  62\n",
      "File Name:  2016.07.03.147.02\n",
      "bbox dict:  [(0.433696, 0.544255, 0.594696, 0.193602), (0.663495, 0.594758, 0.279043, 0.126264), (0.433696, 0.544255, 0.594696, 0.193602), (0.663495, 0.594758, 0.279043, 0.126264)]\n",
      "Matched index:  3\n",
      "Len of pose:  62\n",
      "File Name:  2016.07.03.147.02\n",
      "bbox dict:  [(0.433696, 0.544255, 0.594696, 0.193602), (0.663495, 0.594758, 0.279043, 0.126264), (0.433696, 0.544255, 0.594696, 0.193602)]\n",
      "Matched index:  2\n",
      "Len of pose:  62\n",
      "File Name:  2016.07.03.148.03\n",
      "bbox dict:  [(0.611726, 0.418834, 0.63005, 0.309763)]\n",
      "Matched index:  0\n",
      "Len of pose:  62\n",
      "File Name:  2016.07.03.152.02\n",
      "bbox dict:  [(0.571954, 0.408733, 0.196968, 0.309763)]\n",
      "Matched index:  0\n",
      "Len of pose:  62\n",
      "File Name:  2016.07.03.152.03\n",
      "bbox dict:  [(0.40822, 0.560061, 0.22635, 0.699699), (0.561374, 0.542043, 0.106984, 0.303304), (0.40822, 0.560061, 0.22635, 0.699699), (0.561374, 0.542043, 0.106984, 0.303304)]\n",
      "Matched index:  3\n",
      "Len of pose:  62\n",
      "File Name:  2016.07.03.152.03\n",
      "bbox dict:  [(0.40822, 0.560061, 0.22635, 0.699699), (0.561374, 0.542043, 0.106984, 0.303304), (0.40822, 0.560061, 0.22635, 0.699699)]\n",
      "Matched index:  2\n",
      "Len of pose:  62\n",
      "File Name:  2016.07.03.153.01\n",
      "bbox dict:  [(0.529025, 0.605703, 0.49495, 0.265995)]\n",
      "Matched index:  0\n",
      "Len of pose:  62\n",
      "File Name:  2016.07.03.156.01\n",
      "bbox dict:  [(0.45011, 0.489549, 0.534091, 0.296285)]\n",
      "Matched index:  0\n",
      "Len of pose:  62\n",
      "File Name:  2016.07.03.156.03\n",
      "bbox dict:  [(0.380666, 0.505535, 0.544193, 0.237373), (0.24746, 0.737859, 0.242424, 0.109427)]\n",
      "Matched index:  1\n",
      "Len of pose:  62\n",
      "File Name:  2016.07.03.156.06\n",
      "bbox dict:  [(0.376878, 0.560247, 0.213383, 0.252526), (0.461475, 0.61328, 0.463383, 0.436027)]\n",
      "Matched index:  1\n",
      "Len of pose:  62\n",
      "File Name:  2016.07.06.160.02\n",
      "bbox dict:  [(0.541019, 0.432303, 0.231061, 0.185185)]\n",
      "Matched index:  0\n",
      "Len of pose:  62\n",
      "File Name:  2016.07.06.161.02\n",
      "bbox dict:  [(0.546071, 0.341393, 0.200757, 0.24579), (0.764504, 0.354861, 0.453283, 0.478113)]\n",
      "Matched index:  1\n",
      "Len of pose:  62\n",
      "File Name:  2016.07.06.163.01\n",
      "bbox dict:  [(0.472207, 0.595602, 0.583333, 0.373738), (0.635085, 0.655366, 0.224748, 0.156565)]\n",
      "Matched index:  1\n",
      "Len of pose:  62\n",
      "File Name:  2016.07.06.163.04\n",
      "bbox dict:  [(0.605413, 0.556881, 0.213383, 0.255891)]\n",
      "Matched index:  0\n",
      "Len of pose:  62\n",
      "File Name:  2016.07.06.164.02\n",
      "bbox dict:  [(0.496197, 0.390214, 0.267676, 0.127946)]\n",
      "Matched index:  0\n",
      "Len of pose:  62\n",
      "File Name:  2016.07.06.165.06\n",
      "bbox dict:  [(0.441904, 0.673043, 0.575757, 0.289563), (0.431802, 0.497959, 0.23485, 0.127948)]\n",
      "Matched index:  1\n",
      "Len of pose:  62\n",
      "File Name:  2016.07.06.171.06\n",
      "bbox dict:  [(0.50563, 0.467717, 0.243244, 0.139641)]\n",
      "Matched index:  0\n",
      "Len of pose:  62\n",
      "File Name:  2016.07.06.172.02\n",
      "bbox dict:  [(0.600995, 0.696612, 0.257576, 0.188553)]\n",
      "Matched index:  0\n",
      "Len of pose:  62\n",
      "File Name:  2016.07.06.172.04\n",
      "bbox dict:  [(0.505035, 0.737857, 0.545456, 0.281143), (0.462737, 0.610754, 0.226011, 0.12458)]\n",
      "Matched index:  1\n",
      "Len of pose:  62\n",
      "File Name:  2016.07.06.173.02\n",
      "bbox dict:  [(0.517661, 0.449138, 0.267678, 0.151516)]\n",
      "Matched index:  0\n",
      "Len of pose:  62\n",
      "File Name:  2016.07.08.207.04\n",
      "bbox dict:  [(0.635085, 0.598968, 0.568181, 0.282827), (0.56059, 0.465126, 0.222222, 0.122902)]\n",
      "Matched index:  1\n",
      "Len of pose:  62\n",
      "File Name:  2016.07.08.211.02\n",
      "bbox dict:  [(0.45011, 0.595602, 0.57702, 0.286198), (0.541019, 0.499643, 0.258839, 0.138047)]\n",
      "Matched index:  1\n",
      "Len of pose:  62\n",
      "File Name:  2016.07.08.214.02\n",
      "bbox dict:  [(0.45958, 0.352335, 0.578283, 0.294612), (0.445691, 0.474389, 0.275254, 0.151516), (0.45958, 0.352335, 0.578283, 0.294612), (0.445691, 0.474389, 0.275254, 0.151516), (0.45958, 0.352335, 0.578283, 0.294612), (0.445691, 0.474389, 0.275254, 0.151516)]\n",
      "Matched index:  5\n",
      "Len of pose:  62\n",
      "File Name:  2016.07.08.216.03\n",
      "bbox dict:  [(0.484235, 0.555556, 0.572072, 0.249248)]\n",
      "Matched index:  0\n",
      "Len of pose:  62\n",
      "File Name:  2016.07.08.217.02\n",
      "bbox dict:  [(0.556306, 0.487238, 0.53829, 0.223724), (0.634008, 0.678679, 0.252253, 0.132133)]\n",
      "Matched index:  1\n",
      "Len of pose:  62\n",
      "File Name:  2016.07.08.217.04\n",
      "bbox dict:  [(0.394555, 0.45082, 0.556819, 0.360269), (0.48357, 0.566982, 0.287878, 0.168351)]\n",
      "Matched index:  1\n",
      "Len of pose:  62\n",
      "File Name:  2016.07.08.221.02\n",
      "bbox dict:  [(0.393924, 0.452503, 0.643941, 0.296296), (0.594681, 0.618329, 0.280304, 0.143099)]\n",
      "Matched index:  1\n",
      "Len of pose:  62\n",
      "File Name:  2016.07.08.222.03\n",
      "bbox dict:  [(0.535339, 0.476073, 0.25, 0.127946)]\n",
      "Matched index:  0\n",
      "Len of pose:  62\n",
      "File Name:  2016.07.08.229.02\n",
      "bbox dict:  [(0.486726, 0.474391, 0.258839, 0.158249)]\n",
      "Matched index:  0\n",
      "Len of pose:  62\n",
      "File Name:  2016.07.13.240.02\n",
      "bbox dict:  [(0.653715, 0.442943, 0.570946, 0.243241), (0.516889, 0.606609, 0.231977, 0.15316), (0.653715, 0.442943, 0.570946, 0.243241), (0.516889, 0.606609, 0.231977, 0.15316)]\n",
      "Matched index:  3\n",
      "Len of pose:  62\n",
      "File Name:  2016.07.13.240.02\n",
      "bbox dict:  [(0.653715, 0.442943, 0.570946, 0.243241), (0.516889, 0.606609, 0.231977, 0.15316), (0.653715, 0.442943, 0.570946, 0.243241)]\n",
      "Matched index:  2\n",
      "Len of pose:  62\n",
      "File Name:  2016.07.13.253.03\n",
      "bbox dict:  [(0.372459, 0.593076, 0.280304, 0.223906)]\n",
      "Matched index:  0\n",
      "Len of pose:  62\n",
      "File Name:  2016.07.13.255.02\n",
      "bbox dict:  [(0.491146, 0.500485, 0.585859, 0.264308), (0.320691, 0.63769, 0.224746, 0.134679), (0.491146, 0.500485, 0.585859, 0.264308), (0.320691, 0.63769, 0.224746, 0.134679)]\n",
      "Matched index:  3\n",
      "Len of pose:  62\n",
      "File Name:  2016.07.13.255.02\n",
      "bbox dict:  [(0.491146, 0.500485, 0.585859, 0.264308), (0.320691, 0.63769, 0.224746, 0.134679), (0.491146, 0.500485, 0.585859, 0.264308)]\n",
      "Matched index:  2\n",
      "Len of pose:  62\n",
      "File Name:  2016.07.13.256.02\n",
      "bbox dict:  [(0.596284, 0.363362, 0.253379, 0.15015)]\n",
      "Matched index:  0\n",
      "Len of pose:  62\n",
      "File Name:  2016.07.14.257.02\n",
      "bbox dict:  [(0.553646, 0.515635, 0.190655, 0.085859)]\n",
      "Matched index:  0\n",
      "Len of pose:  62\n",
      "File Name:  2016.07.14.258.02\n",
      "bbox dict:  [(0.380035, 0.607386, 0.252526, 0.215489)]\n",
      "Matched index:  0\n",
      "Len of pose:  62\n",
      "File Name:  2016.07.14.262.03\n",
      "bbox dict:  [(0.626877, 0.41715, 0.236111, 0.131314)]\n",
      "Matched index:  0\n",
      "Len of pose:  62\n",
      "File Name:  2016.07.18.294.01\n",
      "bbox dict:  [(0.45958, 0.438194, 0.601009, 0.250839), (0.417282, 0.313615, 0.231061, 0.085859), (0.45958, 0.438194, 0.601009, 0.250839), (0.417282, 0.313615, 0.231061, 0.085859)]\n",
      "Matched index:  3\n",
      "Len of pose:  62\n",
      "File Name:  2016.07.18.294.01\n",
      "bbox dict:  [(0.45958, 0.438194, 0.601009, 0.250839), (0.417282, 0.313615, 0.231061, 0.085859), (0.45958, 0.438194, 0.601009, 0.250839)]\n",
      "Matched index:  2\n",
      "Len of pose:  62\n",
      "File Name:  2016.07.18.295.02\n",
      "bbox dict:  [(0.450742, 0.413783, 0.555556, 0.491583), (0.554909, 0.476916, 0.246211, 0.190237), (0.450742, 0.413783, 0.555556, 0.491583), (0.554909, 0.476916, 0.246211, 0.190237)]\n",
      "Matched index:  3\n",
      "Len of pose:  62\n",
      "File Name:  2016.07.18.295.02\n",
      "bbox dict:  [(0.450742, 0.413783, 0.555556, 0.491583), (0.554909, 0.476916, 0.246211, 0.190237), (0.450742, 0.413783, 0.555556, 0.491583)]\n",
      "Matched index:  2\n",
      "Len of pose:  62\n",
      "File Name:  2016.07.18.296.04\n",
      "bbox dict:  [(0.519554, 0.520686, 0.256313, 0.173403)]\n",
      "Matched index:  0\n",
      "Len of pose:  62\n",
      "File Name:  2016.07.18.297.01\n",
      "bbox dict:  [(0.49809, 0.608228, 0.589648, 0.271045), (0.51703, 0.455871, 0.281565, 0.117847), (0.49809, 0.608228, 0.589648, 0.271045), (0.51703, 0.455871, 0.281565, 0.117847)]\n",
      "Matched index:  3\n",
      "Len of pose:  62\n",
      "File Name:  2016.07.18.297.01\n",
      "bbox dict:  [(0.49809, 0.608228, 0.589648, 0.271045), (0.51703, 0.455871, 0.281565, 0.117847), (0.49809, 0.608228, 0.589648, 0.271045)]\n",
      "Matched index:  2\n",
      "Len of pose:  62\n",
      "File Name:  2016.07.18.297.02\n",
      "bbox dict:  [(0.501125, 0.618618, 0.572072, 0.255258), (0.503941, 0.484235, 0.266892, 0.112613)]\n",
      "Matched index:  1\n",
      "Len of pose:  62\n",
      "File Name:  2016.07.18.298.01\n",
      "bbox dict:  [(0.399858, 0.581966, 0.573231, 0.269361), (0.247459, 0.456713, 0.199497, 0.095961), (0.399858, 0.581966, 0.573231, 0.269361), (0.247459, 0.456713, 0.199497, 0.095961)]\n",
      "Matched index:  3\n",
      "Len of pose:  62\n",
      "File Name:  2016.07.18.298.01\n",
      "bbox dict:  [(0.399858, 0.581966, 0.573231, 0.269361), (0.247459, 0.456713, 0.199497, 0.095961), (0.399858, 0.581966, 0.573231, 0.269361)]\n",
      "Matched index:  2\n",
      "Len of pose:  62\n",
      "File Name:  2016.07.18.299.01\n",
      "bbox dict:  [(0.399605, 0.428093, 0.597222, 0.368686), (0.414125, 0.304356, 0.204544, 0.127948)]\n",
      "Matched index:  1\n",
      "Len of pose:  62\n",
      "File Name:  2016.07.18.302.01\n",
      "bbox dict:  [(0.470312, 0.544255, 0.536615, 0.287879)]\n",
      "Matched index:  0\n",
      "Len of pose:  62\n",
      "File Name:  2016.07.18.302.02\n",
      "bbox dict:  [(0.539125, 0.572875, 0.550503, 0.291247), (0.534707, 0.46934, 0.248737, 0.127946), (0.539125, 0.572875, 0.550503, 0.291247), (0.534707, 0.46934, 0.248737, 0.127946), (0.539125, 0.572875, 0.550503, 0.291247), (0.534707, 0.46934, 0.248737, 0.127946)]\n",
      "Matched index:  5\n",
      "Len of pose:  62\n",
      "File Name:  2016.07.18.302.03\n",
      "bbox dict:  [(0.515767, 0.604019, 0.566921, 0.276094), (0.5366, 0.385163, 0.232324, 0.161617), (0.515767, 0.604019, 0.566921, 0.276094), (0.5366, 0.385163, 0.232324, 0.161617)]\n",
      "Matched index:  3\n",
      "Len of pose:  62\n",
      "File Name:  2016.07.18.302.03\n",
      "bbox dict:  [(0.515767, 0.604019, 0.566921, 0.276094), (0.5366, 0.385163, 0.232324, 0.161617), (0.515767, 0.604019, 0.566921, 0.276094)]\n",
      "Matched index:  2\n",
      "Len of pose:  62\n",
      "File Name:  2016.07.18.302.04\n",
      "bbox dict:  [(0.310248, 0.60886, 0.530406, 0.316817), (0.525339, 0.583333, 0.23536, 0.211713), (0.310248, 0.60886, 0.530406, 0.316817), (0.525339, 0.583333, 0.23536, 0.211713)]\n",
      "Matched index:  3\n",
      "Len of pose:  62\n",
      "File Name:  2016.07.18.302.04\n",
      "bbox dict:  [(0.310248, 0.60886, 0.530406, 0.316817), (0.525339, 0.583333, 0.23536, 0.211713), (0.310248, 0.60886, 0.530406, 0.316817)]\n",
      "Matched index:  2\n",
      "Len of pose:  62\n",
      "File Name:  2016.07.18.304.05\n",
      "bbox dict:  [(0.568166, 0.593076, 0.611111, 0.388889)]\n",
      "Matched index:  0\n",
      "Len of pose:  62\n",
      "File Name:  2016.07.18.305.01\n",
      "bbox dict:  [(0.385086, 0.593077, 0.593435, 0.284511), (0.705162, 0.372538, 0.284091, 0.183501), (0.385086, 0.593077, 0.593435, 0.284511), (0.705162, 0.372538, 0.284091, 0.183501)]\n",
      "Matched index:  3\n",
      "Len of pose:  62\n",
      "File Name:  2016.07.18.305.01\n",
      "bbox dict:  [(0.385086, 0.593077, 0.593435, 0.284511), (0.705162, 0.372538, 0.284091, 0.183501), (0.385086, 0.593077, 0.593435, 0.284511)]\n",
      "Matched index:  2\n",
      "Len of pose:  62\n",
      "File Name:  2016.07.18.305.02\n",
      "bbox dict:  [(0.399605, 0.59476, 0.607322, 0.271042), (0.705161, 0.376746, 0.273989, 0.191918)]\n",
      "Matched index:  1\n",
      "Len of pose:  62\n",
      "File Name:  2016.07.18.305.04\n",
      "bbox dict:  [(0.547964, 0.53247, 0.222222, 0.193602), (0.493039, 0.476916, 0.561868, 0.240741)]\n",
      "Matched index:  1\n",
      "Len of pose:  62\n",
      "File Name:  2016.07.18.305.06\n",
      "bbox dict:  [(0.554277, 0.560249, 0.156567, 0.329965), (0.613621, 0.423043, 0.545454, 0.324916)]\n",
      "Matched index:  1\n",
      "Len of pose:  62\n",
      "File Name:  2016.07.18.307.03\n",
      "bbox dict:  [(0.354782, 0.509742, 0.224746, 0.164983), (0.472206, 0.371696, 0.565658, 0.441076), (0.354782, 0.509742, 0.224746, 0.164983), (0.472206, 0.371696, 0.565658, 0.441076)]\n",
      "Matched index:  3\n",
      "Len of pose:  62\n",
      "File Name:  2016.07.18.307.03\n",
      "bbox dict:  [(0.354782, 0.509742, 0.224746, 0.164983), (0.472206, 0.371696, 0.565658, 0.441076), (0.354782, 0.509742, 0.224746, 0.164983)]\n",
      "Matched index:  2\n",
      "Len of pose:  62\n",
      "File Name:  2016.07.20.315.02\n",
      "bbox dict:  [(0.448217, 0.33466, 0.229798, 0.104378)]\n",
      "Matched index:  0\n",
      "Len of pose:  62\n",
      "File Name:  2016.07.20.318.02\n",
      "bbox dict:  [(0.482307, 0.561091, 0.598485, 0.240741), (0.684327, 0.690719, 0.232322, 0.176768)]\n",
      "Matched index:  1\n",
      "Len of pose:  62\n",
      "File Name:  2016.07.20.318.04\n",
      "bbox dict:  [(0.372459, 0.270686, 0.2399, 0.181817)]\n",
      "Matched index:  0\n",
      "Len of pose:  62\n",
      "File Name:  2016.07.20.320.02\n",
      "bbox dict:  [(0.453267, 0.508902, 0.603535, 0.267677)]\n",
      "Matched index:  0\n",
      "Len of pose:  62\n",
      "File Name:  2016.07.20.322.01\n",
      "bbox dict:  [(0.643924, 0.469339, 0.57576, 0.336698), (0.648975, 0.61412, 0.242424, 0.141412)]\n",
      "Matched index:  1\n",
      "Len of pose:  62\n",
      "File Name:  2016.07.20.322.02\n",
      "bbox dict:  [(0.5366, 0.635163, 0.560605, 0.234008), (0.566272, 0.764795, 0.266415, 0.095961)]\n",
      "Matched index:  1\n",
      "Len of pose:  62\n",
      "File Name:  2016.07.20.327.02\n",
      "bbox dict:  [(0.592156, 0.557724, 0.26515, 0.139731)]\n",
      "Matched index:  0\n",
      "Len of pose:  62\n",
      "File Name:  2016.07.20.332.01\n",
      "bbox dict:  [(0.468418, 0.526578, 0.568181, 0.255894), (0.629403, 0.68146, 0.279041, 0.141415)]\n",
      "Matched index:  1\n",
      "Len of pose:  62\n",
      "File Name:  2016.07.20.332.02\n",
      "bbox dict:  [(0.407813, 0.395265, 0.563129, 0.255894), (0.515767, 0.663785, 0.266413, 0.149832)]\n",
      "Matched index:  1\n",
      "Len of pose:  62\n",
      "File Name:  2016.07.23.334.04\n",
      "bbox dict:  [(0.287231, 0.376746, 0.152778, 0.309766), (0.568798, 0.442403, 0.42803, 0.700339)]\n",
      "Matched index:  1\n",
      "Len of pose:  62\n",
      "File Name:  2016.07.23.337.02\n",
      "bbox dict:  [(0.572585, 0.484491, 0.195707, 0.218854)]\n",
      "Matched index:  0\n",
      "Len of pose:  62\n",
      "File Name:  2016.07.28.376.01\n",
      "bbox dict:  [(0.390767, 0.52237, 0.627524, 0.338385)]\n",
      "Matched index:  0\n",
      "Len of pose:  62\n",
      "File Name:  2016.07.28.377.03\n",
      "bbox dict:  [(0.386825, 0.741742, 0.266892, 0.159161)]\n",
      "Matched index:  0\n",
      "Len of pose:  62\n",
      "File Name:  2016.07.29.387.02\n",
      "bbox dict:  [(0.56059, 0.435668, 0.247474, 0.255891)]\n",
      "Matched index:  0\n",
      "Len of pose:  62\n",
      "File Name:  2016.07.29.388.03\n",
      "bbox dict:  [(0.507319, 0.423423, 0.55518, 0.255255), (0.391891, 0.614865, 0.286035, 0.145645), (0.507319, 0.423423, 0.55518, 0.255255), (0.391891, 0.614865, 0.286035, 0.145645)]\n",
      "Matched index:  3\n",
      "Len of pose:  62\n",
      "File Name:  2016.07.29.388.03\n",
      "bbox dict:  [(0.507319, 0.423423, 0.55518, 0.255255), (0.391891, 0.614865, 0.286035, 0.145645), (0.507319, 0.423423, 0.55518, 0.255255)]\n",
      "Matched index:  2\n",
      "Len of pose:  62\n",
      "File Name:  2016.07.29.389.01\n",
      "bbox dict:  [(0.470312, 0.508902, 0.604796, 0.267677), (0.546701, 0.600645, 0.2399, 0.131325)]\n",
      "Matched index:  1\n",
      "Len of pose:  62\n",
      "File Name:  2016.07.29.389.03\n",
      "bbox dict:  [(0.390136, 0.442403, 0.290406, 0.127948)]\n",
      "Matched index:  0\n",
      "Len of pose:  62\n",
      "File Name:  2016.07.29.390.02\n",
      "bbox dict:  [(0.537863, 0.453346, 0.53788, 0.244106), (0.684327, 0.261427, 0.287878, 0.196968)]\n",
      "Matched index:  1\n",
      "Len of pose:  62\n",
      "File Name:  2016.08.02.393.03\n",
      "bbox dict:  [(0.575111, 0.492908, 0.273989, 0.127946)]\n",
      "Matched index:  0\n",
      "Len of pose:  62\n",
      "File Name:  2016.08.02.394.02\n",
      "bbox dict:  [(0.171171, 0.725224, 0.259008, 0.201201), (0.699324, 0.638138, 0.213965, 0.09009)]\n",
      "Matched index:  1\n",
      "Len of pose:  62\n",
      "File Name:  2016.08.02.396.07\n",
      "bbox dict:  [(0.614884, 0.386005, 0.300506, 0.156565)]\n",
      "Matched index:  0\n",
      "Len of pose:  62\n",
      "File Name:  2016.08.02.398.05\n",
      "bbox dict:  [(0.452636, 0.629271, 0.579546, 0.276094)]\n",
      "Matched index:  0\n",
      "Len of pose:  62\n",
      "File Name:  2016.08.02.398.06\n",
      "bbox dict:  [(0.460843, 0.722705, 0.25505, 0.244109)]\n",
      "Matched index:  0\n",
      "Len of pose:  62\n",
      "File Name:  2016.08.02.399.01\n",
      "bbox dict:  [(0.506297, 0.627588, 0.25505, 0.249158)]\n",
      "Matched index:  0\n",
      "Len of pose:  62\n",
      "File Name:  2016.08.02.399.02\n",
      "bbox dict:  [(0.622459, 0.626746, 0.515152, 0.287879), (0.506298, 0.507218, 0.20707, 0.227271)]\n",
      "Matched index:  1\n",
      "Len of pose:  62\n",
      "File Name:  2016.08.02.403.03\n",
      "bbox dict:  [(0.556172, 0.632639, 0.58207, 0.451181)]\n",
      "Matched index:  0\n",
      "Len of pose:  62\n",
      "File Name:  2016.08.02.406.04\n",
      "bbox dict:  [(0.633823, 0.472707, 0.21212, 0.195286)]\n",
      "Matched index:  0\n",
      "Len of pose:  62\n",
      "File Name:  2016.08.03.414.01\n",
      "bbox dict:  [(0.518924, 0.454187, 0.522726, 0.239057)]\n",
      "Matched index:  0\n",
      "Len of pose:  62\n",
      "File Name:  2016.08.03.415.06\n",
      "bbox dict:  [(0.487989, 0.591393, 0.614898, 0.338383), (0.338368, 0.863278, 0.285352, 0.185185), (0.487989, 0.591393, 0.614898, 0.338383), (0.338368, 0.863278, 0.285352, 0.185185)]\n",
      "Matched index:  3\n",
      "Len of pose:  62\n",
      "File Name:  2016.08.03.415.06\n",
      "bbox dict:  [(0.487989, 0.591393, 0.614898, 0.338383), (0.338368, 0.863278, 0.285352, 0.185185), (0.487989, 0.591393, 0.614898, 0.338383)]\n",
      "Matched index:  2\n",
      "Len of pose:  62\n",
      "File Name:  2016.08.03.417.08\n",
      "bbox dict:  [(0.537231, 0.506377, 0.556819, 0.279462), (0.654025, 0.315299, 0.315658, 0.190234), (0.537231, 0.506377, 0.556819, 0.279462), (0.654025, 0.315299, 0.315658, 0.190234)]\n",
      "Matched index:  3\n",
      "Len of pose:  62\n",
      "File Name:  2016.08.03.417.08\n",
      "bbox dict:  [(0.537231, 0.506377, 0.556819, 0.279462), (0.654025, 0.315299, 0.315658, 0.190234), (0.537231, 0.506377, 0.556819, 0.279462)]\n",
      "Matched index:  2\n",
      "Len of pose:  62\n",
      "File Name:  2016.08.03.419.03\n",
      "bbox dict:  [(0.627509, 0.487859, 0.265152, 0.164983)]\n",
      "Matched index:  0\n",
      "Len of pose:  62\n",
      "File Name:  2016.08.03.419.04\n",
      "bbox dict:  [(0.402762, 0.608228, 0.578283, 0.274413)]\n",
      "Matched index:  0\n",
      "Len of pose:  62\n",
      "File Name:  2016.08.03.420.04\n",
      "bbox dict:  [(0.413289, 0.693694, 0.601352, 0.303302), (0.626689, 0.504504, 0.282658, 0.246247)]\n",
      "Matched index:  1\n",
      "Len of pose:  62\n",
      "File Name:  2016.08.03.429.02\n",
      "bbox dict:  [(0.488621, 0.60907, 0.618687, 0.329968), (0.355413, 0.486173, 0.220961, 0.10101)]\n",
      "Matched index:  1\n",
      "Len of pose:  62\n",
      "File Name:  2016.08.03.430.03\n",
      "bbox dict:  [(0.587837, 0.414414, 0.511261, 0.264262)]\n",
      "Matched index:  0\n",
      "Len of pose:  62\n",
      "File Name:  2016.08.03.431.02\n",
      "bbox dict:  [(0.51703, 0.561091, 0.243687, 0.170035), (0.51703, 0.561091, 0.243687, 0.170035)]\n",
      "Matched index:  1\n",
      "Len of pose:  62\n",
      "File Name:  2016.08.03.431.02\n",
      "bbox dict:  [(0.51703, 0.561091, 0.243687, 0.170035)]\n",
      "Matched index:  0\n",
      "Len of pose:  62\n",
      "File Name:  2016.08.04.433.01\n",
      "bbox dict:  [(0.629403, 0.587185, 0.546719, 0.245793), (0.56059, 0.183145, 0.28283, 0.222222), (0.629403, 0.587185, 0.546719, 0.245793), (0.56059, 0.183145, 0.28283, 0.222222)]\n",
      "Matched index:  3\n",
      "Len of pose:  62\n",
      "File Name:  2016.08.04.433.01\n",
      "bbox dict:  [(0.629403, 0.587185, 0.546719, 0.245793), (0.56059, 0.183145, 0.28283, 0.222222), (0.629403, 0.587185, 0.546719, 0.245793)]\n",
      "Matched index:  2\n",
      "Len of pose:  62\n",
      "File Name:  2016.08.04.433.02\n",
      "bbox dict:  [(0.583317, 0.641898, 0.54798, 0.250839), (0.472207, 0.226914, 0.29293, 0.228955), (0.583317, 0.641898, 0.54798, 0.250839), (0.472207, 0.226914, 0.29293, 0.228955)]\n",
      "Matched index:  3\n",
      "Len of pose:  62\n",
      "File Name:  2016.08.04.433.02\n",
      "bbox dict:  [(0.583317, 0.641898, 0.54798, 0.250839), (0.472207, 0.226914, 0.29293, 0.228955), (0.583317, 0.641898, 0.54798, 0.250839)]\n",
      "Matched index:  2\n",
      "Len of pose:  62\n",
      "File Name:  2016.08.04.435.02\n",
      "bbox dict:  [(0.559327, 0.430618, 0.611111, 0.269361), (0.553646, 0.221865, 0.203281, 0.141415), (0.559327, 0.430618, 0.611111, 0.269361), (0.553646, 0.221865, 0.203281, 0.141415)]\n",
      "Matched index:  3\n",
      "Len of pose:  62\n",
      "File Name:  2016.08.04.435.02\n",
      "bbox dict:  [(0.559327, 0.430618, 0.611111, 0.269361), (0.553646, 0.221865, 0.203281, 0.141415), (0.559327, 0.430618, 0.611111, 0.269361)]\n",
      "Matched index:  2\n",
      "Len of pose:  62\n",
      "File Name:  2016.08.04.436.01\n",
      "bbox dict:  [(0.188747, 0.586343, 0.273991, 0.237373), (0.455161, 0.656208, 0.556819, 0.336698), (0.188747, 0.586343, 0.273991, 0.237373), (0.455161, 0.656208, 0.556819, 0.336698)]\n",
      "Matched index:  3\n",
      "Len of pose:  62\n",
      "File Name:  2016.08.04.436.01\n",
      "bbox dict:  [(0.188747, 0.586343, 0.273991, 0.237373), (0.455161, 0.656208, 0.556819, 0.336698), (0.188747, 0.586343, 0.273991, 0.237373)]\n",
      "Matched index:  2\n",
      "Len of pose:  62\n",
      "File Name:  2016.08.04.436.02\n",
      "bbox dict:  [(0.343415, 0.394424, 0.282836, 0.200336)]\n",
      "Matched index:  0\n",
      "Len of pose:  62\n",
      "File Name:  2016.08.04.436.03\n",
      "bbox dict:  [(0.412232, 0.46008, 0.241161, 0.132995), (0.539757, 0.56614, 0.587122, 0.365318)]\n",
      "Matched index:  1\n",
      "Len of pose:  62\n",
      "File Name:  2016.08.04.437.03\n",
      "bbox dict:  [(0.431802, 0.561931, 0.575757, 0.269361), (0.318165, 0.678935, 0.20202, 0.075758)]\n",
      "Matched index:  1\n",
      "Len of pose:  62\n",
      "File Name:  2016.08.04.439.06\n",
      "bbox dict:  [(0.527131, 0.652841, 0.253789, 0.164983)]\n",
      "Matched index:  0\n",
      "Len of pose:  62\n",
      "File Name:  2016.08.04.441.03\n",
      "bbox dict:  [(0.456424, 0.662099, 0.539141, 0.452862)]\n",
      "Matched index:  0\n",
      "Len of pose:  62\n",
      "File Name:  2016.08.04.443.03\n",
      "bbox dict:  [(0.580162, 0.490383, 0.549243, 0.250842), (0.330792, 0.678093, 0.20707, 0.198652)]\n",
      "Matched index:  1\n",
      "Len of pose:  62\n",
      "File Name:  2016.08.04.444.04\n",
      "bbox dict:  [(0.661599, 0.541729, 0.277778, 0.212121), (0.414125, 0.677251, 0.537878, 0.227274), (0.661599, 0.541729, 0.277778, 0.212121), (0.414125, 0.677251, 0.537878, 0.227274)]\n",
      "Matched index:  3\n",
      "Len of pose:  62\n",
      "File Name:  2016.08.04.444.04\n",
      "bbox dict:  [(0.661599, 0.541729, 0.277778, 0.212121), (0.414125, 0.677251, 0.537878, 0.227274), (0.661599, 0.541729, 0.277778, 0.212121)]\n",
      "Matched index:  2\n",
      "Len of pose:  62\n",
      "File Name:  2016.08.04.444.08\n",
      "bbox dict:  [(0.455161, 0.428935, 0.266415, 0.14478)]\n",
      "Matched index:  0\n",
      "Len of pose:  62\n",
      "File Name:  2016.08.04.445.03\n",
      "bbox dict:  [(0.572297, 0.479429, 0.563062, 0.373874), (0.496847, 0.825527, 0.216215, 0.111111)]\n",
      "Matched index:  1\n",
      "Len of pose:  62\n",
      "File Name:  2016.08.04.445.06\n",
      "bbox dict:  [(0.496196, 0.575399, 0.277778, 0.20202)]\n",
      "Matched index:  0\n",
      "Len of pose:  62\n",
      "File Name:  2016.08.04.445.10\n",
      "bbox dict:  [(0.481676, 0.767319, 0.549243, 0.205385), (0.681802, 0.517319, 0.260102, 0.26094), (0.481676, 0.767319, 0.549243, 0.205385), (0.681802, 0.517319, 0.260102, 0.26094)]\n",
      "Matched index:  3\n",
      "Len of pose:  62\n",
      "File Name:  2016.08.04.445.10\n",
      "bbox dict:  [(0.481676, 0.767319, 0.549243, 0.205385), (0.681802, 0.517319, 0.260102, 0.26094), (0.481676, 0.767319, 0.549243, 0.205385)]\n",
      "Matched index:  2\n",
      "Len of pose:  62\n",
      "File Name:  2016.08.04.447.03\n",
      "bbox dict:  [(0.330162, 0.67136, 0.231061, 0.171719)]\n",
      "Matched index:  0\n",
      "Len of pose:  62\n",
      "File Name:  2016.08.04.450.02\n",
      "bbox dict:  [(0.357939, 0.559407, 0.546717, 0.318183), (0.436853, 0.296781, 0.277778, 0.267677)]\n",
      "Matched index:  1\n",
      "Len of pose:  62\n",
      "File Name:  2016.08.05.454.07\n",
      "bbox dict:  [(0.489883, 0.68146, 0.570707, 0.272729)]\n",
      "Matched index:  0\n",
      "Len of pose:  62\n",
      "File Name:  2016.08.08.455.02\n",
      "bbox dict:  [(0.417282, 0.531629, 0.546717, 0.350168), (0.284076, 0.749641, 0.308082, 0.220538), (0.417282, 0.531629, 0.546717, 0.350168), (0.284076, 0.749641, 0.308082, 0.220538), (0.417282, 0.531629, 0.546717, 0.350168), (0.284076, 0.749641, 0.308082, 0.220538)]\n",
      "Matched index:  5\n",
      "Len of pose:  62\n",
      "File Name:  2016.08.08.455.03\n",
      "bbox dict:  [(0.448848, 0.509742, 0.599748, 0.292928)]\n",
      "Matched index:  0\n",
      "Len of pose:  62\n",
      "File Name:  2016.08.08.456.01\n",
      "bbox dict:  [(0.602888, 0.489541, 0.268941, 0.178452), (0.495565, 0.64105, 0.589646, 0.34342), (0.602888, 0.489541, 0.268941, 0.178452), (0.495565, 0.64105, 0.589646, 0.34342)]\n",
      "Matched index:  3\n",
      "Len of pose:  62\n",
      "File Name:  2016.08.08.456.01\n",
      "bbox dict:  [(0.602888, 0.489541, 0.268941, 0.178452), (0.495565, 0.64105, 0.589646, 0.34342), (0.602888, 0.489541, 0.268941, 0.178452)]\n",
      "Matched index:  2\n",
      "Len of pose:  62\n",
      "File Name:  2016.08.08.456.02\n",
      "bbox dict:  [(0.49304, 0.455875, 0.286619, 0.11447), (0.37309, 0.598128, 0.579544, 0.294612), (0.49304, 0.455875, 0.286619, 0.11447), (0.37309, 0.598128, 0.579544, 0.294612)]\n",
      "Matched index:  3\n",
      "Len of pose:  62\n",
      "File Name:  2016.08.08.456.02\n",
      "bbox dict:  [(0.49304, 0.455875, 0.286619, 0.11447), (0.37309, 0.598128, 0.579544, 0.294612), (0.49304, 0.455875, 0.286619, 0.11447)]\n",
      "Matched index:  2\n",
      "Len of pose:  62\n",
      "File Name:  2016.08.08.457.01\n",
      "bbox dict:  [(0.52713, 0.316982, 0.213383, 0.112795), (0.410337, 0.40958, 0.502524, 0.2643), (0.52713, 0.316982, 0.213383, 0.112795), (0.410337, 0.40958, 0.502524, 0.2643)]\n",
      "Matched index:  3\n",
      "Len of pose:  62\n",
      "File Name:  2016.08.08.457.01\n",
      "bbox dict:  [(0.52713, 0.316982, 0.213383, 0.112795), (0.410337, 0.40958, 0.502524, 0.2643), (0.52713, 0.316982, 0.213383, 0.112795)]\n",
      "Matched index:  2\n",
      "Len of pose:  62\n",
      "File Name:  2016.08.08.457.03\n",
      "bbox dict:  [(0.359201, 0.499643, 0.589648, 0.299661), (0.356676, 0.342235, 0.226009, 0.122896)]\n",
      "Matched index:  1\n",
      "Len of pose:  62\n",
      "File Name:  2016.08.08.457.04\n",
      "bbox dict:  [(0.460211, 0.335502, 0.569444, 0.287879), (0.443166, 0.213446, 0.224748, 0.127946), (0.460211, 0.335502, 0.569444, 0.287879), (0.443166, 0.213446, 0.224748, 0.127946)]\n",
      "Matched index:  3\n",
      "Len of pose:  62\n",
      "File Name:  2016.08.08.457.04\n",
      "bbox dict:  [(0.460211, 0.335502, 0.569444, 0.287879), (0.443166, 0.213446, 0.224748, 0.127946), (0.460211, 0.335502, 0.569444, 0.287879)]\n",
      "Matched index:  2\n",
      "Len of pose:  62\n",
      "File Name:  2016.08.08.457.06\n",
      "bbox dict:  [(0.448848, 0.611596, 0.248737, 0.153197)]\n",
      "Matched index:  0\n",
      "Len of pose:  62\n",
      "File Name:  2016.08.08.457.08\n",
      "bbox dict:  [(0.494302, 0.375906, 0.518939, 0.405723), (0.649605, 0.470187, 0.281567, 0.16329), (0.494302, 0.375906, 0.518939, 0.405723), (0.649605, 0.470187, 0.281567, 0.16329)]\n",
      "Matched index:  3\n",
      "Len of pose:  62\n",
      "File Name:  2016.08.08.457.08\n",
      "bbox dict:  [(0.494302, 0.375906, 0.518939, 0.405723), (0.649605, 0.470187, 0.281567, 0.16329), (0.494302, 0.375906, 0.518939, 0.405723)]\n",
      "Matched index:  2\n",
      "Len of pose:  62\n",
      "File Name:  2016.08.08.458.01\n",
      "bbox dict:  [(0.491777, 0.453346, 0.57197, 0.287879), (0.6616, 0.567824, 0.295454, 0.173403), (0.491777, 0.453346, 0.57197, 0.287879), (0.6616, 0.567824, 0.295454, 0.173403)]\n",
      "Matched index:  3\n",
      "Len of pose:  62\n",
      "File Name:  2016.08.08.458.01\n",
      "bbox dict:  [(0.491777, 0.453346, 0.57197, 0.287879), (0.6616, 0.567824, 0.295454, 0.173403), (0.491777, 0.453346, 0.57197, 0.287879)]\n",
      "Matched index:  2\n",
      "Len of pose:  62\n",
      "File Name:  2016.08.08.458.03\n",
      "bbox dict:  [(0.624984, 0.412099, 0.267676, 0.138047), (0.5991, 0.510586, 0.566921, 0.247474), (0.624984, 0.412099, 0.267676, 0.138047), (0.5991, 0.510586, 0.566921, 0.247474)]\n",
      "Matched index:  3\n",
      "Len of pose:  62\n",
      "File Name:  2016.08.08.458.03\n",
      "bbox dict:  [(0.624984, 0.412099, 0.267676, 0.138047), (0.5991, 0.510586, 0.566921, 0.247474), (0.624984, 0.412099, 0.267676, 0.138047)]\n",
      "Matched index:  2\n",
      "Len of pose:  62\n",
      "File Name:  2016.08.08.458.04\n",
      "bbox dict:  [(0.415388, 0.496276, 0.560608, 0.279462), (0.408444, 0.342235, 0.273989, 0.122896), (0.415388, 0.496276, 0.560608, 0.279462), (0.408444, 0.342235, 0.273989, 0.122896)]\n",
      "Matched index:  3\n",
      "Len of pose:  62\n",
      "File Name:  2016.08.08.458.04\n",
      "bbox dict:  [(0.415388, 0.496276, 0.560608, 0.279462), (0.408444, 0.342235, 0.273989, 0.122896), (0.415388, 0.496276, 0.560608, 0.279462)]\n",
      "Matched index:  2\n",
      "Len of pose:  62\n",
      "File Name:  2016.08.08.458.07\n",
      "bbox dict:  [(0.506298, 0.786678, 0.628789, 0.335017), (0.487989, 0.410417, 0.286617, 0.154884)]\n",
      "Matched index:  1\n",
      "Len of pose:  62\n",
      "File Name:  2016.08.08.459.03\n",
      "bbox dict:  [(0.472072, 0.652853, 0.587839, 0.258258)]\n",
      "Matched index:  0\n",
      "Len of pose:  62\n",
      "File Name:  2016.08.08.460.02\n",
      "bbox dict:  [(0.356044, 0.396949, 0.166667, 0.343435), (0.487359, 0.657049, 0.527778, 0.368686), (0.356044, 0.396949, 0.166667, 0.343435), (0.487359, 0.657049, 0.527778, 0.368686)]\n",
      "Matched index:  3\n",
      "Len of pose:  62\n",
      "File Name:  2016.08.08.460.02\n",
      "bbox dict:  [(0.356044, 0.396949, 0.166667, 0.343435), (0.487359, 0.657049, 0.527778, 0.368686), (0.356044, 0.396949, 0.166667, 0.343435)]\n",
      "Matched index:  2\n",
      "Len of pose:  62\n",
      "File Name:  2016.08.08.460.03\n",
      "bbox dict:  [(0.31564, 0.433144, 0.527778, 0.361953), (0.387611, 0.340551, 0.234848, 0.146467), (0.31564, 0.433144, 0.527778, 0.361953), (0.387611, 0.340551, 0.234848, 0.146467)]\n",
      "Matched index:  3\n",
      "Len of pose:  62\n",
      "File Name:  2016.08.08.460.03\n",
      "bbox dict:  [(0.31564, 0.433144, 0.527778, 0.361953), (0.387611, 0.340551, 0.234848, 0.146467), (0.31564, 0.433144, 0.527778, 0.361953)]\n",
      "Matched index:  2\n",
      "Len of pose:  62\n",
      "File Name:  2016.08.08.460.04\n",
      "bbox dict:  [(0.394144, 0.605855, 0.493244, 0.292792), (0.432657, 0.510961, 0.204954, 0.151649)]\n",
      "Matched index:  1\n",
      "Len of pose:  62\n",
      "File Name:  2016.08.08.460.05\n",
      "bbox dict:  [(0.517661, 0.665467, 0.570707, 0.449494)]\n",
      "Matched index:  0\n",
      "Len of pose:  62\n",
      "File Name:  2016.08.08.461.01\n",
      "bbox dict:  [(0.474732, 0.497118, 0.563132, 0.314815), (0.548595, 0.346444, 0.256313, 0.134682)]\n",
      "Matched index:  1\n",
      "Len of pose:  62\n",
      "File Name:  2016.08.08.462.01\n",
      "bbox dict:  [(0.462737, 0.418835, 0.559345, 0.269361), (0.367409, 0.598126, 0.2601, 0.153197)]\n",
      "Matched index:  1\n",
      "Len of pose:  62\n",
      "File Name:  2016.08.08.462.02\n",
      "bbox dict:  [(0.517661, 0.396947, 0.537878, 0.259259), (0.433697, 0.541729, 0.271465, 0.141415), (0.517661, 0.396947, 0.537878, 0.259259), (0.433697, 0.541729, 0.271465, 0.141415)]\n",
      "Matched index:  3\n",
      "Len of pose:  62\n",
      "File Name:  2016.08.08.462.02\n",
      "bbox dict:  [(0.517661, 0.396947, 0.537878, 0.259259), (0.433697, 0.541729, 0.271465, 0.141415), (0.517661, 0.396947, 0.537878, 0.259259)]\n",
      "Matched index:  2\n",
      "Len of pose:  62\n",
      "File Name:  2016.08.08.462.03\n",
      "bbox dict:  [(0.444429, 0.440719, 0.583333, 0.232323), (0.422333, 0.559407, 0.253789, 0.12963)]\n",
      "Matched index:  1\n",
      "Len of pose:  62\n",
      "File Name:  2016.08.08.462.04\n",
      "bbox dict:  [(0.349732, 0.44577, 0.585857, 0.255891), (0.325742, 0.533313, 0.262626, 0.107743), (0.349732, 0.44577, 0.585857, 0.255891), (0.325742, 0.533313, 0.262626, 0.107743)]\n",
      "Matched index:  3\n",
      "Len of pose:  62\n",
      "File Name:  2016.08.08.462.04\n",
      "bbox dict:  [(0.349732, 0.44577, 0.585857, 0.255891), (0.325742, 0.533313, 0.262626, 0.107743), (0.349732, 0.44577, 0.585857, 0.255891)]\n",
      "Matched index:  2\n",
      "Len of pose:  62\n",
      "File Name:  2016.08.08.462.05\n",
      "bbox dict:  [(0.496197, 0.497117, 0.260102, 0.156565), (0.576374, 0.664625, 0.541667, 0.272729), (0.496197, 0.497117, 0.260102, 0.156565), (0.576374, 0.664625, 0.541667, 0.272729)]\n",
      "Matched index:  3\n",
      "Len of pose:  62\n",
      "File Name:  2016.08.08.462.05\n",
      "bbox dict:  [(0.496197, 0.497117, 0.260102, 0.156565), (0.576374, 0.664625, 0.541667, 0.272729), (0.496197, 0.497117, 0.260102, 0.156565)]\n",
      "Matched index:  2\n",
      "Len of pose:  62\n",
      "File Name:  2016.08.08.462.06\n",
      "bbox dict:  [(0.503773, 0.528261, 0.257576, 0.14478), (0.544176, 0.669676, 0.525254, 0.239057), (0.503773, 0.528261, 0.257576, 0.14478), (0.544176, 0.669676, 0.525254, 0.239057)]\n",
      "Matched index:  3\n",
      "Len of pose:  62\n",
      "File Name:  2016.08.08.462.06\n",
      "bbox dict:  [(0.503773, 0.528261, 0.257576, 0.14478), (0.544176, 0.669676, 0.525254, 0.239057), (0.503773, 0.528261, 0.257576, 0.14478)]\n",
      "Matched index:  2\n",
      "Len of pose:  62\n",
      "File Name:  2016.08.08.462.08\n",
      "bbox dict:  [(0.613621, 0.375062, 0.553032, 0.269361), (0.359201, 0.732808, 0.261363, 0.324916), (0.613621, 0.375062, 0.553032, 0.269361), (0.359201, 0.732808, 0.261363, 0.324916)]\n",
      "Matched index:  3\n",
      "Len of pose:  62\n",
      "File Name:  2016.08.08.462.08\n",
      "bbox dict:  [(0.613621, 0.375062, 0.553032, 0.269361), (0.359201, 0.732808, 0.261363, 0.324916), (0.613621, 0.375062, 0.553032, 0.269361)]\n",
      "Matched index:  2\n",
      "Len of pose:  62\n",
      "File Name:  2016.08.08.463.02\n",
      "bbox dict:  [(0.476625, 0.381797, 0.279041, 0.171719)]\n",
      "Matched index:  0\n",
      "Len of pose:  62\n",
      "File Name:  2016.08.08.463.04\n",
      "bbox dict:  [(0.527131, 0.629272, 0.609848, 0.299661), (0.393292, 0.52321, 0.236111, 0.10101)]\n",
      "Matched index:  1\n",
      "Len of pose:  62\n",
      "File Name:  2016.08.08.463.08\n",
      "bbox dict:  [(0.598469, 0.34981, 0.242424, 0.104378), (0.494934, 0.460922, 0.626261, 0.276097)]\n",
      "Matched index:  1\n",
      "Len of pose:  62\n",
      "File Name:  2016.08.08.464.02\n",
      "bbox dict:  [(0.361096, 0.36412, 0.280304, 0.132998)]\n",
      "Matched index:  0\n",
      "Len of pose:  62\n",
      "File Name:  2016.08.08.464.03\n",
      "bbox dict:  [(0.50756, 0.523212, 0.585857, 0.276094), (0.544807, 0.628436, 0.306819, 0.166681)]\n",
      "Matched index:  1\n",
      "Len of pose:  62\n",
      "File Name:  2016.08.08.464.04\n",
      "bbox dict:  [(0.453267, 0.52321, 0.575757, 0.286195), (0.49304, 0.641058, 0.304293, 0.175084)]\n",
      "Matched index:  1\n",
      "Len of pose:  62\n",
      "File Name:  2016.08.08.464.05\n",
      "bbox dict:  [(0.24746, 0.598968, 0.29798, 0.235692), (0.636979, 0.507219, 0.604796, 0.388889)]\n",
      "Matched index:  1\n",
      "Len of pose:  62\n",
      "File Name:  2016.08.08.464.08\n",
      "bbox dict:  [(0.639504, 0.71513, 0.253787, 0.407407)]\n",
      "Matched index:  0\n",
      "Len of pose:  62\n",
      "File Name:  2016.08.08.465.01\n",
      "bbox dict:  [(0.371197, 0.497959, 0.550506, 0.276097), (0.722206, 0.482807, 0.21212, 0.276094), (0.371197, 0.497959, 0.550506, 0.276097), (0.722206, 0.482807, 0.21212, 0.276094)]\n",
      "Matched index:  3\n",
      "Len of pose:  62\n",
      "File Name:  2016.08.08.465.01\n",
      "bbox dict:  [(0.371197, 0.497959, 0.550506, 0.276097), (0.722206, 0.482807, 0.21212, 0.276094), (0.371197, 0.497959, 0.550506, 0.276097)]\n",
      "Matched index:  2\n",
      "Len of pose:  62\n",
      "File Name:  2016.08.08.465.02\n",
      "bbox dict:  [(0.333317, 0.471023, 0.550506, 0.279459), (0.691272, 0.452504, 0.233585, 0.255894), (0.333317, 0.471023, 0.550506, 0.279459), (0.691272, 0.452504, 0.233585, 0.255894)]\n",
      "Matched index:  3\n",
      "Len of pose:  62\n",
      "File Name:  2016.08.08.465.02\n",
      "bbox dict:  [(0.333317, 0.471023, 0.550506, 0.279459), (0.691272, 0.452504, 0.233585, 0.255894), (0.333317, 0.471023, 0.550506, 0.279459)]\n",
      "Matched index:  2\n",
      "Len of pose:  62\n",
      "File Name:  2016.08.08.465.03\n",
      "bbox dict:  [(0.552384, 0.691562, 0.632576, 0.276094), (0.589631, 0.433144, 0.138889, 0.385524)]\n",
      "Matched index:  1\n",
      "Len of pose:  62\n",
      "File Name:  2016.08.08.465.05\n",
      "bbox dict:  [(0.517029, 0.618329, 0.251263, 0.237376), (0.505666, 0.295939, 0.597222, 0.319864)]\n",
      "Matched index:  1\n",
      "Len of pose:  62\n",
      "File Name:  2016.08.08.465.06\n",
      "bbox dict:  [(0.56059, 0.646108, 0.262626, 0.259259), (0.511348, 0.290046, 0.601011, 0.324913), (0.56059, 0.646108, 0.262626, 0.259259), (0.511348, 0.290046, 0.601011, 0.324913)]\n",
      "Matched index:  3\n",
      "Len of pose:  62\n",
      "File Name:  2016.08.08.465.06\n",
      "bbox dict:  [(0.56059, 0.646108, 0.262626, 0.259259), (0.511348, 0.290046, 0.601011, 0.324913), (0.56059, 0.646108, 0.262626, 0.259259)]\n",
      "Matched index:  2\n",
      "Len of pose:  62\n",
      "File Name:  2016.08.08.465.07\n",
      "bbox dict:  [(0.157812, 0.269845, 0.199497, 0.358585), (0.494934, 0.600652, 0.626261, 0.336698), (0.157812, 0.269845, 0.199497, 0.358585), (0.494934, 0.600652, 0.626261, 0.336698)]\n",
      "Matched index:  3\n",
      "Len of pose:  62\n",
      "File Name:  2016.08.08.465.07\n",
      "bbox dict:  [(0.157812, 0.269845, 0.199497, 0.358585), (0.494934, 0.600652, 0.626261, 0.336698), (0.157812, 0.269845, 0.199497, 0.358585)]\n",
      "Matched index:  2\n",
      "Len of pose:  62\n",
      "File Name:  2016.08.08.466.03\n",
      "bbox dict:  [(0.493468, 0.577027, 0.635135, 0.337839)]\n",
      "Matched index:  0\n",
      "Len of pose:  62\n",
      "File Name:  2016.08.08.467.02\n",
      "bbox dict:  [(0.598469, 0.600652, 0.292928, 0.212121), (0.533444, 0.462604, 0.627526, 0.279462)]\n",
      "Matched index:  1\n",
      "Len of pose:  62\n",
      "File Name:  2016.08.08.467.03\n",
      "bbox dict:  [(0.5991, 0.601495, 0.294191, 0.200339), (0.534707, 0.460922, 0.622474, 0.272729)]\n",
      "Matched index:  1\n",
      "Len of pose:  62\n",
      "File Name:  2016.08.08.467.05\n",
      "bbox dict:  [(0.504403, 0.644424, 0.574497, 0.22559), (0.606045, 0.489541, 0.262628, 0.104378), (0.504403, 0.644424, 0.574497, 0.22559), (0.606045, 0.489541, 0.262628, 0.104378)]\n",
      "Matched index:  3\n",
      "Len of pose:  62\n",
      "File Name:  2016.08.08.467.05\n",
      "bbox dict:  [(0.504403, 0.644424, 0.574497, 0.22559), (0.606045, 0.489541, 0.262628, 0.104378), (0.504403, 0.644424, 0.574497, 0.22559)]\n",
      "Matched index:  2\n",
      "Len of pose:  62\n",
      "File Name:  2016.08.08.467.06\n",
      "bbox dict:  [(0.515767, 0.491224, 0.614898, 0.367002), (0.595944, 0.288362, 0.272726, 0.166667)]\n",
      "Matched index:  1\n",
      "Len of pose:  62\n",
      "File Name:  2016.08.08.467.07\n",
      "bbox dict:  [(0.57006, 0.450822, 0.604798, 0.407407), (0.556171, 0.271528, 0.281565, 0.190237), (0.57006, 0.450822, 0.604798, 0.407407), (0.556171, 0.271528, 0.281565, 0.190237), (0.57006, 0.450822, 0.604798, 0.407407), (0.556171, 0.271528, 0.281565, 0.190237), (0.57006, 0.450822, 0.604798, 0.407407), (0.556171, 0.271528, 0.281565, 0.190237)]\n",
      "Matched index:  7\n",
      "Len of pose:  62\n",
      "File Name:  2016.08.08.467.07\n",
      "bbox dict:  [(0.57006, 0.450822, 0.604798, 0.407407), (0.556171, 0.271528, 0.281565, 0.190237), (0.57006, 0.450822, 0.604798, 0.407407), (0.556171, 0.271528, 0.281565, 0.190237), (0.57006, 0.450822, 0.604798, 0.407407), (0.556171, 0.271528, 0.281565, 0.190237), (0.57006, 0.450822, 0.604798, 0.407407)]\n",
      "Matched index:  6\n",
      "Len of pose:  62\n",
      "File Name:  2016.08.08.467.08\n",
      "bbox dict:  [(0.489883, 0.661259, 0.558082, 0.336701), (0.760716, 0.811931, 0.301766, 0.207069), (0.489883, 0.661259, 0.558082, 0.336701), (0.760716, 0.811931, 0.301766, 0.207069)]\n",
      "Matched index:  3\n",
      "Len of pose:  62\n",
      "File Name:  2016.08.08.467.08\n",
      "bbox dict:  [(0.489883, 0.661259, 0.558082, 0.336701), (0.760716, 0.811931, 0.301766, 0.207069), (0.489883, 0.661259, 0.558082, 0.336701)]\n",
      "Matched index:  2\n",
      "Len of pose:  62\n",
      "File Name:  2016.08.08.467.09\n",
      "bbox dict:  [(0.464, 0.667151, 0.564392, 0.341751), (0.724732, 0.81614, 0.308079, 0.205388), (0.464, 0.667151, 0.564392, 0.341751), (0.724732, 0.81614, 0.308079, 0.205388)]\n",
      "Matched index:  3\n",
      "Len of pose:  62\n",
      "File Name:  2016.08.08.467.09\n",
      "bbox dict:  [(0.464, 0.667151, 0.564392, 0.341751), (0.724732, 0.81614, 0.308079, 0.205388), (0.464, 0.667151, 0.564392, 0.341751)]\n",
      "Matched index:  2\n",
      "Len of pose:  62\n",
      "File Name:  2016.08.08.468.01\n",
      "bbox dict:  [(0.501247, 0.557723, 0.275254, 0.12963), (0.501247, 0.557723, 0.275254, 0.12963)]\n",
      "Matched index:  1\n",
      "Len of pose:  62\n",
      "File Name:  2016.08.08.468.02\n",
      "bbox dict:  [(0.583317, 0.424727, 0.550506, 0.257578)]\n",
      "Matched index:  0\n",
      "Len of pose:  62\n",
      "File Name:  2016.08.08.469.01\n",
      "bbox dict:  [(0.469682, 0.622538, 0.575757, 0.373738), (0.368039, 0.552672, 0.215909, 0.132995), (0.469682, 0.622538, 0.575757, 0.373738), (0.368039, 0.552672, 0.215909, 0.132995)]\n",
      "Matched index:  3\n",
      "Len of pose:  62\n",
      "File Name:  2016.08.08.469.01\n",
      "bbox dict:  [(0.469682, 0.622538, 0.575757, 0.373738), (0.368039, 0.552672, 0.215909, 0.132995), (0.469682, 0.622538, 0.575757, 0.373738)]\n",
      "Matched index:  2\n",
      "Len of pose:  62\n",
      "File Name:  2016.08.08.469.02\n",
      "bbox dict:  [(0.493671, 0.610752, 0.573231, 0.37037), (0.395186, 0.539204, 0.214646, 0.146464), (0.493671, 0.610752, 0.573231, 0.37037), (0.395186, 0.539204, 0.214646, 0.146464)]\n",
      "Matched index:  3\n",
      "Len of pose:  62\n",
      "File Name:  2016.08.08.469.02\n",
      "bbox dict:  [(0.493671, 0.610752, 0.573231, 0.37037), (0.395186, 0.539204, 0.214646, 0.146464), (0.493671, 0.610752, 0.573231, 0.37037)]\n",
      "Matched index:  2\n",
      "Len of pose:  62\n",
      "File Name:  2016.08.08.469.03\n",
      "bbox dict:  [(0.561222, 0.379272, 0.569444, 0.378788), (0.43054, 0.663783, 0.30303, 0.19697)]\n",
      "Matched index:  1\n",
      "Len of pose:  62\n",
      "File Name:  2016.08.08.471.01\n",
      "bbox dict:  [(0.485585, 0.685135, 0.518019, 0.304806)]\n",
      "Matched index:  0\n",
      "Len of pose:  62\n",
      "File Name:  2016.08.08.471.04\n",
      "bbox dict:  [(0.515767, 0.64274, 0.314395, 0.299664)]\n",
      "Matched index:  0\n",
      "Len of pose:  62\n",
      "File Name:  2016.08.08.473.01\n",
      "bbox dict:  [(0.575111, 0.578766, 0.607322, 0.474748)]\n",
      "Matched index:  0\n",
      "Len of pose:  62\n",
      "File Name:  2016.08.08.473.03\n",
      "bbox dict:  [(0.400237, 0.540888, 0.654041, 0.284514), (0.35415, 0.75806, 0.314395, 0.183504), (0.400237, 0.540888, 0.654041, 0.284514), (0.35415, 0.75806, 0.314395, 0.183504)]\n",
      "Matched index:  3\n",
      "Len of pose:  62\n",
      "File Name:  2016.08.08.473.03\n",
      "bbox dict:  [(0.400237, 0.540888, 0.654041, 0.284514), (0.35415, 0.75806, 0.314395, 0.183504), (0.400237, 0.540888, 0.654041, 0.284514)]\n",
      "Matched index:  2\n",
      "Len of pose:  62\n",
      "File Name:  2016.08.08.473.09\n",
      "bbox dict:  [(0.438115, 0.600652, 0.618687, 0.323232)]\n",
      "Matched index:  0\n",
      "Len of pose:  62\n",
      "File Name:  2016.08.08.473.10\n",
      "bbox dict:  [(0.547333, 0.451662, 0.314392, 0.190234)]\n",
      "Matched index:  0\n",
      "Len of pose:  62\n",
      "File Name:  2016.08.08.474.01\n",
      "bbox dict:  [(0.468418, 0.46934, 0.305556, 0.168351), (0.415388, 0.763951, 0.588385, 0.380472), (0.468418, 0.46934, 0.305556, 0.168351), (0.415388, 0.763951, 0.588385, 0.380472)]\n",
      "Matched index:  3\n",
      "Len of pose:  62\n",
      "File Name:  2016.08.08.474.01\n",
      "bbox dict:  [(0.468418, 0.46934, 0.305556, 0.168351), (0.415388, 0.763951, 0.588385, 0.380472), (0.468418, 0.46934, 0.305556, 0.168351)]\n",
      "Matched index:  2\n",
      "Len of pose:  62\n",
      "File Name:  2016.08.08.474.02\n",
      "bbox dict:  [(0.407181, 0.763111, 0.58207, 0.365318), (0.475363, 0.482808, 0.314395, 0.195286), (0.407181, 0.763111, 0.58207, 0.365318), (0.475363, 0.482808, 0.314395, 0.195286)]\n",
      "Matched index:  3\n",
      "Len of pose:  62\n",
      "File Name:  2016.08.08.474.02\n",
      "bbox dict:  [(0.407181, 0.763111, 0.58207, 0.365318), (0.475363, 0.482808, 0.314395, 0.195286), (0.407181, 0.763111, 0.58207, 0.365318)]\n",
      "Matched index:  2\n",
      "Len of pose:  62\n",
      "File Name:  2016.08.08.474.03\n",
      "bbox dict:  [(0.464, 0.444928, 0.602274, 0.318183)]\n",
      "Matched index:  0\n",
      "Len of pose:  62\n",
      "File Name:  2016.08.08.474.05\n",
      "bbox dict:  [(0.451374, 0.526578, 0.594696, 0.373736), (0.181802, 0.556039, 0.262628, 0.237373)]\n",
      "Matched index:  1\n",
      "Len of pose:  62\n",
      "File Name:  2016.08.08.474.06\n",
      "bbox dict:  [(0.47915, 0.578767, 0.564395, 0.3468), (0.247459, 0.53668, 0.308082, 0.343435), (0.47915, 0.578767, 0.564395, 0.3468), (0.247459, 0.53668, 0.308082, 0.343435)]\n",
      "Matched index:  3\n",
      "Len of pose:  62\n",
      "File Name:  2016.08.08.474.06\n",
      "bbox dict:  [(0.47915, 0.578767, 0.564395, 0.3468), (0.247459, 0.53668, 0.308082, 0.343435), (0.47915, 0.578767, 0.564395, 0.3468)]\n",
      "Matched index:  2\n",
      "Len of pose:  62\n",
      "File Name:  2016.08.08.475.01\n",
      "bbox dict:  [(0.48357, 0.325399, 0.527778, 0.627946), (0.457055, 0.591393, 0.237374, 0.210437)]\n",
      "Matched index:  1\n",
      "Len of pose:  62\n",
      "File Name:  2016.08.08.476.02\n",
      "bbox dict:  [(0.446954, 0.568665, 0.648991, 0.286195)]\n",
      "Matched index:  0\n",
      "Len of pose:  62\n",
      "File Name:  2016.09.25.869.02\n",
      "bbox dict:  [(0.501659, 0.39035, 0.626126, 0.324323), (0.453799, 0.602062, 0.278153, 0.135136)]\n",
      "Matched index:  1\n",
      "Len of pose:  62\n",
      "File Name:  2016.08.11.478.03\n",
      "bbox dict:  [(0.448849, 0.561931, 0.534091, 0.269361), (0.60415, 0.709239, 0.200757, 0.075758), (0.448849, 0.561931, 0.534091, 0.269361), (0.60415, 0.709239, 0.200757, 0.075758)]\n",
      "Matched index:  3\n",
      "Len of pose:  62\n",
      "File Name:  2016.08.11.478.03\n",
      "bbox dict:  [(0.448849, 0.561931, 0.534091, 0.269361), (0.60415, 0.709239, 0.200757, 0.075758), (0.448849, 0.561931, 0.534091, 0.269361)]\n",
      "Matched index:  2\n",
      "Len of pose:  62\n",
      "File Name:  2016.08.11.481.02\n",
      "bbox dict:  [(0.488621, 0.552672, 0.558079, 0.287879), (0.340894, 0.726916, 0.333333, 0.185185), (0.488621, 0.552672, 0.558079, 0.287879), (0.340894, 0.726916, 0.333333, 0.185185)]\n",
      "Matched index:  3\n",
      "Len of pose:  62\n",
      "File Name:  2016.08.11.481.02\n",
      "bbox dict:  [(0.488621, 0.552672, 0.558079, 0.287879), (0.340894, 0.726916, 0.333333, 0.185185), (0.488621, 0.552672, 0.558079, 0.287879)]\n",
      "Matched index:  2\n",
      "Len of pose:  62\n",
      "File Name:  2016.08.11.483.03\n",
      "bbox dict:  [(0.430969, 0.573274, 0.525901, 0.270269), (0.56554, 0.66036, 0.286037, 0.243244)]\n",
      "Matched index:  1\n",
      "Len of pose:  62\n",
      "File Name:  2016.08.11.485.02\n",
      "bbox dict:  [(0.688747, 0.432302, 0.599746, 0.215489), (0.44001, 0.582976, 0.301769, 0.19697), (0.688747, 0.432302, 0.599746, 0.215489), (0.44001, 0.582976, 0.301769, 0.19697)]\n",
      "Matched index:  3\n",
      "Len of pose:  62\n",
      "File Name:  2016.08.11.485.02\n",
      "bbox dict:  [(0.688747, 0.432302, 0.599746, 0.215489), (0.44001, 0.582976, 0.301769, 0.19697), (0.688747, 0.432302, 0.599746, 0.215489)]\n",
      "Matched index:  2\n",
      "Len of pose:  62\n",
      "File Name:  2016.08.11.485.03\n",
      "bbox dict:  [(0.453899, 0.43567, 0.200757, 0.356901), (0.470944, 0.627588, 0.333333, 0.690234), (0.453899, 0.43567, 0.200757, 0.356901), (0.470944, 0.627588, 0.333333, 0.690234), (0.453899, 0.43567, 0.200757, 0.356901), (0.470944, 0.627588, 0.333333, 0.690234)]\n",
      "Matched index:  5\n",
      "Len of pose:  62\n",
      "File Name:  2016.08.11.485.03\n",
      "bbox dict:  [(0.453899, 0.43567, 0.200757, 0.356901), (0.470944, 0.627588, 0.333333, 0.690234), (0.453899, 0.43567, 0.200757, 0.356901), (0.470944, 0.627588, 0.333333, 0.690234), (0.453899, 0.43567, 0.200757, 0.356901)]\n",
      "Matched index:  4\n",
      "Len of pose:  62\n",
      "File Name:  2016.08.11.485.04\n",
      "bbox dict:  [(0.463368, 0.575401, 0.280304, 0.191918)]\n",
      "Matched index:  0\n",
      "Len of pose:  62\n",
      "File Name:  2016.08.11.487.01\n",
      "bbox dict:  [(0.344681, 0.647791, 0.310608, 0.212121), (0.686853, 0.650315, 0.568181, 0.496632), (0.344681, 0.647791, 0.310608, 0.212121), (0.686853, 0.650315, 0.568181, 0.496632)]\n",
      "Matched index:  3\n",
      "Len of pose:  62\n",
      "File Name:  2016.08.11.487.01\n",
      "bbox dict:  [(0.344681, 0.647791, 0.310608, 0.212121), (0.686853, 0.650315, 0.568181, 0.496632), (0.344681, 0.647791, 0.310608, 0.212121)]\n",
      "Matched index:  2\n",
      "Len of pose:  62\n",
      "File Name:  2016.08.11.489.02\n",
      "bbox dict:  [(0.390428, 0.521471, 0.516892, 0.584083), (0.456305, 0.753453, 0.265766, 0.345344), (0.390428, 0.521471, 0.516892, 0.584083), (0.456305, 0.753453, 0.265766, 0.345344)]\n",
      "Matched index:  3\n",
      "Len of pose:  62\n",
      "File Name:  2016.08.11.489.02\n",
      "bbox dict:  [(0.390428, 0.521471, 0.516892, 0.584083), (0.456305, 0.753453, 0.265766, 0.345344), (0.390428, 0.521471, 0.516892, 0.584083)]\n",
      "Matched index:  2\n",
      "Len of pose:  62\n",
      "File Name:  2016.08.11.489.04\n",
      "bbox dict:  [(0.418545, 0.433144, 0.223483, 0.227271), (0.45958, 0.557723, 0.411617, 0.577442), (0.418545, 0.433144, 0.223483, 0.227271), (0.45958, 0.557723, 0.411617, 0.577442)]\n",
      "Matched index:  3\n",
      "Len of pose:  62\n",
      "File Name:  2016.08.11.489.04\n",
      "bbox dict:  [(0.418545, 0.433144, 0.223483, 0.227271), (0.45958, 0.557723, 0.411617, 0.577442), (0.418545, 0.433144, 0.223483, 0.227271)]\n",
      "Matched index:  2\n",
      "Len of pose:  62\n",
      "File Name:  2016.08.11.490.02\n",
      "bbox dict:  [(0.487358, 0.405366, 0.53788, 0.262624), (0.653393, 0.326241, 0.233587, 0.20202), (0.487358, 0.405366, 0.53788, 0.262624), (0.653393, 0.326241, 0.233587, 0.20202)]\n",
      "Matched index:  3\n",
      "Len of pose:  62\n",
      "File Name:  2016.08.11.490.02\n",
      "bbox dict:  [(0.487358, 0.405366, 0.53788, 0.262624), (0.653393, 0.326241, 0.233587, 0.20202), (0.487358, 0.405366, 0.53788, 0.262624)]\n",
      "Matched index:  2\n",
      "Len of pose:  62\n",
      "File Name:  2016.08.11.490.03\n",
      "bbox dict:  [(0.466525, 0.447454, 0.566921, 0.279462)]\n",
      "Matched index:  0\n",
      "Len of pose:  62\n",
      "File Name:  2016.08.11.491.01\n",
      "bbox dict:  [(0.481676, 0.439035, 0.592172, 0.47138)]\n",
      "Matched index:  0\n",
      "Len of pose:  62\n",
      "File Name:  2016.08.11.492.02\n",
      "bbox dict:  [(0.496827, 0.564457, 0.42803, 0.459598), (0.502434, 0.785064, 0.201816, 0.184242), (0.496827, 0.564457, 0.42803, 0.459598), (0.502434, 0.785064, 0.201816, 0.184242)]\n",
      "Matched index:  3\n",
      "Len of pose:  62\n",
      "File Name:  2016.08.11.492.02\n",
      "bbox dict:  [(0.496827, 0.564457, 0.42803, 0.459598), (0.502434, 0.785064, 0.201816, 0.184242), (0.496827, 0.564457, 0.42803, 0.459598)]\n",
      "Matched index:  2\n",
      "Len of pose:  62\n",
      "File Name:  2016.08.11.492.06\n",
      "bbox dict:  [(0.530852, 0.519708, 0.537337, 0.32684), (0.391241, 0.755638, 0.258116, 0.179656), (0.530852, 0.519708, 0.537337, 0.32684), (0.391241, 0.755638, 0.258116, 0.179656)]\n",
      "Matched index:  3\n",
      "Len of pose:  62\n",
      "File Name:  2016.08.11.492.06\n",
      "bbox dict:  [(0.530852, 0.519708, 0.537337, 0.32684), (0.391241, 0.755638, 0.258116, 0.179656), (0.530852, 0.519708, 0.537337, 0.32684)]\n",
      "Matched index:  2\n",
      "Len of pose:  62\n",
      "File Name:  2016.08.11.497.02\n",
      "bbox dict:  [(0.354392, 0.433634, 0.483108, 0.192193), (0.354392, 0.433634, 0.483108, 0.192193)]\n",
      "Matched index:  1\n",
      "Len of pose:  62\n",
      "File Name:  2016.08.11.497.02\n",
      "bbox dict:  [(0.354392, 0.433634, 0.483108, 0.192193)]\n",
      "Matched index:  0\n",
      "Len of pose:  62\n",
      "File Name:  2016.08.12.500.04\n",
      "bbox dict:  [(0.557657, 0.50045, 0.617116, 0.250749)]\n",
      "Matched index:  0\n",
      "Len of pose:  62\n",
      "File Name:  2016.08.12.500.05\n",
      "bbox dict:  [(0.508125, 0.55001, 0.625, 0.279222), (0.23702, 0.759967, 0.316558, 0.214285), (0.508125, 0.55001, 0.625, 0.279222), (0.23702, 0.759967, 0.316558, 0.214285)]\n",
      "Matched index:  3\n",
      "Len of pose:  62\n",
      "File Name:  2016.08.12.500.05\n",
      "bbox dict:  [(0.508125, 0.55001, 0.625, 0.279222), (0.23702, 0.759967, 0.316558, 0.214285), (0.508125, 0.55001, 0.625, 0.279222)]\n",
      "Matched index:  2\n",
      "Len of pose:  62\n",
      "File Name:  2016.08.12.503.01\n",
      "bbox dict:  [(0.505689, 0.282701, 0.535714, 0.320362)]\n",
      "Matched index:  0\n",
      "Len of pose:  62\n",
      "File Name:  2016.08.12.503.02\n",
      "bbox dict:  [(0.524182, 0.433148, 0.308559, 0.145637), (0.314159, 0.715424, 0.217342, 0.367867), (0.524182, 0.433148, 0.308559, 0.145637), (0.314159, 0.715424, 0.217342, 0.367867), (0.524182, 0.433148, 0.308559, 0.145637), (0.314159, 0.715424, 0.217342, 0.367867)]\n",
      "Matched index:  5\n",
      "Len of pose:  62\n",
      "File Name:  2016.08.12.503.02\n",
      "bbox dict:  [(0.524182, 0.433148, 0.308559, 0.145637), (0.314159, 0.715424, 0.217342, 0.367867), (0.524182, 0.433148, 0.308559, 0.145637), (0.314159, 0.715424, 0.217342, 0.367867), (0.524182, 0.433148, 0.308559, 0.145637)]\n",
      "Matched index:  4\n",
      "Len of pose:  62\n",
      "File Name:  2016.08.12.503.02\n",
      "bbox dict:  [(0.524182, 0.433148, 0.308559, 0.145637), (0.314159, 0.715424, 0.217342, 0.367867), (0.524182, 0.433148, 0.308559, 0.145637), (0.314159, 0.715424, 0.217342, 0.367867)]\n",
      "Matched index:  3\n",
      "Len of pose:  62\n",
      "File Name:  2016.08.12.504.06\n",
      "bbox dict:  [(0.486712, 0.66036, 0.605855, 0.249251), (0.486712, 0.66036, 0.605855, 0.249251)]\n",
      "Matched index:  1\n",
      "Len of pose:  62\n",
      "File Name:  2016.08.12.504.06\n",
      "bbox dict:  [(0.486712, 0.66036, 0.605855, 0.249251)]\n",
      "Matched index:  0\n",
      "Len of pose:  62\n",
      "File Name:  2016.08.12.505.02\n",
      "bbox dict:  [(0.341749, 0.47894, 0.576576, 0.276276), (0.523356, 0.61022, 0.210211, 0.132633)]\n",
      "Matched index:  1\n",
      "Len of pose:  62\n",
      "File Name:  2016.08.12.506.01\n",
      "bbox dict:  [(0.588671, 0.699559, 0.258071, 0.193944), (0.475588, 0.588824, 0.538663, 0.315315), (0.588671, 0.699559, 0.258071, 0.193944), (0.475588, 0.588824, 0.538663, 0.315315)]\n",
      "Matched index:  3\n",
      "Len of pose:  62\n",
      "File Name:  2016.08.12.506.01\n",
      "bbox dict:  [(0.588671, 0.699559, 0.258071, 0.193944), (0.475588, 0.588824, 0.538663, 0.315315), (0.588671, 0.699559, 0.258071, 0.193944)]\n",
      "Matched index:  2\n",
      "Len of pose:  62\n",
      "File Name:  2016.08.12.508.08\n",
      "bbox dict:  [(0.601809, 0.655765, 0.250562, 0.153903), (0.52908, 0.451811, 0.512387, 0.336586), (0.601809, 0.655765, 0.250562, 0.153903), (0.52908, 0.451811, 0.512387, 0.336586)]\n",
      "Matched index:  3\n",
      "Len of pose:  62\n",
      "File Name:  2016.08.12.508.08\n",
      "bbox dict:  [(0.601809, 0.655765, 0.250562, 0.153903), (0.52908, 0.451811, 0.512387, 0.336586), (0.601809, 0.655765, 0.250562, 0.153903)]\n",
      "Matched index:  2\n",
      "Len of pose:  62\n",
      "File Name:  2016.08.12.509.01\n",
      "bbox dict:  [(0.64873, 0.38612, 0.51145, 0.342841), (0.48732, 0.675786, 0.24681, 0.176427), (0.64873, 0.38612, 0.51145, 0.342841), (0.48732, 0.675786, 0.24681, 0.176427)]\n",
      "Matched index:  3\n",
      "Len of pose:  62\n",
      "File Name:  2016.08.12.509.01\n",
      "bbox dict:  [(0.64873, 0.38612, 0.51145, 0.342841), (0.48732, 0.675786, 0.24681, 0.176427), (0.64873, 0.38612, 0.51145, 0.342841)]\n",
      "Matched index:  2\n",
      "Len of pose:  62\n",
      "File Name:  2016.08.12.509.02\n",
      "bbox dict:  [(0.673599, 0.436795, 0.495497, 0.366617), (0.513596, 0.721455, 0.24681, 0.167668), (0.673599, 0.436795, 0.495497, 0.366617), (0.513596, 0.721455, 0.24681, 0.167668)]\n",
      "Matched index:  3\n",
      "Len of pose:  62\n",
      "File Name:  2016.08.12.509.02\n",
      "bbox dict:  [(0.673599, 0.436795, 0.495497, 0.366617), (0.513596, 0.721455, 0.24681, 0.167668), (0.673599, 0.436795, 0.495497, 0.366617)]\n",
      "Matched index:  2\n",
      "Len of pose:  62\n",
      "File Name:  2016.08.12.509.03\n",
      "bbox dict:  [(0.407319, 0.384084, 0.30518, 0.663666), (0.479392, 0.619068, 0.215091, 0.172674), (0.407319, 0.384084, 0.30518, 0.663666), (0.479392, 0.619068, 0.215091, 0.172674)]\n",
      "Matched index:  3\n",
      "Len of pose:  62\n",
      "File Name:  2016.08.12.509.03\n",
      "bbox dict:  [(0.407319, 0.384084, 0.30518, 0.663666), (0.479392, 0.619068, 0.215091, 0.172674), (0.407319, 0.384084, 0.30518, 0.663666)]\n",
      "Matched index:  2\n",
      "Len of pose:  62\n",
      "File Name:  2016.08.12.511.01\n",
      "bbox dict:  [(0.457289, 0.389874, 0.586523, 0.305304)]\n",
      "Matched index:  0\n",
      "Len of pose:  62\n",
      "File Name:  2016.08.12.514.02\n",
      "bbox dict:  [(0.35453, 0.482467, 0.531157, 0.290292), (0.345145, 0.60071, 0.26464, 0.188938), (0.35453, 0.482467, 0.531157, 0.290292), (0.345145, 0.60071, 0.26464, 0.188938)]\n",
      "Matched index:  3\n",
      "Len of pose:  62\n",
      "File Name:  2016.08.12.514.02\n",
      "bbox dict:  [(0.35453, 0.482467, 0.531157, 0.290292), (0.345145, 0.60071, 0.26464, 0.188938), (0.35453, 0.482467, 0.531157, 0.290292)]\n",
      "Matched index:  2\n",
      "Len of pose:  62\n",
      "File Name:  2016.08.12.514.04\n",
      "bbox dict:  [(0.570841, 0.263497, 0.29373, 0.142642)]\n",
      "Matched index:  0\n",
      "Len of pose:  62\n",
      "File Name:  2016.08.13.515.03\n",
      "bbox dict:  [(0.591955, 0.457442, 0.608108, 0.287789)]\n",
      "Matched index:  0\n",
      "Len of pose:  62\n",
      "File Name:  2016.08.13.515.06\n",
      "bbox dict:  [(0.580743, 0.414113, 0.239863, 0.132133)]\n",
      "Matched index:  0\n",
      "Len of pose:  62\n",
      "File Name:  2016.08.13.515.08\n",
      "bbox dict:  [(0.594771, 0.471205, 0.579954, 0.217717), (0.723806, 0.203437, 0.316254, 0.180179), (0.594771, 0.471205, 0.579954, 0.217717), (0.723806, 0.203437, 0.316254, 0.180179)]\n",
      "Matched index:  3\n",
      "Len of pose:  62\n",
      "File Name:  2016.08.13.515.08\n",
      "bbox dict:  [(0.594771, 0.471205, 0.579954, 0.217717), (0.723806, 0.203437, 0.316254, 0.180179), (0.594771, 0.471205, 0.579954, 0.217717)]\n",
      "Matched index:  2\n",
      "Len of pose:  62\n",
      "File Name:  2016.08.13.516.03\n",
      "bbox dict:  [(0.479812, 0.49498, 0.565879, 0.265266)]\n",
      "Matched index:  0\n",
      "Len of pose:  62\n",
      "File Name:  2016.08.13.516.04\n",
      "bbox dict:  [(0.680637, 0.383618, 0.310623, 0.245246)]\n",
      "Matched index:  0\n",
      "Len of pose:  62\n",
      "File Name:  2016.08.13.517.02\n",
      "bbox dict:  [(0.49295, 0.653262, 0.276838, 0.126374), (0.437113, 0.53627, 0.527402, 0.202703)]\n",
      "Matched index:  1\n",
      "Len of pose:  62\n",
      "File Name:  2016.08.13.518.02\n",
      "bbox dict:  [(0.310893, 0.589449, 0.23367, 0.176427)]\n",
      "Matched index:  0\n",
      "Len of pose:  62\n",
      "File Name:  2016.08.13.519.01\n",
      "bbox dict:  [(0.425383, 0.64513, 0.518956, 0.427928)]\n",
      "Matched index:  0\n",
      "Len of pose:  62\n",
      "File Name:  2016.08.13.519.02\n",
      "bbox dict:  [(0.449313, 0.268504, 0.236487, 0.37037), (0.522042, 0.570054, 0.51145, 0.53053), (0.449313, 0.268504, 0.236487, 0.37037), (0.522042, 0.570054, 0.51145, 0.53053)]\n",
      "Matched index:  3\n",
      "Len of pose:  62\n",
      "File Name:  2016.08.13.519.02\n",
      "bbox dict:  [(0.449313, 0.268504, 0.236487, 0.37037), (0.522042, 0.570054, 0.51145, 0.53053), (0.449313, 0.268504, 0.236487, 0.37037)]\n",
      "Matched index:  2\n",
      "Len of pose:  62\n",
      "File Name:  2016.08.13.520.01\n",
      "bbox dict:  [(0.48277, 0.519971, 0.58446, 0.274774)]\n",
      "Matched index:  0\n",
      "Len of pose:  62\n",
      "File Name:  2016.08.13.521.01\n",
      "bbox dict:  [(0.540809, 0.508115, 0.564002, 0.276531)]\n",
      "Matched index:  0\n",
      "Len of pose:  62\n",
      "File Name:  2016.08.13.522.01\n",
      "bbox dict:  [(0.541749, 0.474958, 0.520833, 0.24024)]\n",
      "Matched index:  0\n",
      "Len of pose:  62\n",
      "File Name:  2016.08.13.522.03\n",
      "bbox dict:  [(0.351013, 0.481683, 0.537161, 0.282283), (0.351013, 0.481683, 0.537161, 0.282283)]\n",
      "Matched index:  1\n",
      "Len of pose:  62\n",
      "File Name:  2016.08.13.522.03\n",
      "bbox dict:  [(0.351013, 0.481683, 0.537161, 0.282283)]\n",
      "Matched index:  0\n",
      "Len of pose:  62\n",
      "File Name:  2016.08.13.523.02\n",
      "bbox dict:  [(0.395352, 0.547532, 0.586523, 0.265266), (0.461513, 0.706442, 0.225226, 0.110107), (0.395352, 0.547532, 0.586523, 0.265266), (0.461513, 0.706442, 0.225226, 0.110107)]\n",
      "Matched index:  3\n",
      "Len of pose:  62\n",
      "File Name:  2016.08.13.523.02\n",
      "bbox dict:  [(0.395352, 0.547532, 0.586523, 0.265266), (0.461513, 0.706442, 0.225226, 0.110107), (0.395352, 0.547532, 0.586523, 0.265266)]\n",
      "Matched index:  2\n",
      "Len of pose:  62\n",
      "File Name:  2016.08.13.524.01\n",
      "bbox dict:  [(0.443355, 0.488439, 0.593468, 0.295796)]\n",
      "Matched index:  0\n",
      "Len of pose:  62\n",
      "File Name:  2016.08.13.525.01\n",
      "bbox dict:  [(0.400514, 0.53627, 0.58934, 0.282784), (0.688614, 0.266626, 0.305931, 0.178929), (0.400514, 0.53627, 0.58934, 0.282784), (0.688614, 0.266626, 0.305931, 0.178929)]\n",
      "Matched index:  3\n",
      "Len of pose:  62\n",
      "File Name:  2016.08.13.525.01\n",
      "bbox dict:  [(0.400514, 0.53627, 0.58934, 0.282784), (0.688614, 0.266626, 0.305931, 0.178929), (0.400514, 0.53627, 0.58934, 0.282784)]\n",
      "Matched index:  2\n",
      "Len of pose:  62\n",
      "File Name:  2016.08.13.525.02\n",
      "bbox dict:  [(0.424444, 0.579439, 0.567756, 0.311563), (0.650139, 0.31605, 0.298424, 0.227726), (0.424444, 0.579439, 0.567756, 0.311563), (0.650139, 0.31605, 0.298424, 0.227726)]\n",
      "Matched index:  3\n",
      "Len of pose:  62\n",
      "File Name:  2016.08.13.525.02\n",
      "bbox dict:  [(0.424444, 0.579439, 0.567756, 0.311563), (0.650139, 0.31605, 0.298424, 0.227726), (0.424444, 0.579439, 0.567756, 0.311563)]\n",
      "Matched index:  2\n",
      "Len of pose:  62\n",
      "File Name:  2016.08.13.526.03\n",
      "bbox dict:  [(0.482158, 0.724585, 0.593092, 0.264013)]\n",
      "Matched index:  0\n",
      "Len of pose:  62\n",
      "File Name:  2016.08.13.528.04\n",
      "bbox dict:  [(0.199219, 0.369854, 0.316254, 0.195194), (0.504211, 0.384243, 0.612802, 0.389141), (0.199219, 0.369854, 0.316254, 0.195194), (0.504211, 0.384243, 0.612802, 0.389141)]\n",
      "Matched index:  3\n",
      "Len of pose:  62\n",
      "File Name:  2016.08.13.528.04\n",
      "bbox dict:  [(0.199219, 0.369854, 0.316254, 0.195194), (0.504211, 0.384243, 0.612802, 0.389141), (0.199219, 0.369854, 0.316254, 0.195194)]\n",
      "Matched index:  2\n",
      "Len of pose:  62\n",
      "File Name:  2016.08.13.531.06\n",
      "bbox dict:  [(0.515472, 0.299158, 0.541478, 0.299051), (0.77542, 0.481842, 0.252441, 0.163915), (0.243794, 0.485595, 0.223349, 0.108857), (0.515472, 0.299158, 0.541478, 0.299051), (0.77542, 0.481842, 0.252441, 0.163915), (0.243794, 0.485595, 0.223349, 0.108857)]\n",
      "Matched index:  5\n",
      "Len of pose:  62\n",
      "File Name:  2016.08.13.531.06\n",
      "bbox dict:  [(0.515472, 0.299158, 0.541478, 0.299051), (0.77542, 0.481842, 0.252441, 0.163915), (0.243794, 0.485595, 0.223349, 0.108857), (0.515472, 0.299158, 0.541478, 0.299051), (0.77542, 0.481842, 0.252441, 0.163915)]\n",
      "Matched index:  4\n",
      "Len of pose:  62\n",
      "File Name:  2016.08.14.538.02\n",
      "bbox dict:  [(0.475589, 0.387371, 0.270271, 0.24024), (0.475589, 0.387371, 0.270271, 0.24024)]\n",
      "Matched index:  1\n",
      "Len of pose:  62\n",
      "File Name:  2016.08.14.538.02\n",
      "bbox dict:  [(0.475589, 0.387371, 0.270271, 0.24024)]\n",
      "Matched index:  0\n",
      "Len of pose:  62\n",
      "File Name:  2016.08.14.541.04\n",
      "bbox dict:  [(0.46292, 0.583818, 0.321886, 0.23774)]\n",
      "Matched index:  0\n",
      "Len of pose:  62\n",
      "File Name:  2016.08.14.547.03\n",
      "bbox dict:  [(0.337638, 0.425535, 0.176426, 0.319068), (0.261156, 0.599459, 0.177363, 0.514265), (0.134466, 0.512497, 0.068507, 0.242743), (0.337638, 0.425535, 0.176426, 0.319068), (0.261156, 0.599459, 0.177363, 0.514265), (0.134466, 0.512497, 0.068507, 0.242743), (0.337638, 0.425535, 0.176426, 0.319068), (0.261156, 0.599459, 0.177363, 0.514265), (0.134466, 0.512497, 0.068507, 0.242743)]\n",
      "Matched index:  8\n",
      "Len of pose:  62\n",
      "File Name:  2016.08.14.547.03\n",
      "bbox dict:  [(0.337638, 0.425535, 0.176426, 0.319068), (0.261156, 0.599459, 0.177363, 0.514265), (0.134466, 0.512497, 0.068507, 0.242743), (0.337638, 0.425535, 0.176426, 0.319068), (0.261156, 0.599459, 0.177363, 0.514265), (0.134466, 0.512497, 0.068507, 0.242743), (0.337638, 0.425535, 0.176426, 0.319068), (0.261156, 0.599459, 0.177363, 0.514265)]\n",
      "Matched index:  7\n",
      "Len of pose:  62\n",
      "File Name:  2016.08.14.547.03\n",
      "bbox dict:  [(0.337638, 0.425535, 0.176426, 0.319068), (0.261156, 0.599459, 0.177363, 0.514265), (0.134466, 0.512497, 0.068507, 0.242743), (0.337638, 0.425535, 0.176426, 0.319068), (0.261156, 0.599459, 0.177363, 0.514265), (0.134466, 0.512497, 0.068507, 0.242743), (0.337638, 0.425535, 0.176426, 0.319068)]\n",
      "Matched index:  6\n",
      "Len of pose:  62\n",
      "File Name:  2016.08.14.548.01\n",
      "bbox dict:  [(0.3306, 0.454314, 0.254316, 0.792043), (0.594771, 0.702688, 0.309685, 0.22022)]\n",
      "Matched index:  1\n",
      "Len of pose:  62\n",
      "File Name:  2016.08.14.550.04\n",
      "bbox dict:  [(0.596253, 0.699659, 0.301803, 0.261262)]\n",
      "Matched index:  0\n",
      "Len of pose:  62\n",
      "File Name:  2016.08.14.552.02\n",
      "bbox dict:  [(0.365397, 0.457167, 0.283785, 0.16066)]\n",
      "Matched index:  0\n",
      "Len of pose:  62\n",
      "File Name:  2016.08.14.553.04\n",
      "bbox dict:  [(0.612019, 0.261972, 0.596847, 0.304806), (0.5681, 0.456415, 0.236487, 0.108108), (0.612019, 0.261972, 0.596847, 0.304806), (0.5681, 0.456415, 0.236487, 0.108108)]\n",
      "Matched index:  3\n",
      "Len of pose:  62\n",
      "File Name:  2016.08.14.553.04\n",
      "bbox dict:  [(0.612019, 0.261972, 0.596847, 0.304806), (0.5681, 0.456415, 0.236487, 0.108108), (0.612019, 0.261972, 0.596847, 0.304806)]\n",
      "Matched index:  2\n",
      "Len of pose:  62\n",
      "File Name:  2016.08.16.556.02\n",
      "bbox dict:  [(0.38792, 0.350558, 0.60811, 0.277778), (0.557964, 0.558517, 0.340091, 0.171172), (0.38792, 0.350558, 0.60811, 0.277778), (0.557964, 0.558517, 0.340091, 0.171172)]\n",
      "Matched index:  3\n",
      "Len of pose:  62\n",
      "File Name:  2016.08.16.556.02\n",
      "bbox dict:  [(0.38792, 0.350558, 0.60811, 0.277778), (0.557964, 0.558517, 0.340091, 0.171172), (0.38792, 0.350558, 0.60811, 0.277778)]\n",
      "Matched index:  2\n",
      "Len of pose:  62\n",
      "File Name:  2016.08.16.557.03\n",
      "bbox dict:  [(0.519677, 0.638098, 0.668919, 0.348348), (0.218438, 0.572782, 0.296172, 0.151652), (0.519677, 0.638098, 0.668919, 0.348348), (0.218438, 0.572782, 0.296172, 0.151652)]\n",
      "Matched index:  3\n",
      "Len of pose:  62\n",
      "File Name:  2016.08.16.557.03\n",
      "bbox dict:  [(0.519677, 0.638098, 0.668919, 0.348348), (0.218438, 0.572782, 0.296172, 0.151652), (0.519677, 0.638098, 0.668919, 0.348348)]\n",
      "Matched index:  2\n",
      "Len of pose:  62\n",
      "File Name:  2016.08.16.559.01\n",
      "bbox dict:  [(0.501096, 0.391852, 0.217344, 0.120122), (0.395803, 0.554013, 0.704957, 0.348351), (0.501096, 0.391852, 0.217344, 0.120122), (0.395803, 0.554013, 0.704957, 0.348351)]\n",
      "Matched index:  3\n",
      "Len of pose:  62\n",
      "File Name:  2016.08.16.559.01\n",
      "bbox dict:  [(0.501096, 0.391852, 0.217344, 0.120122), (0.395803, 0.554013, 0.704957, 0.348351), (0.501096, 0.391852, 0.217344, 0.120122)]\n",
      "Matched index:  2\n",
      "Len of pose:  62\n",
      "File Name:  2016.08.16.565.04\n",
      "bbox dict:  [(0.555713, 0.239449, 0.628379, 0.361861), (0.417763, 0.53149, 0.320946, 0.153154), (0.555713, 0.239449, 0.628379, 0.361861), (0.417763, 0.53149, 0.320946, 0.153154)]\n",
      "Matched index:  3\n",
      "Len of pose:  62\n",
      "File Name:  2016.08.16.565.04\n",
      "bbox dict:  [(0.555713, 0.239449, 0.628379, 0.361861), (0.417763, 0.53149, 0.320946, 0.153154), (0.555713, 0.239449, 0.628379, 0.361861)]\n",
      "Matched index:  2\n",
      "Len of pose:  62\n",
      "File Name:  2016.08.16.567.02\n",
      "bbox dict:  [(0.550646, 0.382843, 0.273648, 0.132133), (0.550646, 0.382843, 0.273648, 0.132133)]\n",
      "Matched index:  1\n",
      "Len of pose:  62\n",
      "File Name:  2016.08.16.567.02\n",
      "bbox dict:  [(0.550646, 0.382843, 0.273648, 0.132133)]\n",
      "Matched index:  0\n",
      "Len of pose:  62\n",
      "File Name:  2016.08.17.571.02\n",
      "bbox dict:  [(0.531501, 0.456416, 0.300675, 0.165165)]\n",
      "Matched index:  0\n",
      "Len of pose:  62\n",
      "File Name:  2016.08.17.572.02\n",
      "bbox dict:  [(0.483077, 0.517227, 0.341215, 0.202705)]\n",
      "Matched index:  0\n",
      "Len of pose:  62\n",
      "File Name:  2016.08.17.580.01\n",
      "bbox dict:  [(0.51123, 0.548751, 0.296172, 0.14866)]\n",
      "Matched index:  0\n",
      "Len of pose:  62\n",
      "File Name:  2016.08.17.581.01\n",
      "bbox dict:  [(0.523619, 0.520979, 0.69482, 0.318319)]\n",
      "Matched index:  0\n",
      "Len of pose:  62\n",
      "File Name:  2016.08.17.586.02\n",
      "bbox dict:  [(0.501095, 0.471431, 0.670046, 0.273273), (0.524181, 0.322782, 0.288288, 0.153151), (0.501095, 0.471431, 0.670046, 0.273273), (0.524181, 0.322782, 0.288288, 0.153151)]\n",
      "Matched index:  3\n",
      "Len of pose:  62\n",
      "File Name:  2016.08.17.586.02\n",
      "bbox dict:  [(0.501095, 0.471431, 0.670046, 0.273273), (0.524181, 0.322782, 0.288288, 0.153151), (0.501095, 0.471431, 0.670046, 0.273273)]\n",
      "Matched index:  2\n",
      "Len of pose:  62\n",
      "File Name:  2016.08.17.587.02\n",
      "bbox dict:  [(0.52024, 0.620836, 0.566443, 0.259774)]\n",
      "Matched index:  0\n",
      "Len of pose:  62\n",
      "File Name:  2016.08.17.590.02\n",
      "bbox dict:  [(0.538513, 0.525977, 0.35135, 0.157659), (0.501915, 0.775224, 0.69482, 0.412914), (0.538513, 0.525977, 0.35135, 0.157659), (0.501915, 0.775224, 0.69482, 0.412914)]\n",
      "Matched index:  3\n",
      "Len of pose:  62\n",
      "File Name:  2016.08.17.590.02\n",
      "bbox dict:  [(0.538513, 0.525977, 0.35135, 0.157659), (0.501915, 0.775224, 0.69482, 0.412914), (0.538513, 0.525977, 0.35135, 0.157659)]\n",
      "Matched index:  2\n",
      "Len of pose:  62\n",
      "File Name:  2016.08.22.618.02\n",
      "bbox dict:  [(0.477447, 0.520981, 0.323197, 0.138137)]\n",
      "Matched index:  0\n",
      "Len of pose:  62\n",
      "File Name:  2016.08.22.619.03\n",
      "bbox dict:  [(0.454362, 0.671882, 0.394145, 0.22072)]\n",
      "Matched index:  0\n",
      "Len of pose:  62\n",
      "File Name:  2016.08.22.620.01\n",
      "bbox dict:  [(0.439721, 0.434644, 0.630632, 0.3018), (0.60301, 0.305514, 0.252253, 0.148649), (0.439721, 0.434644, 0.630632, 0.3018), (0.60301, 0.305514, 0.252253, 0.148649)]\n",
      "Matched index:  3\n",
      "Len of pose:  62\n",
      "File Name:  2016.08.22.620.01\n",
      "bbox dict:  [(0.439721, 0.434644, 0.630632, 0.3018), (0.60301, 0.305514, 0.252253, 0.148649), (0.439721, 0.434644, 0.630632, 0.3018)]\n",
      "Matched index:  2\n",
      "Len of pose:  62\n",
      "File Name:  2016.08.22.620.04\n",
      "bbox dict:  [(0.458866, 0.604314, 0.648648, 0.277778), (0.569789, 0.325784, 0.296172, 0.18919), (0.458866, 0.604314, 0.648648, 0.277778), (0.569789, 0.325784, 0.296172, 0.18919)]\n",
      "Matched index:  3\n",
      "Len of pose:  62\n",
      "File Name:  2016.08.22.620.04\n",
      "bbox dict:  [(0.458866, 0.604314, 0.648648, 0.277778), (0.569789, 0.325784, 0.296172, 0.18919), (0.458866, 0.604314, 0.648648, 0.277778)]\n",
      "Matched index:  2\n",
      "Len of pose:  62\n",
      "File Name:  2016.08.22.623.02\n",
      "bbox dict:  [(0.551208, 0.486445, 0.409911, 0.207208)]\n",
      "Matched index:  0\n",
      "Len of pose:  62\n",
      "File Name:  2016.08.22.626.02\n",
      "bbox dict:  [(0.537132, 0.507467, 0.390766, 0.207208)]\n",
      "Matched index:  0\n",
      "Len of pose:  62\n",
      "File Name:  2016.08.22.626.04\n",
      "bbox dict:  [(0.474632, 0.56002, 0.353605, 0.228229), (0.46506, 0.216175, 0.692567, 0.369369), (0.474632, 0.56002, 0.353605, 0.228229), (0.46506, 0.216175, 0.692567, 0.369369)]\n",
      "Matched index:  3\n",
      "Len of pose:  62\n",
      "File Name:  2016.08.22.626.04\n",
      "bbox dict:  [(0.474632, 0.56002, 0.353605, 0.228229), (0.46506, 0.216175, 0.692567, 0.369369), (0.474632, 0.56002, 0.353605, 0.228229)]\n",
      "Matched index:  2\n",
      "Len of pose:  62\n",
      "File Name:  2016.08.22.628.02\n",
      "bbox dict:  [(0.386794, 0.507467, 0.367116, 0.210211)]\n",
      "Matched index:  0\n",
      "Len of pose:  62\n",
      "File Name:  2016.08.23.636.02\n",
      "bbox dict:  [(0.431275, 0.4917, 0.359234, 0.181681)]\n",
      "Matched index:  0\n",
      "Len of pose:  62\n",
      "File Name:  2016.08.23.636.03\n",
      "bbox dict:  [(0.305713, 0.403112, 0.310809, 0.232734)]\n",
      "Matched index:  0\n",
      "Len of pose:  62\n",
      "File Name:  2016.08.23.637.01\n",
      "bbox dict:  [(0.669453, 0.658368, 0.198203, 0.196696), (0.413258, 0.593804, 0.559685, 0.265767), (0.669453, 0.658368, 0.198203, 0.196696), (0.413258, 0.593804, 0.559685, 0.265767)]\n",
      "Matched index:  3\n",
      "Len of pose:  62\n",
      "File Name:  2016.08.23.637.01\n",
      "bbox dict:  [(0.669453, 0.658368, 0.198203, 0.196696), (0.413258, 0.593804, 0.559685, 0.265767), (0.669453, 0.658368, 0.198203, 0.196696)]\n",
      "Matched index:  2\n",
      "Len of pose:  62\n",
      "File Name:  2016.08.23.637.03\n",
      "bbox dict:  [(0.504474, 0.56077, 0.672298, 0.289792)]\n",
      "Matched index:  0\n",
      "Len of pose:  62\n",
      "File Name:  2016.08.23.637.04\n",
      "bbox dict:  [(0.699857, 0.650861, 0.290543, 0.151652), (0.498843, 0.486445, 0.674549, 0.282283), (0.699857, 0.650861, 0.290543, 0.151652), (0.498843, 0.486445, 0.674549, 0.282283)]\n",
      "Matched index:  3\n",
      "Len of pose:  62\n",
      "File Name:  2016.08.23.637.04\n",
      "bbox dict:  [(0.699857, 0.650861, 0.290543, 0.151652), (0.498843, 0.486445, 0.674549, 0.282283), (0.699857, 0.650861, 0.290543, 0.151652)]\n",
      "Matched index:  2\n",
      "Len of pose:  62\n",
      "File Name:  2016.08.23.638.01\n",
      "bbox dict:  [(0.422829, 0.401612, 0.263513, 0.124624), (0.532627, 0.507467, 0.582207, 0.28829), (0.422829, 0.401612, 0.263513, 0.124624), (0.532627, 0.507467, 0.582207, 0.28829)]\n",
      "Matched index:  3\n",
      "Len of pose:  62\n",
      "File Name:  2016.08.23.638.01\n",
      "bbox dict:  [(0.422829, 0.401612, 0.263513, 0.124624), (0.532627, 0.507467, 0.582207, 0.28829), (0.422829, 0.401612, 0.263513, 0.124624)]\n",
      "Matched index:  2\n",
      "Len of pose:  62\n",
      "File Name:  2016.08.23.638.02\n",
      "bbox dict:  [(0.351013, 0.444145, 0.271398, 0.129129)]\n",
      "Matched index:  0\n",
      "Len of pose:  62\n",
      "File Name:  2016.08.23.638.03\n",
      "bbox dict:  [(0.464497, 0.491701, 0.605855, 0.244745)]\n",
      "Matched index:  0\n",
      "Len of pose:  62\n",
      "File Name:  2016.08.23.640.02\n",
      "bbox dict:  [(0.432402, 0.499207, 0.296172, 0.166667)]\n",
      "Matched index:  0\n",
      "Len of pose:  62\n",
      "File Name:  2016.08.23.640.04\n",
      "bbox dict:  [(0.486456, 0.683142, 0.320946, 0.228229), (0.441974, 0.461671, 0.558557, 0.22072), (0.486456, 0.683142, 0.320946, 0.228229), (0.441974, 0.461671, 0.558557, 0.22072)]\n",
      "Matched index:  3\n",
      "Len of pose:  62\n",
      "File Name:  2016.08.23.640.04\n",
      "bbox dict:  [(0.486456, 0.683142, 0.320946, 0.228229), (0.441974, 0.461671, 0.558557, 0.22072), (0.486456, 0.683142, 0.320946, 0.228229)]\n",
      "Matched index:  2\n",
      "Len of pose:  62\n",
      "File Name:  2016.08.23.641.01\n",
      "bbox dict:  [(0.442537, 0.776236, 0.311936, 0.231233), (0.489272, 0.60056, 0.711712, 0.318319)]\n",
      "Matched index:  1\n",
      "Len of pose:  62\n",
      "File Name:  2016.08.23.641.02\n",
      "bbox dict:  [(0.55515, 0.563022, 0.309683, 0.165165)]\n",
      "Matched index:  0\n",
      "Len of pose:  62\n",
      "File Name:  2016.08.23.642.04\n",
      "bbox dict:  [(0.493213, 0.35056, 0.284911, 0.175674), (0.420577, 0.461671, 0.657656, 0.262763), (0.493213, 0.35056, 0.284911, 0.175674), (0.420577, 0.461671, 0.657656, 0.262763)]\n",
      "Matched index:  3\n",
      "Len of pose:  62\n",
      "File Name:  2016.08.23.642.04\n",
      "bbox dict:  [(0.493213, 0.35056, 0.284911, 0.175674), (0.420577, 0.461671, 0.657656, 0.262763), (0.493213, 0.35056, 0.284911, 0.175674)]\n",
      "Matched index:  2\n",
      "Len of pose:  62\n",
      "File Name:  2016.08.23.643.02\n",
      "bbox dict:  [(0.416635, 0.615576, 0.667793, 0.294294), (0.32373, 0.768728, 0.286037, 0.201201), (0.416635, 0.615576, 0.667793, 0.294294), (0.32373, 0.768728, 0.286037, 0.201201)]\n",
      "Matched index:  3\n",
      "Len of pose:  62\n",
      "File Name:  2016.08.23.643.02\n",
      "bbox dict:  [(0.416635, 0.615576, 0.667793, 0.294294), (0.32373, 0.768728, 0.286037, 0.201201), (0.416635, 0.615576, 0.667793, 0.294294)]\n",
      "Matched index:  2\n",
      "Len of pose:  62\n",
      "File Name:  2016.08.23.644.01\n",
      "bbox dict:  [(0.487019, 0.569028, 0.621621, 0.33934)]\n",
      "Matched index:  0\n",
      "Len of pose:  62\n",
      "File Name:  2016.08.23.644.02\n",
      "bbox dict:  [(0.485023, 0.562763, 0.338965, 0.213212)]\n",
      "Matched index:  0\n",
      "Len of pose:  62\n",
      "File Name:  2016.08.26.646.04\n",
      "bbox dict:  [(0.472943, 0.508968, 0.36599, 0.177179)]\n",
      "Matched index:  0\n",
      "Len of pose:  62\n",
      "File Name:  2016.08.26.647.02\n",
      "bbox dict:  [(0.471815, 0.536746, 0.388513, 0.175674)]\n",
      "Matched index:  0\n",
      "Len of pose:  62\n",
      "File Name:  2016.08.26.649.02\n",
      "bbox dict:  [(0.583866, 0.391852, 0.371621, 0.180179), (0.529812, 0.616325, 0.648648, 0.418918), (0.583866, 0.391852, 0.371621, 0.180179), (0.529812, 0.616325, 0.648648, 0.418918)]\n",
      "Matched index:  3\n",
      "Len of pose:  62\n",
      "File Name:  2016.08.26.649.02\n",
      "bbox dict:  [(0.583866, 0.391852, 0.371621, 0.180179), (0.529812, 0.616325, 0.648648, 0.418918), (0.583866, 0.391852, 0.371621, 0.180179)]\n",
      "Matched index:  2\n",
      "Len of pose:  62\n",
      "File Name:  2016.08.26.650.02\n",
      "bbox dict:  [(0.550082, 0.433893, 0.659909, 0.300298), (0.386794, 0.543503, 0.335584, 0.180182), (0.550082, 0.433893, 0.659909, 0.300298), (0.386794, 0.543503, 0.335584, 0.180182)]\n",
      "Matched index:  3\n",
      "Len of pose:  62\n",
      "File Name:  2016.08.26.650.02\n",
      "bbox dict:  [(0.550082, 0.433893, 0.659909, 0.300298), (0.386794, 0.543503, 0.335584, 0.180182), (0.550082, 0.433893, 0.659909, 0.300298)]\n",
      "Matched index:  2\n",
      "Len of pose:  62\n",
      "File Name:  2016.08.26.653.02\n",
      "bbox dict:  [(0.569789, 0.428639, 0.379505, 0.190692)]\n",
      "Matched index:  0\n",
      "Len of pose:  62\n",
      "File Name:  2016.08.26.654.02\n",
      "bbox dict:  [(0.49265, 0.497707, 0.380629, 0.229731)]\n",
      "Matched index:  0\n",
      "Len of pose:  62\n",
      "File Name:  2016.08.26.655.02\n",
      "bbox dict:  [(0.328235, 0.689148, 0.268019, 0.123122), (0.515736, 0.373832, 0.539414, 0.243244), (0.328235, 0.689148, 0.268019, 0.123122), (0.515736, 0.373832, 0.539414, 0.243244)]\n",
      "Matched index:  3\n",
      "Len of pose:  62\n",
      "File Name:  2016.08.26.655.02\n",
      "bbox dict:  [(0.328235, 0.689148, 0.268019, 0.123122), (0.515736, 0.373832, 0.539414, 0.243244), (0.328235, 0.689148, 0.268019, 0.123122)]\n",
      "Matched index:  2\n",
      "Len of pose:  62\n",
      "File Name:  2016.08.26.655.03\n",
      "bbox dict:  [(0.501659, 0.523232, 0.592342, 0.235735), (0.70605, 0.705666, 0.480855, 0.216215)]\n",
      "Matched index:  1\n",
      "Len of pose:  62\n",
      "File Name:  2016.08.26.657.02\n",
      "bbox dict:  [(0.307657, 0.547747, 0.324325, 0.213215), (0.54696, 0.456907, 0.656532, 0.298796), (0.307657, 0.547747, 0.324325, 0.213215), (0.54696, 0.456907, 0.656532, 0.298796)]\n",
      "Matched index:  3\n",
      "Len of pose:  62\n",
      "File Name:  2016.08.26.657.02\n",
      "bbox dict:  [(0.307657, 0.547747, 0.324325, 0.213215), (0.54696, 0.456907, 0.656532, 0.298796), (0.307657, 0.547747, 0.324325, 0.213215)]\n",
      "Matched index:  2\n",
      "Len of pose:  62\n",
      "File Name:  2016.08.26.661.02\n",
      "bbox dict:  [(0.605825, 0.382092, 0.649774, 0.415914), (0.453799, 0.580289, 0.332207, 0.172674)]\n",
      "Matched index:  1\n",
      "Len of pose:  62\n",
      "File Name:  2016.08.26.663.02\n",
      "bbox dict:  [(0.434767, 0.487347, 0.317567, 0.184688)]\n",
      "Matched index:  0\n",
      "Len of pose:  62\n",
      "File Name:  2016.08.29.671.04\n",
      "bbox dict:  [(0.507289, 0.494703, 0.576576, 0.250749), (0.453235, 0.328037, 0.315315, 0.151652), (0.507289, 0.494703, 0.576576, 0.250749), (0.453235, 0.328037, 0.315315, 0.151652)]\n",
      "Matched index:  3\n",
      "Len of pose:  62\n",
      "File Name:  2016.08.29.671.04\n",
      "bbox dict:  [(0.507289, 0.494703, 0.576576, 0.250749), (0.453235, 0.328037, 0.315315, 0.151652), (0.507289, 0.494703, 0.576576, 0.250749)]\n",
      "Matched index:  2\n",
      "Len of pose:  62\n",
      "File Name:  2016.08.29.672.01\n",
      "bbox dict:  [(0.438596, 0.641101, 0.578828, 0.27928), (0.470127, 0.417376, 0.283783, 0.147147), (0.438596, 0.641101, 0.578828, 0.27928), (0.470127, 0.417376, 0.283783, 0.147147)]\n",
      "Matched index:  3\n",
      "Len of pose:  62\n",
      "File Name:  2016.08.29.672.01\n",
      "bbox dict:  [(0.438596, 0.641101, 0.578828, 0.27928), (0.470127, 0.417376, 0.283783, 0.147147), (0.438596, 0.641101, 0.578828, 0.27928)]\n",
      "Matched index:  2\n",
      "Len of pose:  62\n",
      "File Name:  2016.08.29.672.04\n",
      "bbox dict:  [(0.47801, 0.592302, 0.301801, 0.157659)]\n",
      "Matched index:  0\n",
      "Len of pose:  62\n",
      "File Name:  2016.08.31.675.01\n",
      "bbox dict:  [(0.58105, 0.412873, 0.566441, 0.222222)]\n",
      "Matched index:  0\n",
      "Len of pose:  62\n",
      "File Name:  2016.08.31.675.02\n",
      "bbox dict:  [(0.477447, 0.478938, 0.325449, 0.147147)]\n",
      "Matched index:  0\n",
      "Len of pose:  62\n",
      "File Name:  2016.08.31.676.02\n",
      "bbox dict:  [(0.475757, 0.506716, 0.382882, 0.196696)]\n",
      "Matched index:  0\n",
      "Len of pose:  62\n",
      "File Name:  2016.08.31.677.02\n",
      "bbox dict:  [(0.503347, 0.522483, 0.559685, 0.252251), (0.427334, 0.700409, 0.29054, 0.136635), (0.503347, 0.522483, 0.559685, 0.252251), (0.427334, 0.700409, 0.29054, 0.136635)]\n",
      "Matched index:  3\n",
      "Len of pose:  62\n",
      "File Name:  2016.08.31.677.02\n",
      "bbox dict:  [(0.503347, 0.522483, 0.559685, 0.252251), (0.427334, 0.700409, 0.29054, 0.136635), (0.503347, 0.522483, 0.559685, 0.252251)]\n",
      "Matched index:  2\n",
      "Len of pose:  62\n",
      "File Name:  2016.08.31.678.01\n",
      "bbox dict:  [(0.634797, 0.467418, 0.561938, 0.301803), (0.830742, 0.543993, 0.291667, 0.127627), (0.634797, 0.467418, 0.561938, 0.301803), (0.830742, 0.543993, 0.291667, 0.127627)]\n",
      "Matched index:  3\n",
      "Len of pose:  62\n",
      "File Name:  2016.08.31.678.01\n",
      "bbox dict:  [(0.634797, 0.467418, 0.561938, 0.301803), (0.830742, 0.543993, 0.291667, 0.127627), (0.634797, 0.467418, 0.561938, 0.301803)]\n",
      "Matched index:  2\n",
      "Len of pose:  62\n",
      "File Name:  2016.08.31.681.01\n",
      "bbox dict:  [(0.578236, 0.538997, 0.612613, 0.315315), (0.386795, 0.762721, 0.27928, 0.27928), (0.578236, 0.538997, 0.612613, 0.315315), (0.386795, 0.762721, 0.27928, 0.27928)]\n",
      "Matched index:  3\n",
      "Len of pose:  62\n",
      "File Name:  2016.08.31.681.01\n",
      "bbox dict:  [(0.578236, 0.538997, 0.612613, 0.315315), (0.386795, 0.762721, 0.27928, 0.27928), (0.578236, 0.538997, 0.612613, 0.315315)]\n",
      "Matched index:  2\n",
      "Len of pose:  62\n",
      "File Name:  2016.08.31.683.01\n",
      "bbox dict:  [(0.62497, 0.471431, 0.597973, 0.309308), (0.445353, 0.623832, 0.351352, 0.223724), (0.62497, 0.471431, 0.597973, 0.309308), (0.445353, 0.623832, 0.351352, 0.223724)]\n",
      "Matched index:  3\n",
      "Len of pose:  62\n",
      "File Name:  2016.08.31.683.01\n",
      "bbox dict:  [(0.62497, 0.471431, 0.597973, 0.309308), (0.445353, 0.623832, 0.351352, 0.223724), (0.62497, 0.471431, 0.597973, 0.309308)]\n",
      "Matched index:  2\n",
      "Len of pose:  62\n",
      "File Name:  2016.08.31.684.01\n",
      "bbox dict:  [(0.539384, 0.432391, 0.602478, 0.327329), (0.773619, 0.32053, 0.253379, 0.142645)]\n",
      "Matched index:  1\n",
      "Len of pose:  62\n",
      "File Name:  2016.08.31.685.03\n",
      "bbox dict:  [(0.565847, 0.504463, 0.572072, 0.27928), (0.618776, 0.218427, 0.297296, 0.154656), (0.565847, 0.504463, 0.572072, 0.27928), (0.618776, 0.218427, 0.297296, 0.154656)]\n",
      "Matched index:  3\n",
      "Len of pose:  62\n",
      "File Name:  2016.08.31.685.03\n",
      "bbox dict:  [(0.565847, 0.504463, 0.572072, 0.27928), (0.618776, 0.218427, 0.297296, 0.154656), (0.565847, 0.504463, 0.572072, 0.27928)]\n",
      "Matched index:  2\n",
      "Len of pose:  62\n",
      "File Name:  2016.08.31.685.04\n",
      "bbox dict:  [(0.406757, 0.556756, 0.286035, 0.14114)]\n",
      "Matched index:  0\n",
      "Len of pose:  62\n",
      "File Name:  2016.08.31.686.02\n",
      "bbox dict:  [(0.600757, 0.796506, 0.614865, 0.295796), (0.491523, 0.319028, 0.261263, 0.166667), (0.600757, 0.796506, 0.614865, 0.295796), (0.491523, 0.319028, 0.261263, 0.166667)]\n",
      "Matched index:  3\n",
      "Len of pose:  62\n",
      "File Name:  2016.08.31.686.02\n",
      "bbox dict:  [(0.600757, 0.796506, 0.614865, 0.295796), (0.491523, 0.319028, 0.261263, 0.166667), (0.600757, 0.796506, 0.614865, 0.295796)]\n",
      "Matched index:  2\n",
      "Len of pose:  62\n",
      "File Name:  2016.08.31.686.04\n",
      "bbox dict:  [(0.446478, 0.508968, 0.331081, 0.189187), (0.537694, 0.816777, 0.68018, 0.288287), (0.446478, 0.508968, 0.331081, 0.189187), (0.537694, 0.816777, 0.68018, 0.288287)]\n",
      "Matched index:  3\n",
      "Len of pose:  62\n",
      "File Name:  2016.08.31.686.04\n",
      "bbox dict:  [(0.446478, 0.508968, 0.331081, 0.189187), (0.537694, 0.816777, 0.68018, 0.288287), (0.446478, 0.508968, 0.331081, 0.189187)]\n",
      "Matched index:  2\n",
      "Len of pose:  62\n",
      "File Name:  2016.08.31.689.01\n",
      "bbox dict:  [(0.509541, 0.587047, 0.599099, 0.312312)]\n",
      "Matched index:  0\n",
      "Len of pose:  62\n",
      "File Name:  2016.08.31.689.02\n",
      "bbox dict:  [(0.383415, 0.435395, 0.56982, 0.282283), (0.365397, 0.623834, 0.342344, 0.16967), (0.383415, 0.435395, 0.56982, 0.282283), (0.365397, 0.623834, 0.342344, 0.16967)]\n",
      "Matched index:  3\n",
      "Len of pose:  62\n",
      "File Name:  2016.08.31.689.02\n",
      "bbox dict:  [(0.383415, 0.435395, 0.56982, 0.282283), (0.365397, 0.623834, 0.342344, 0.16967), (0.383415, 0.435395, 0.56982, 0.282283)]\n",
      "Matched index:  2\n",
      "Len of pose:  62\n",
      "File Name:  2016.08.31.689.04\n",
      "bbox dict:  [(0.220127, 0.65011, 0.272524, 0.186186), (0.523618, 0.483442, 0.597973, 0.237237), (0.220127, 0.65011, 0.272524, 0.186186), (0.523618, 0.483442, 0.597973, 0.237237)]\n",
      "Matched index:  3\n",
      "Len of pose:  62\n",
      "File Name:  2016.08.31.689.04\n",
      "bbox dict:  [(0.220127, 0.65011, 0.272524, 0.186186), (0.523618, 0.483442, 0.597973, 0.237237), (0.220127, 0.65011, 0.272524, 0.186186)]\n",
      "Matched index:  2\n",
      "Len of pose:  62\n",
      "File Name:  2016.08.31.690.01\n",
      "bbox dict:  [(0.503041, 0.444896, 0.58446, 0.274774)]\n",
      "Matched index:  0\n",
      "Len of pose:  62\n",
      "File Name:  2016.09.04.695.01\n",
      "bbox dict:  [(0.42846, 0.530739, 0.342342, 0.187688)]\n",
      "Matched index:  0\n",
      "Len of pose:  62\n",
      "File Name:  2016.09.04.696.03\n",
      "bbox dict:  [(0.504167, 0.508708, 0.629505, 0.312312)]\n",
      "Matched index:  0\n",
      "Len of pose:  62\n",
      "File Name:  2016.09.04.696.04\n",
      "bbox dict:  [(0.555713, 0.585545, 0.376126, 0.207208)]\n",
      "Matched index:  0\n",
      "Len of pose:  62\n",
      "File Name:  2016.09.04.697.06\n",
      "bbox dict:  [(0.607515, 0.190651, 0.635135, 0.255255), (0.461681, 0.382092, 0.329954, 0.16066), (0.607515, 0.190651, 0.635135, 0.255255), (0.461681, 0.382092, 0.329954, 0.16066)]\n",
      "Matched index:  3\n",
      "Len of pose:  62\n",
      "File Name:  2016.09.04.697.06\n",
      "bbox dict:  [(0.607515, 0.190651, 0.635135, 0.255255), (0.461681, 0.382092, 0.329954, 0.16066), (0.607515, 0.190651, 0.635135, 0.255255)]\n",
      "Matched index:  2\n",
      "Len of pose:  62\n",
      "File Name:  2016.09.04.698.02\n",
      "bbox dict:  [(0.452673, 0.304013, 0.332207, 0.247749), (0.425082, 0.629838, 0.635135, 0.316817), (0.452673, 0.304013, 0.332207, 0.247749), (0.425082, 0.629838, 0.635135, 0.316817)]\n",
      "Matched index:  3\n",
      "Len of pose:  62\n",
      "File Name:  2016.09.04.698.02\n",
      "bbox dict:  [(0.452673, 0.304013, 0.332207, 0.247749), (0.425082, 0.629838, 0.635135, 0.316817), (0.452673, 0.304013, 0.332207, 0.247749)]\n",
      "Matched index:  2\n",
      "Len of pose:  62\n",
      "File Name:  2016.09.04.698.04\n",
      "bbox dict:  [(0.524181, 0.507467, 0.29054, 0.162161)]\n",
      "Matched index:  0\n",
      "Len of pose:  62\n",
      "File Name:  2016.09.04.699.02\n",
      "bbox dict:  [(0.476322, 0.535995, 0.59572, 0.252251), (0.649745, 0.837797, 0.329954, 0.270269), (0.476322, 0.535995, 0.59572, 0.252251), (0.649745, 0.837797, 0.329954, 0.270269)]\n",
      "Matched index:  3\n",
      "Len of pose:  62\n",
      "File Name:  2016.09.04.699.02\n",
      "bbox dict:  [(0.476322, 0.535995, 0.59572, 0.252251), (0.649745, 0.837797, 0.329954, 0.270269), (0.476322, 0.535995, 0.59572, 0.252251)]\n",
      "Matched index:  2\n",
      "Len of pose:  62\n",
      "File Name:  2016.09.04.700.06\n",
      "bbox dict:  [(0.311906, 0.491701, 0.336712, 0.16967), (0.38623, 0.660619, 0.649774, 0.255255), (0.311906, 0.491701, 0.336712, 0.16967), (0.38623, 0.660619, 0.649774, 0.255255)]\n",
      "Matched index:  3\n",
      "Len of pose:  62\n",
      "File Name:  2016.09.04.700.06\n",
      "bbox dict:  [(0.311906, 0.491701, 0.336712, 0.16967), (0.38623, 0.660619, 0.649774, 0.255255), (0.311906, 0.491701, 0.336712, 0.16967)]\n",
      "Matched index:  2\n",
      "Len of pose:  62\n",
      "File Name:  2016.09.04.702.01\n",
      "bbox dict:  [(0.479391, 0.445645, 0.559685, 0.249248)]\n",
      "Matched index:  0\n",
      "Len of pose:  62\n",
      "File Name:  2016.09.04.703.01\n",
      "bbox dict:  [(0.480826, 0.544253, 0.658783, 0.3018)]\n",
      "Matched index:  0\n",
      "Len of pose:  62\n",
      "File Name:  2016.09.04.703.03\n",
      "bbox dict:  [(0.556532, 0.477928, 0.637387, 0.307807), (0.249663, 0.367568, 0.338965, 0.243244), (0.556532, 0.477928, 0.637387, 0.307807), (0.249663, 0.367568, 0.338965, 0.243244)]\n",
      "Matched index:  3\n",
      "Len of pose:  62\n",
      "File Name:  2016.09.04.703.03\n",
      "bbox dict:  [(0.556532, 0.477928, 0.637387, 0.307807), (0.249663, 0.367568, 0.338965, 0.243244), (0.556532, 0.477928, 0.637387, 0.307807)]\n",
      "Matched index:  2\n",
      "Len of pose:  62\n",
      "File Name:  2016.09.04.705.02\n",
      "bbox dict:  [(0.439721, 0.392601, 0.648648, 0.304803), (0.395803, 0.62008, 0.35135, 0.165165), (0.439721, 0.392601, 0.648648, 0.304803), (0.395803, 0.62008, 0.35135, 0.165165)]\n",
      "Matched index:  3\n",
      "Len of pose:  62\n",
      "File Name:  2016.09.04.705.02\n",
      "bbox dict:  [(0.439721, 0.392601, 0.648648, 0.304803), (0.395803, 0.62008, 0.35135, 0.165165), (0.439721, 0.392601, 0.648648, 0.304803)]\n",
      "Matched index:  2\n",
      "Len of pose:  62\n",
      "File Name:  2016.09.04.706.02\n",
      "bbox dict:  [(0.570353, 0.448157, 0.596847, 0.277778), (0.327673, 0.60056, 0.341217, 0.207208)]\n",
      "Matched index:  1\n",
      "Len of pose:  62\n",
      "File Name:  2016.09.05.719.02\n",
      "bbox dict:  [(0.478573, 0.713173, 0.37725, 0.23123), (0.512357, 0.454164, 0.676801, 0.31081), (0.478573, 0.713173, 0.37725, 0.23123), (0.512357, 0.454164, 0.676801, 0.31081)]\n",
      "Matched index:  3\n",
      "Len of pose:  62\n",
      "File Name:  2016.09.05.719.02\n",
      "bbox dict:  [(0.478573, 0.713173, 0.37725, 0.23123), (0.512357, 0.454164, 0.676801, 0.31081), (0.478573, 0.713173, 0.37725, 0.23123)]\n",
      "Matched index:  2\n",
      "Len of pose:  62\n",
      "File Name:  2016.09.05.725.01\n",
      "bbox dict:  [(0.497155, 0.403113, 0.666667, 0.34985)]\n",
      "Matched index:  0\n",
      "Len of pose:  62\n",
      "File Name:  2016.09.05.730.02\n",
      "bbox dict:  [(0.385104, 0.802512, 0.370495, 0.214716), (0.614834, 0.495456, 0.631756, 0.243244)]\n",
      "Matched index:  1\n",
      "Len of pose:  62\n",
      "File Name:  2016.09.10.735.02\n",
      "bbox dict:  [(0.482514, 0.694404, 0.340089, 0.199699)]\n",
      "Matched index:  0\n",
      "Len of pose:  62\n",
      "File Name:  2016.09.10.735.03\n",
      "bbox dict:  [(0.6306, 0.467678, 0.611487, 0.337839)]\n",
      "Matched index:  0\n",
      "Len of pose:  62\n",
      "File Name:  2016.09.10.736.02\n",
      "bbox dict:  [(0.535443, 0.460924, 0.657656, 0.324332)]\n",
      "Matched index:  0\n",
      "Len of pose:  62\n",
      "File Name:  2016.09.10.736.03\n",
      "bbox dict:  [(0.471253, 0.478938, 0.346847, 0.1982)]\n",
      "Matched index:  0\n",
      "Len of pose:  62\n",
      "File Name:  2016.09.10.746.01\n",
      "bbox dict:  [(0.559092, 0.65987, 0.317567, 0.193692), (0.474632, 0.501461, 0.623874, 0.285284), (0.559092, 0.65987, 0.317567, 0.193692), (0.474632, 0.501461, 0.623874, 0.285284)]\n",
      "Matched index:  3\n",
      "Len of pose:  62\n",
      "File Name:  2016.09.10.746.01\n",
      "bbox dict:  [(0.559092, 0.65987, 0.317567, 0.193692), (0.474632, 0.501461, 0.623874, 0.285284), (0.559092, 0.65987, 0.317567, 0.193692)]\n",
      "Matched index:  2\n",
      "Len of pose:  62\n",
      "File Name:  2016.09.10.749.03\n",
      "bbox dict:  [(0.549774, 0.625075, 0.590091, 0.289792)]\n",
      "Matched index:  0\n",
      "Len of pose:  62\n",
      "File Name:  2016.09.10.750.01\n",
      "bbox dict:  [(0.382852, 0.453413, 0.710586, 0.351351)]\n",
      "Matched index:  0\n",
      "Len of pose:  62\n",
      "File Name:  2016.09.10.761.02\n",
      "bbox dict:  [(0.457177, 0.394103, 0.34572, 0.286788), (0.538821, 0.667377, 0.623874, 0.358857)]\n",
      "Matched index:  1\n",
      "Len of pose:  62\n",
      "File Name:  2016.09.11.768.02\n",
      "bbox dict:  [(0.514302, 0.384083, 0.579954, 0.258258), (0.593694, 0.707656, 0.35135, 0.202703)]\n",
      "Matched index:  1\n",
      "Len of pose:  62\n",
      "File Name:  2016.09.15.785.02\n",
      "bbox dict:  [(0.642425, 0.545755, 0.288288, 0.166667), (0.642987, 0.386596, 0.530406, 0.235738), (0.642425, 0.545755, 0.288288, 0.166667), (0.642987, 0.386596, 0.530406, 0.235738)]\n",
      "Matched index:  3\n",
      "Len of pose:  62\n",
      "File Name:  2016.09.15.785.02\n",
      "bbox dict:  [(0.642425, 0.545755, 0.288288, 0.166667), (0.642987, 0.386596, 0.530406, 0.235738), (0.642425, 0.545755, 0.288288, 0.166667)]\n",
      "Matched index:  2\n",
      "Len of pose:  62\n",
      "File Name:  2016.09.15.800.02\n",
      "bbox dict:  [(0.545014, 0.542002, 0.365992, 0.186186)]\n",
      "Matched index:  0\n",
      "Len of pose:  62\n",
      "File Name:  2016.09.21.805.02\n",
      "bbox dict:  [(0.614271, 0.465424, 0.752253, 0.357358), (0.519677, 0.320531, 0.301801, 0.145645)]\n",
      "Matched index:  1\n",
      "Len of pose:  62\n",
      "File Name:  2016.09.22.833.01\n",
      "bbox dict:  [(0.438033, 0.491701, 0.719594, 0.31081), (0.315847, 0.202662, 0.378379, 0.201204), (0.438033, 0.491701, 0.719594, 0.31081), (0.315847, 0.202662, 0.378379, 0.201204)]\n",
      "Matched index:  3\n",
      "Len of pose:  62\n",
      "File Name:  2016.09.22.833.01\n",
      "bbox dict:  [(0.438033, 0.491701, 0.719594, 0.31081), (0.315847, 0.202662, 0.378379, 0.201204), (0.438033, 0.491701, 0.719594, 0.31081)]\n",
      "Matched index:  2\n",
      "Len of pose:  62\n",
      "File Name:  2016.09.22.836.01\n",
      "bbox dict:  [(0.50304, 0.528979, 0.685812, 0.316817)]\n",
      "Matched index:  0\n",
      "Len of pose:  62\n",
      "File Name:  2016.09.22.836.02\n",
      "bbox dict:  [(0.533753, 0.654611, 0.350224, 0.216224)]\n",
      "Matched index:  0\n",
      "Len of pose:  62\n",
      "File Name:  2016.09.22.838.02\n",
      "bbox dict:  [(0.490397, 0.387347, 0.324323, 0.231233), (0.425645, 0.583293, 0.652027, 0.292795), (0.490397, 0.387347, 0.324323, 0.231233), (0.425645, 0.583293, 0.652027, 0.292795)]\n",
      "Matched index:  3\n",
      "Len of pose:  62\n",
      "File Name:  2016.09.22.838.02\n",
      "bbox dict:  [(0.490397, 0.387347, 0.324323, 0.231233), (0.425645, 0.583293, 0.652027, 0.292795), (0.490397, 0.387347, 0.324323, 0.231233)]\n",
      "Matched index:  2\n",
      "Len of pose:  62\n",
      "File Name:  2016.09.22.838.03\n",
      "bbox dict:  [(0.454924, 0.477438, 0.672296, 0.348348)]\n",
      "Matched index:  0\n",
      "Len of pose:  62\n",
      "File Name:  2016.09.25.842.01\n",
      "bbox dict:  [(0.524181, 0.575035, 0.646395, 0.285284)]\n",
      "Matched index:  0\n",
      "Len of pose:  62\n",
      "File Name:  2016.09.25.842.06\n",
      "bbox dict:  [(0.417763, 0.552512, 0.287161, 0.123125), (0.41551, 0.476687, 0.694818, 0.319821)]\n",
      "Matched index:  1\n",
      "Len of pose:  62\n",
      "File Name:  2016.09.25.855.01\n",
      "bbox dict:  [(0.470946, 0.566516, 0.659909, 0.325828), (0.39268, 0.321021, 0.33671, 0.288287)]\n",
      "Matched index:  1\n",
      "Len of pose:  62\n",
      "File Name:  2016.09.25.856.01\n",
      "bbox dict:  [(0.509541, 0.421881, 0.686938, 0.33934), (0.765173, 0.688397, 0.349099, 0.205706)]\n",
      "Matched index:  1\n",
      "Len of pose:  62\n",
      "File Name:  2016.09.25.863.02\n",
      "bbox dict:  [(0.594002, 0.217677, 0.666667, 0.417419), (0.413258, 0.505965, 0.417793, 0.228226), (0.594002, 0.217677, 0.666667, 0.417419), (0.413258, 0.505965, 0.417793, 0.228226)]\n",
      "Matched index:  3\n",
      "Len of pose:  62\n",
      "File Name:  2016.09.25.863.02\n",
      "bbox dict:  [(0.594002, 0.217677, 0.666667, 0.417419), (0.413258, 0.505965, 0.417793, 0.228226), (0.594002, 0.217677, 0.666667, 0.417419)]\n",
      "Matched index:  2\n",
      "Len of pose:  62\n",
      "File Name:  2016.09.25.864.01\n",
      "bbox dict:  [(0.40988, 0.514974, 0.688062, 0.309311), (0.252222, 0.700409, 0.269145, 0.229731)]\n",
      "Matched index:  1\n",
      "Len of pose:  62\n",
      "File Name:  2016.09.25.864.02\n",
      "bbox dict:  [(0.349069, 0.555515, 0.34572, 0.1982), (0.702671, 0.346056, 0.593468, 0.211713)]\n",
      "Matched index:  1\n",
      "Len of pose:  62\n",
      "File Name:  2016.07.07.188.02\n",
      "bbox dict:  [(0.558065, 0.327083, 0.308079, 0.230642)]\n",
      "Matched index:  0\n",
      "Len of pose:  62\n",
      "File Name:  2016.07.08.214.02\n",
      "bbox dict:  [(0.45958, 0.352335, 0.578283, 0.294612), (0.445691, 0.474389, 0.275254, 0.151516), (0.45958, 0.352335, 0.578283, 0.294612), (0.445691, 0.474389, 0.275254, 0.151516), (0.45958, 0.352335, 0.578283, 0.294612)]\n",
      "Matched index:  4\n",
      "Len of pose:  62\n",
      "File Name:  2016.07.08.214.02\n",
      "bbox dict:  [(0.45958, 0.352335, 0.578283, 0.294612), (0.445691, 0.474389, 0.275254, 0.151516), (0.45958, 0.352335, 0.578283, 0.294612), (0.445691, 0.474389, 0.275254, 0.151516)]\n",
      "Matched index:  3\n",
      "Len of pose:  62\n",
      "File Name:  2016.07.13.245.02\n",
      "bbox dict:  [(0.414757, 0.393582, 0.261363, 0.20202), (0.323848, 0.573715, 0.630052, 0.296296), (0.414757, 0.393582, 0.261363, 0.20202), (0.323848, 0.573715, 0.630052, 0.296296)]\n",
      "Matched index:  3\n",
      "Len of pose:  62\n",
      "File Name:  2016.07.13.245.02\n",
      "bbox dict:  [(0.414757, 0.393582, 0.261363, 0.20202), (0.323848, 0.573715, 0.630052, 0.296296), (0.414757, 0.393582, 0.261363, 0.20202)]\n",
      "Matched index:  2\n",
      "Len of pose:  62\n",
      "File Name:  2016.07.18.302.02\n",
      "bbox dict:  [(0.539125, 0.572875, 0.550503, 0.291247), (0.534707, 0.46934, 0.248737, 0.127946), (0.539125, 0.572875, 0.550503, 0.291247), (0.534707, 0.46934, 0.248737, 0.127946), (0.539125, 0.572875, 0.550503, 0.291247)]\n",
      "Matched index:  4\n",
      "Len of pose:  62\n",
      "File Name:  2016.07.18.302.02\n",
      "bbox dict:  [(0.539125, 0.572875, 0.550503, 0.291247), (0.534707, 0.46934, 0.248737, 0.127946), (0.539125, 0.572875, 0.550503, 0.291247), (0.534707, 0.46934, 0.248737, 0.127946)]\n",
      "Matched index:  3\n",
      "Len of pose:  62\n",
      "File Name:  2016.07.20.324.02\n",
      "bbox dict:  [(0.619302, 0.46934, 0.231061, 0.094277)]\n",
      "Matched index:  0\n",
      "Len of pose:  62\n",
      "File Name:  2016.07.29.388.02\n",
      "bbox dict:  [(0.593418, 0.290888, 0.525252, 0.333333), (0.606675, 0.173043, 0.251263, 0.198655), (0.593418, 0.290888, 0.525252, 0.333333), (0.606675, 0.173043, 0.251263, 0.198655)]\n",
      "Matched index:  3\n",
      "Len of pose:  62\n",
      "File Name:  2016.07.29.388.02\n",
      "bbox dict:  [(0.593418, 0.290888, 0.525252, 0.333333), (0.606675, 0.173043, 0.251263, 0.198655), (0.593418, 0.290888, 0.525252, 0.333333)]\n",
      "Matched index:  2\n",
      "Len of pose:  62\n",
      "File Name:  2016.08.04.445.04\n",
      "bbox dict:  [(0.590893, 0.805198, 0.227272, 0.095958)]\n",
      "Matched index:  0\n",
      "Len of pose:  62\n",
      "File Name:  2016.08.08.455.02\n",
      "bbox dict:  [(0.417282, 0.531629, 0.546717, 0.350168), (0.284076, 0.749641, 0.308082, 0.220538), (0.417282, 0.531629, 0.546717, 0.350168), (0.284076, 0.749641, 0.308082, 0.220538), (0.417282, 0.531629, 0.546717, 0.350168)]\n",
      "Matched index:  4\n",
      "Len of pose:  62\n",
      "File Name:  2016.08.08.455.02\n",
      "bbox dict:  [(0.417282, 0.531629, 0.546717, 0.350168), (0.284076, 0.749641, 0.308082, 0.220538), (0.417282, 0.531629, 0.546717, 0.350168), (0.284076, 0.749641, 0.308082, 0.220538)]\n",
      "Matched index:  3\n",
      "Len of pose:  62\n",
      "File Name:  2016.08.08.467.07\n",
      "bbox dict:  [(0.57006, 0.450822, 0.604798, 0.407407), (0.556171, 0.271528, 0.281565, 0.190237), (0.57006, 0.450822, 0.604798, 0.407407), (0.556171, 0.271528, 0.281565, 0.190237), (0.57006, 0.450822, 0.604798, 0.407407), (0.556171, 0.271528, 0.281565, 0.190237)]\n",
      "Matched index:  5\n",
      "Len of pose:  62\n",
      "File Name:  2016.08.08.467.07\n",
      "bbox dict:  [(0.57006, 0.450822, 0.604798, 0.407407), (0.556171, 0.271528, 0.281565, 0.190237), (0.57006, 0.450822, 0.604798, 0.407407), (0.556171, 0.271528, 0.281565, 0.190237), (0.57006, 0.450822, 0.604798, 0.407407)]\n",
      "Matched index:  4\n",
      "Len of pose:  62\n",
      "File Name:  2016.08.08.468.01\n",
      "bbox dict:  [(0.501247, 0.557723, 0.275254, 0.12963)]\n",
      "Matched index:  0\n",
      "Len of pose:  62\n",
      "File Name:  2016.08.11.480.06\n",
      "bbox dict:  [(0.612274, 0.323273, 0.208333, 0.091591)]\n",
      "Matched index:  0\n",
      "Len of pose:  62\n",
      "File Name:  2016.08.11.485.03\n",
      "bbox dict:  [(0.453899, 0.43567, 0.200757, 0.356901), (0.470944, 0.627588, 0.333333, 0.690234), (0.453899, 0.43567, 0.200757, 0.356901), (0.470944, 0.627588, 0.333333, 0.690234)]\n",
      "Matched index:  3\n",
      "Len of pose:  62\n",
      "File Name:  2016.08.17.588.02\n",
      "bbox dict:  [(0.52756, 0.562271, 0.407658, 0.253756)]\n",
      "Matched index:  0\n",
      "Len of pose:  62\n",
      "File Name:  2017.07.19.49.02\n",
      "bbox dict:  [(0.398619, 0.632092, 0.275901, 0.14114), (0.432402, 0.399359, 0.627253, 0.318319), (0.398619, 0.632092, 0.275901, 0.14114), (0.432402, 0.399359, 0.627253, 0.318319)]\n",
      "Matched index:  3\n",
      "Len of pose:  62\n",
      "File Name:  2017.07.19.49.02\n",
      "bbox dict:  [(0.398619, 0.632092, 0.275901, 0.14114), (0.432402, 0.399359, 0.627253, 0.318319), (0.398619, 0.632092, 0.275901, 0.14114)]\n",
      "Matched index:  2\n",
      "Len of pose:  62\n",
      "File Name:  2017.08.07.215.02\n",
      "bbox dict:  [(0.474632, 0.437648, 0.292793, 0.133634)]\n",
      "Matched index:  0\n",
      "Len of pose:  62\n",
      "File Name:  2017.08.11.250.04\n",
      "bbox dict:  [(0.507288, 0.583293, 0.317567, 0.154653), (0.400307, 0.742452, 0.799551, 0.412914), (0.507288, 0.583293, 0.317567, 0.154653), (0.400307, 0.742452, 0.799551, 0.412914)]\n",
      "Matched index:  3\n",
      "Len of pose:  62\n",
      "File Name:  2017.08.11.250.04\n",
      "bbox dict:  [(0.507288, 0.583293, 0.317567, 0.154653), (0.400307, 0.742452, 0.799551, 0.412914), (0.507288, 0.583293, 0.317567, 0.154653)]\n",
      "Matched index:  2\n",
      "Len of pose:  62\n",
      "File Name:  2017.08.12.266.02\n",
      "bbox dict:  [(0.627784, 0.368578, 0.304054, 0.283782), (0.373843, 0.543503, 0.643016, 0.342341), (0.627784, 0.368578, 0.304054, 0.283782), (0.373843, 0.543503, 0.643016, 0.342341)]\n",
      "Matched index:  3\n",
      "Len of pose:  62\n",
      "File Name:  2017.08.12.266.02\n",
      "bbox dict:  [(0.627784, 0.368578, 0.304054, 0.283782), (0.373843, 0.543503, 0.643016, 0.342341), (0.627784, 0.368578, 0.304054, 0.283782)]\n",
      "Matched index:  2\n",
      "Len of pose:  62\n",
      "File Name:  2017.08.18.329.02\n",
      "bbox dict:  [(0.490653, 0.463665, 0.327704, 0.168168)]\n",
      "Matched index:  0\n",
      "Len of pose:  62\n",
      "File Name:  2017.08.18.330.02\n",
      "bbox dict:  [(0.707433, 0.787989, 0.306306, 0.255255), (0.361713, 0.499699, 0.662164, 0.327326), (0.707433, 0.787989, 0.306306, 0.255255), (0.361713, 0.499699, 0.662164, 0.327326)]\n",
      "Matched index:  3\n",
      "Len of pose:  62\n",
      "File Name:  2017.08.18.330.02\n",
      "bbox dict:  [(0.707433, 0.787989, 0.306306, 0.255255), (0.361713, 0.499699, 0.662164, 0.327326), (0.707433, 0.787989, 0.306306, 0.255255)]\n",
      "Matched index:  2\n",
      "Len of pose:  62\n",
      "File Name:  2017.08.30.448.02\n",
      "bbox dict:  [(0.475757, 0.610318, 0.695946, 0.352853), (0.510667, 0.379089, 0.378379, 0.178681)]\n",
      "Matched index:  1\n",
      "Len of pose:  62\n",
      "File Name:  2017.09.25.615.04\n",
      "bbox dict:  [(0.450113, 0.409609, 0.510135, 0.249248)]\n",
      "Matched index:  0\n",
      "Len of pose:  62\n",
      "File Name:  2018.07.10.12.02\n",
      "bbox dict:  [(0.500788, 0.515466, 0.257882, 0.12162)]\n",
      "Matched index:  0\n",
      "Len of pose:  62\n",
      "File Name:  2018.07.10.19.01\n",
      "bbox dict:  [(0.459992, 0.456416, 0.484234, 0.24024)]\n",
      "Matched index:  0\n",
      "Len of pose:  62\n",
      "File Name:  2018.07.25.08.04\n",
      "bbox dict:  [(0.438851, 0.471923, 0.658783, 0.295796), (0.414077, 0.340541, 0.300675, 0.153154)]\n",
      "Matched index:  1\n",
      "Len of pose:  62\n",
      "File Name:  2018.08.21.09.02\n",
      "bbox dict:  [(0.383108, 0.538738, 0.340091, 0.219219)]\n",
      "Matched index:  0\n",
      "Len of pose:  62\n",
      "File Name:  2018.09.19.14.04\n",
      "bbox dict:  [(0.448732, 0.474433, 0.626126, 0.300301), (0.684091, 0.207166, 0.36036, 0.210211), (0.448732, 0.474433, 0.626126, 0.300301), (0.684091, 0.207166, 0.36036, 0.210211)]\n",
      "Matched index:  3\n",
      "Len of pose:  62\n",
      "File Name:  2018.09.19.14.04\n",
      "bbox dict:  [(0.448732, 0.474433, 0.626126, 0.300301), (0.684091, 0.207166, 0.36036, 0.210211), (0.448732, 0.474433, 0.626126, 0.300301)]\n",
      "Matched index:  2\n",
      "Len of pose:  62\n",
      "File Name:  2019.08.13.417.04\n",
      "bbox dict:  [(0.481389, 0.572025, 0.693694, 0.306296), (0.557401, 0.358818, 0.30518, 0.174175), (0.481389, 0.572025, 0.693694, 0.306296), (0.557401, 0.358818, 0.30518, 0.174175)]\n",
      "Matched index:  3\n",
      "Len of pose:  62\n",
      "File Name:  2019.08.13.417.04\n",
      "bbox dict:  [(0.481389, 0.572025, 0.693694, 0.306296), (0.557401, 0.358818, 0.30518, 0.174175), (0.481389, 0.572025, 0.693694, 0.306296)]\n",
      "Matched index:  2\n",
      "Len of pose:  62\n",
      "File Name:  2019.08.21.488.06\n",
      "bbox dict:  [(0.588933, 0.634343, 0.327702, 0.316817), (0.542198, 0.550259, 0.725226, 0.490992)]\n",
      "Matched index:  1\n",
      "Len of pose:  62\n",
      "File Name:  2019.08.22.507.04\n",
      "bbox dict:  [(0.513483, 0.634343, 0.293919, 0.166667)]\n",
      "Matched index:  0\n",
      "Len of pose:  62\n",
      "File Name:  2019.08.28.564.02\n",
      "bbox dict:  [(0.542199, 0.307768, 0.243244, 0.135136)]\n",
      "Matched index:  0\n",
      "Len of pose:  62\n"
     ]
    }
   ],
   "source": [
    "cnt=0\n",
    "cls=0\n",
    "for index,row in keypoints_df.iterrows():\n",
    "    filename = row.filename[:-4]\n",
    "    print(\"File Name: \",filename)\n",
    "    print(\"bbox dict: \",  bbox_dict[filename])\n",
    "    h,w = row['Image.Length'], row['Image.Width']\n",
    "    index = 0\n",
    "    if len(bbox_dict[filename])>1:\n",
    "        index = match_whale_bbox(bbox_dict[filename],row.len_mid_x,row.len_mid_y)\n",
    "    print(\"Matched index: \",index)\n",
    "    keypoints = normalize(list(row['rostrum_x':'fluke_y'].values),h,w)\n",
    "    bbox = bbox_dict[filename][index]\n",
    "    bbox_dict[filename].pop(index)\n",
    "    pose = [cls]\n",
    "    pose.extend(bbox)\n",
    "    pose.extend(keypoints)\n",
    "    print(\"Len of pose: \",len(pose))\n",
    "    with open(pose_label_path+filename+'.txt', 'a') as file: \n",
    "        file.write(' '.join(map(str, pose)) + '\\n')\n",
    "    \n",
    "    \n",
    "    \n",
    "    \n",
    "        \n",
    "        \n"
   ]
  },
  {
   "cell_type": "markdown",
   "id": "285fcecd-bcb8-4d13-a94b-8af783247ed4",
   "metadata": {},
   "source": [
    "# Code for moving the pose files to train,test & val"
   ]
  },
  {
   "cell_type": "code",
   "execution_count": 34,
   "id": "0d61018b-d6ea-41ce-bdcf-9ced0fa0d351",
   "metadata": {},
   "outputs": [],
   "source": [
    "train_label_path = '../data/key_point_labels/labels_2016_train.csv'\n",
    "val_label_path = '../data/key_point_labels/labels_2016_val.csv'\n",
    "test_label_path = '../data/key_point_labels/labels_2016_test.csv'\n",
    "\n",
    "train_labels = pd.read_csv(train_label_path)\n",
    "val_labels = pd.read_csv(val_label_path)\n",
    "test_labels = pd.read_csv(test_label_path)\n",
    "\n",
    "train_destination_path = '../data/labels/train/'\n",
    "val_destination_path = '../data/labels/val/'\n",
    "test_destination_path = '../data/labels/test/'"
   ]
  },
  {
   "cell_type": "code",
   "execution_count": 35,
   "id": "7287bdc4-9c73-4047-b361-678a0f8ea337",
   "metadata": {},
   "outputs": [],
   "source": [
    "import shutil\n",
    "\n",
    "def move_files(df,src_root_dir,dest_dir):\n",
    "    for index,row in df.iterrows():\n",
    "        filename = row.filename[:-4]\n",
    "        file_path = src_root_dir+filename+'.txt'\n",
    "        try:\n",
    "          shutil.copy(file_path, dest_dir)\n",
    "        except PermissionError:\n",
    "           print(\"Permission Denied\")\n",
    "        except Exception as e:\n",
    "          print(e)\n",
    "          print(filename + \" not copied\")\n",
    "          print(file_path)\n",
    "          break\n"
   ]
  },
  {
   "cell_type": "code",
   "execution_count": 36,
   "id": "960fd40d-5e45-4018-85b3-f1e322136c13",
   "metadata": {},
   "outputs": [],
   "source": [
    "# Moving Train\n",
    "move_files(train_labels,pose_label_path,train_destination_path)"
   ]
  },
  {
   "cell_type": "code",
   "execution_count": 37,
   "id": "bddc4b06-716b-48a1-b226-3f5051c2b9e1",
   "metadata": {},
   "outputs": [],
   "source": [
    "# Moving Val\n",
    "move_files(val_labels,pose_label_path,val_destination_path)"
   ]
  },
  {
   "cell_type": "code",
   "execution_count": 38,
   "id": "62d1242c-ae5e-43d0-b8ba-9c30dc601d54",
   "metadata": {},
   "outputs": [],
   "source": [
    "# Moving Test\n",
    "move_files(test_labels,pose_label_path,test_destination_path)"
   ]
  },
  {
   "cell_type": "markdown",
   "id": "aa46b864-7b65-42cf-a439-ec42492e3a07",
   "metadata": {},
   "source": [
    "# Now lets run yolo pose\n"
   ]
  },
  {
   "cell_type": "code",
   "execution_count": 40,
   "id": "fad52080-f1d2-4933-aa1f-4e2be34d225d",
   "metadata": {},
   "outputs": [],
   "source": [
    "from ultralytics import YOLO"
   ]
  },
  {
   "cell_type": "code",
   "execution_count": 133,
   "id": "a5fc6a3b-a8cf-4a34-947d-ed30a2c6047b",
   "metadata": {},
   "outputs": [],
   "source": [
    "model = YOLO(\"yolov8n-pose.pt\") "
   ]
  },
  {
   "cell_type": "code",
   "execution_count": null,
   "id": "e4ee7305-16af-4d12-bdea-6a014e0149f9",
   "metadata": {},
   "outputs": [
    {
     "name": "stdout",
     "output_type": "stream",
     "text": [
      "New https://pypi.org/project/ultralytics/8.2.51 available  Update with 'pip install -U ultralytics'\n",
      "Ultralytics YOLOv8.2.21  Python-3.11.7 torch-2.3.0 CUDA:0 (NVIDIA GeForce RTX 2060, 6144MiB)\n",
      "\u001b[34m\u001b[1mengine\\trainer: \u001b[0mtask=pose, mode=train, model=yolov8n-pose.pt, data=../data/config_pose.yaml, epochs=100, time=None, patience=100, batch=16, imgsz=640, save=True, save_period=-1, cache=False, device=None, workers=8, project=None, name=train3, exist_ok=False, pretrained=True, optimizer=auto, verbose=True, seed=0, deterministic=True, single_cls=False, rect=False, cos_lr=False, close_mosaic=10, resume=False, amp=True, fraction=1.0, profile=False, freeze=None, multi_scale=False, overlap_mask=True, mask_ratio=4, dropout=0.0, val=True, split=val, save_json=False, save_hybrid=False, conf=None, iou=0.7, max_det=300, half=False, dnn=False, plots=True, source=None, vid_stride=1, stream_buffer=False, visualize=False, augment=False, agnostic_nms=False, classes=None, retina_masks=False, embed=None, show=False, save_frames=False, save_txt=False, save_conf=False, save_crop=False, show_labels=True, show_conf=True, show_boxes=True, line_width=None, format=torchscript, keras=False, optimize=False, int8=False, dynamic=False, simplify=False, opset=None, workspace=4, nms=False, lr0=0.01, lrf=0.01, momentum=0.937, weight_decay=0.0005, warmup_epochs=3.0, warmup_momentum=0.8, warmup_bias_lr=0.1, box=7.5, cls=0.5, dfl=1.5, pose=12.0, kobj=1.0, label_smoothing=0.0, nbs=64, hsv_h=0.015, hsv_s=0.7, hsv_v=0.4, degrees=0.0, translate=0.1, scale=0.5, shear=0.0, perspective=0.0, flipud=0.0, fliplr=0.5, bgr=0.0, mosaic=1.0, mixup=0.0, copy_paste=0.0, auto_augment=randaugment, erasing=0.4, crop_fraction=1.0, cfg=None, tracker=botsort.yaml, save_dir=runs\\pose\\train3\n",
      "Overriding model.yaml kpt_shape=[17, 3] with kpt_shape=[19, 2]\n",
      "\n",
      "                   from  n    params  module                                       arguments                     \n",
      "  0                  -1  1       464  ultralytics.nn.modules.conv.Conv             [3, 16, 3, 2]                 \n",
      "  1                  -1  1      4672  ultralytics.nn.modules.conv.Conv             [16, 32, 3, 2]                \n",
      "  2                  -1  1      7360  ultralytics.nn.modules.block.C2f             [32, 32, 1, True]             \n",
      "  3                  -1  1     18560  ultralytics.nn.modules.conv.Conv             [32, 64, 3, 2]                \n",
      "  4                  -1  2     49664  ultralytics.nn.modules.block.C2f             [64, 64, 2, True]             \n",
      "  5                  -1  1     73984  ultralytics.nn.modules.conv.Conv             [64, 128, 3, 2]               \n",
      "  6                  -1  2    197632  ultralytics.nn.modules.block.C2f             [128, 128, 2, True]           \n",
      "  7                  -1  1    295424  ultralytics.nn.modules.conv.Conv             [128, 256, 3, 2]              \n",
      "  8                  -1  1    460288  ultralytics.nn.modules.block.C2f             [256, 256, 1, True]           \n",
      "  9                  -1  1    164608  ultralytics.nn.modules.block.SPPF            [256, 256, 5]                 \n",
      " 10                  -1  1         0  torch.nn.modules.upsampling.Upsample         [None, 2, 'nearest']          \n",
      " 11             [-1, 6]  1         0  ultralytics.nn.modules.conv.Concat           [1]                           \n",
      " 12                  -1  1    148224  ultralytics.nn.modules.block.C2f             [384, 128, 1]                 \n",
      " 13                  -1  1         0  torch.nn.modules.upsampling.Upsample         [None, 2, 'nearest']          \n",
      " 14             [-1, 4]  1         0  ultralytics.nn.modules.conv.Concat           [1]                           \n",
      " 15                  -1  1     37248  ultralytics.nn.modules.block.C2f             [192, 64, 1]                  \n",
      " 16                  -1  1     36992  ultralytics.nn.modules.conv.Conv             [64, 64, 3, 2]                \n",
      " 17            [-1, 12]  1         0  ultralytics.nn.modules.conv.Concat           [1]                           \n",
      " 18                  -1  1    123648  ultralytics.nn.modules.block.C2f             [192, 128, 1]                 \n",
      " 19                  -1  1    147712  ultralytics.nn.modules.conv.Conv             [128, 128, 3, 2]              \n",
      " 20             [-1, 9]  1         0  ultralytics.nn.modules.conv.Concat           [1]                           \n",
      " 21                  -1  1    493056  ultralytics.nn.modules.block.C2f             [384, 256, 1]                 \n",
      " 22        [15, 18, 21]  1    948613  ultralytics.nn.modules.head.Pose             [1, [19, 2], [64, 128, 256]]  \n",
      "YOLOv8n-pose summary: 250 layers, 3208149 parameters, 3208133 gradients, 8.9 GFLOPs\n",
      "\n",
      "Transferred 361/397 items from pretrained weights\n",
      "\u001b[34m\u001b[1mTensorBoard: \u001b[0mStart with 'tensorboard --logdir runs\\pose\\train3', view at http://localhost:6006/\n",
      "Freezing layer 'model.22.dfl.conv.weight'\n",
      "\u001b[34m\u001b[1mAMP: \u001b[0mrunning Automatic Mixed Precision (AMP) checks with YOLOv8n...\n",
      "\u001b[34m\u001b[1mAMP: \u001b[0mchecks passed \n"
     ]
    },
    {
     "name": "stderr",
     "output_type": "stream",
     "text": [
      "\u001b[34m\u001b[1mtrain: \u001b[0mScanning E:\\UMass\\Academics\\Spring2024\\670\\Save-The-Whales\\data\\labels\\train... 357 images, 0 backgrounds, 0 corrupt: 100%|██████████| 357/357 [00:00<00:00, 944.36it/s]\u001b[0m \n"
     ]
    },
    {
     "name": "stdout",
     "output_type": "stream",
     "text": [
      "\u001b[34m\u001b[1mtrain: \u001b[0mNew cache created: E:\\UMass\\Academics\\Spring2024\\670\\Save-The-Whales\\data\\labels\\train.cache\n",
      "WARNING  No 'flip_idx' array defined in data.yaml, setting augmentation 'fliplr=0.0'\n"
     ]
    },
    {
     "name": "stderr",
     "output_type": "stream",
     "text": [
      "\u001b[34m\u001b[1mval: \u001b[0mScanning E:\\UMass\\Academics\\Spring2024\\670\\Save-The-Whales\\data\\labels\\val... 40 images, 0 backgrounds, 0 corrupt: 100%|██████████| 40/40 [00:00<00:00, 259.12it/s]\u001b[0m"
     ]
    },
    {
     "name": "stdout",
     "output_type": "stream",
     "text": [
      "\u001b[34m\u001b[1mval: \u001b[0mNew cache created: E:\\UMass\\Academics\\Spring2024\\670\\Save-The-Whales\\data\\labels\\val.cache\n"
     ]
    },
    {
     "name": "stderr",
     "output_type": "stream",
     "text": [
      "\n"
     ]
    },
    {
     "name": "stdout",
     "output_type": "stream",
     "text": [
      "Plotting labels to runs\\pose\\train3\\labels.jpg... \n",
      "\u001b[34m\u001b[1moptimizer:\u001b[0m 'optimizer=auto' found, ignoring 'lr0=0.01' and 'momentum=0.937' and determining best 'optimizer', 'lr0' and 'momentum' automatically... \n",
      "\u001b[34m\u001b[1moptimizer:\u001b[0m AdamW(lr=0.002, momentum=0.9) with parameter groups 63 weight(decay=0.0), 73 weight(decay=0.0005), 72 bias(decay=0.0)\n",
      "\u001b[34m\u001b[1mTensorBoard: \u001b[0mmodel graph visualization added \n",
      "Image sizes 640 train, 640 val\n",
      "Using 8 dataloader workers\n",
      "Logging results to \u001b[1mruns\\pose\\train3\u001b[0m\n",
      "Starting training for 100 epochs...\n",
      "\n",
      "      Epoch    GPU_mem   box_loss  pose_loss  kobj_loss   cls_loss   dfl_loss  Instances       Size\n"
     ]
    },
    {
     "name": "stderr",
     "output_type": "stream",
     "text": [
      "  0%|          | 0/23 [00:00<?, ?it/s]C:\\Users\\kedar\\anaconda3\\envs\\CV\\Lib\\site-packages\\torch\\nn\\modules\\conv.py:456: UserWarning: Plan failed with a cudnnException: CUDNN_BACKEND_EXECUTION_PLAN_DESCRIPTOR: cudnnFinalize Descriptor Failed cudnn_status: CUDNN_STATUS_NOT_SUPPORTED (Triggered internally at C:\\cb\\pytorch_1000000000000\\work\\aten\\src\\ATen\\native\\cudnn\\Conv_v8.cpp:919.)\n",
      "  return F.conv2d(input, weight, bias, self.stride,\n",
      "      1/100      2.86G      1.801      10.54          0      2.272      1.695         13        640: 100%|██████████| 23/23 [00:28<00:00,  1.22s/it]\n",
      "                 Class     Images  Instances      Box(P          R      mAP50  mAP50-95)     Pose(P          R      mAP50  mAP50-95): 100%|██████████| 2/2 [00:02<00:00,  1.28s/it]"
     ]
    },
    {
     "name": "stdout",
     "output_type": "stream",
     "text": [
      "                   all         40         55      0.657      0.891      0.795      0.472          0          0          0          0\n"
     ]
    },
    {
     "name": "stderr",
     "output_type": "stream",
     "text": [
      "\n"
     ]
    },
    {
     "name": "stdout",
     "output_type": "stream",
     "text": [
      "\n",
      "      Epoch    GPU_mem   box_loss  pose_loss  kobj_loss   cls_loss   dfl_loss  Instances       Size\n"
     ]
    },
    {
     "name": "stderr",
     "output_type": "stream",
     "text": [
      "      2/100      2.44G      1.372      10.26          0      1.255      1.289          8        640: 100%|██████████| 23/23 [00:15<00:00,  1.48it/s]\n",
      "                 Class     Images  Instances      Box(P          R      mAP50  mAP50-95)     Pose(P          R      mAP50  mAP50-95): 100%|██████████| 2/2 [00:00<00:00,  2.66it/s]"
     ]
    },
    {
     "name": "stdout",
     "output_type": "stream",
     "text": [
      "                   all         40         55      0.682      0.873      0.787      0.468          0          0          0          0\n"
     ]
    },
    {
     "name": "stderr",
     "output_type": "stream",
     "text": [
      "\n"
     ]
    },
    {
     "name": "stdout",
     "output_type": "stream",
     "text": [
      "\n",
      "      Epoch    GPU_mem   box_loss  pose_loss  kobj_loss   cls_loss   dfl_loss  Instances       Size\n"
     ]
    },
    {
     "name": "stderr",
     "output_type": "stream",
     "text": [
      "      3/100      2.46G      1.341      10.14          0      1.195      1.256         11        640: 100%|██████████| 23/23 [00:16<00:00,  1.42it/s]\n",
      "                 Class     Images  Instances      Box(P          R      mAP50  mAP50-95)     Pose(P          R      mAP50  mAP50-95): 100%|██████████| 2/2 [00:00<00:00,  3.27it/s]"
     ]
    },
    {
     "name": "stdout",
     "output_type": "stream",
     "text": [
      "                   all         40         55      0.762      0.699       0.76       0.53          0          0          0          0\n"
     ]
    },
    {
     "name": "stderr",
     "output_type": "stream",
     "text": [
      "\n"
     ]
    },
    {
     "name": "stdout",
     "output_type": "stream",
     "text": [
      "\n",
      "      Epoch    GPU_mem   box_loss  pose_loss  kobj_loss   cls_loss   dfl_loss  Instances       Size\n"
     ]
    },
    {
     "name": "stderr",
     "output_type": "stream",
     "text": [
      "      4/100      2.47G      1.218      9.847          0      1.079      1.204         22        640: 100%|██████████| 23/23 [00:16<00:00,  1.39it/s]\n",
      "                 Class     Images  Instances      Box(P          R      mAP50  mAP50-95)     Pose(P          R      mAP50  mAP50-95): 100%|██████████| 2/2 [00:00<00:00,  2.97it/s]"
     ]
    },
    {
     "name": "stdout",
     "output_type": "stream",
     "text": [
      "                   all         40         55      0.759      0.745      0.791       0.49          0          0          0          0\n"
     ]
    },
    {
     "name": "stderr",
     "output_type": "stream",
     "text": [
      "\n"
     ]
    },
    {
     "name": "stdout",
     "output_type": "stream",
     "text": [
      "\n",
      "      Epoch    GPU_mem   box_loss  pose_loss  kobj_loss   cls_loss   dfl_loss  Instances       Size\n"
     ]
    },
    {
     "name": "stderr",
     "output_type": "stream",
     "text": [
      "      5/100      2.45G      1.216       9.77          0      1.074      1.203         10        640: 100%|██████████| 23/23 [00:16<00:00,  1.43it/s]\n",
      "                 Class     Images  Instances      Box(P          R      mAP50  mAP50-95)     Pose(P          R      mAP50  mAP50-95): 100%|██████████| 2/2 [00:00<00:00,  3.35it/s]"
     ]
    },
    {
     "name": "stdout",
     "output_type": "stream",
     "text": [
      "                   all         40         55      0.658      0.855      0.718      0.477          0          0          0          0\n"
     ]
    },
    {
     "name": "stderr",
     "output_type": "stream",
     "text": [
      "\n"
     ]
    },
    {
     "name": "stdout",
     "output_type": "stream",
     "text": [
      "\n",
      "      Epoch    GPU_mem   box_loss  pose_loss  kobj_loss   cls_loss   dfl_loss  Instances       Size\n"
     ]
    },
    {
     "name": "stderr",
     "output_type": "stream",
     "text": [
      "      6/100      2.44G      1.203       9.87          0      1.037      1.176         24        640: 100%|██████████| 23/23 [00:15<00:00,  1.49it/s]\n",
      "                 Class     Images  Instances      Box(P          R      mAP50  mAP50-95)     Pose(P          R      mAP50  mAP50-95): 100%|██████████| 2/2 [00:00<00:00,  2.86it/s]"
     ]
    },
    {
     "name": "stdout",
     "output_type": "stream",
     "text": [
      "                   all         40         55      0.739      0.822      0.799      0.559          0          0          0          0\n"
     ]
    },
    {
     "name": "stderr",
     "output_type": "stream",
     "text": [
      "\n"
     ]
    },
    {
     "name": "stdout",
     "output_type": "stream",
     "text": [
      "\n",
      "      Epoch    GPU_mem   box_loss  pose_loss  kobj_loss   cls_loss   dfl_loss  Instances       Size\n"
     ]
    },
    {
     "name": "stderr",
     "output_type": "stream",
     "text": [
      "      7/100      2.44G      1.182      9.515          0      1.021       1.19         13        640: 100%|██████████| 23/23 [00:14<00:00,  1.63it/s]\n",
      "                 Class     Images  Instances      Box(P          R      mAP50  mAP50-95)     Pose(P          R      mAP50  mAP50-95): 100%|██████████| 2/2 [00:00<00:00,  2.43it/s]"
     ]
    },
    {
     "name": "stdout",
     "output_type": "stream",
     "text": [
      "                   all         40         55      0.723        0.9      0.814      0.537          0          0          0          0\n"
     ]
    },
    {
     "name": "stderr",
     "output_type": "stream",
     "text": [
      "\n"
     ]
    },
    {
     "name": "stdout",
     "output_type": "stream",
     "text": [
      "\n",
      "      Epoch    GPU_mem   box_loss  pose_loss  kobj_loss   cls_loss   dfl_loss  Instances       Size\n"
     ]
    },
    {
     "name": "stderr",
     "output_type": "stream",
     "text": [
      "      8/100      2.45G      1.157      9.473          0     0.9698      1.166         19        640: 100%|██████████| 23/23 [00:14<00:00,  1.60it/s]\n",
      "                 Class     Images  Instances      Box(P          R      mAP50  mAP50-95)     Pose(P          R      mAP50  mAP50-95): 100%|██████████| 2/2 [00:00<00:00,  2.79it/s]"
     ]
    },
    {
     "name": "stdout",
     "output_type": "stream",
     "text": [
      "                   all         40         55       0.69      0.891      0.821      0.544     0.0439     0.0364    0.00249   0.000327\n"
     ]
    },
    {
     "name": "stderr",
     "output_type": "stream",
     "text": [
      "\n"
     ]
    },
    {
     "name": "stdout",
     "output_type": "stream",
     "text": [
      "\n",
      "      Epoch    GPU_mem   box_loss  pose_loss  kobj_loss   cls_loss   dfl_loss  Instances       Size\n"
     ]
    },
    {
     "name": "stderr",
     "output_type": "stream",
     "text": [
      "      9/100      2.44G      1.087      9.413          0     0.9303      1.134         18        640: 100%|██████████| 23/23 [00:17<00:00,  1.32it/s]\n",
      "                 Class     Images  Instances      Box(P          R      mAP50  mAP50-95)     Pose(P          R      mAP50  mAP50-95): 100%|██████████| 2/2 [00:00<00:00,  2.90it/s]"
     ]
    },
    {
     "name": "stdout",
     "output_type": "stream",
     "text": [
      "                   all         40         55      0.794      0.945      0.869       0.61     0.0293     0.0182   0.000971   9.71e-05\n"
     ]
    },
    {
     "name": "stderr",
     "output_type": "stream",
     "text": [
      "\n"
     ]
    },
    {
     "name": "stdout",
     "output_type": "stream",
     "text": [
      "\n",
      "      Epoch    GPU_mem   box_loss  pose_loss  kobj_loss   cls_loss   dfl_loss  Instances       Size\n"
     ]
    },
    {
     "name": "stderr",
     "output_type": "stream",
     "text": [
      "     10/100      2.45G      1.053      9.271          0     0.8924      1.108         13        640: 100%|██████████| 23/23 [00:16<00:00,  1.39it/s]\n",
      "                 Class     Images  Instances      Box(P          R      mAP50  mAP50-95)     Pose(P          R      mAP50  mAP50-95): 100%|██████████| 2/2 [00:00<00:00,  2.51it/s]"
     ]
    },
    {
     "name": "stdout",
     "output_type": "stream",
     "text": [
      "                   all         40         55      0.715      0.873      0.804      0.579          0          0          0          0\n"
     ]
    },
    {
     "name": "stderr",
     "output_type": "stream",
     "text": [
      "\n"
     ]
    },
    {
     "name": "stdout",
     "output_type": "stream",
     "text": [
      "\n",
      "      Epoch    GPU_mem   box_loss  pose_loss  kobj_loss   cls_loss   dfl_loss  Instances       Size\n"
     ]
    },
    {
     "name": "stderr",
     "output_type": "stream",
     "text": [
      "     11/100      2.44G      1.076      9.383          0     0.9379      1.111         20        640: 100%|██████████| 23/23 [00:15<00:00,  1.49it/s]\n",
      "                 Class     Images  Instances      Box(P          R      mAP50  mAP50-95)     Pose(P          R      mAP50  mAP50-95): 100%|██████████| 2/2 [00:00<00:00,  3.05it/s]"
     ]
    },
    {
     "name": "stdout",
     "output_type": "stream",
     "text": [
      "                   all         40         55       0.82      0.914      0.876      0.619    0.00356     0.0182   0.000377   3.77e-05\n"
     ]
    },
    {
     "name": "stderr",
     "output_type": "stream",
     "text": [
      "\n"
     ]
    },
    {
     "name": "stdout",
     "output_type": "stream",
     "text": [
      "\n",
      "      Epoch    GPU_mem   box_loss  pose_loss  kobj_loss   cls_loss   dfl_loss  Instances       Size\n"
     ]
    },
    {
     "name": "stderr",
     "output_type": "stream",
     "text": [
      "     12/100      2.44G      1.057      8.996          0     0.9047      1.114          9        640: 100%|██████████| 23/23 [00:16<00:00,  1.35it/s]\n",
      "                 Class     Images  Instances      Box(P          R      mAP50  mAP50-95)     Pose(P          R      mAP50  mAP50-95): 100%|██████████| 2/2 [00:00<00:00,  3.02it/s]"
     ]
    },
    {
     "name": "stdout",
     "output_type": "stream",
     "text": [
      "                   all         40         55      0.728      0.982      0.817      0.587     0.0194     0.0182   0.000848   0.000339\n"
     ]
    },
    {
     "name": "stderr",
     "output_type": "stream",
     "text": [
      "\n"
     ]
    },
    {
     "name": "stdout",
     "output_type": "stream",
     "text": [
      "\n",
      "      Epoch    GPU_mem   box_loss  pose_loss  kobj_loss   cls_loss   dfl_loss  Instances       Size\n"
     ]
    },
    {
     "name": "stderr",
     "output_type": "stream",
     "text": [
      "     13/100      2.44G      1.062      8.941          0     0.9007      1.121          7        640: 100%|██████████| 23/23 [00:12<00:00,  1.85it/s]\n",
      "                 Class     Images  Instances      Box(P          R      mAP50  mAP50-95)     Pose(P          R      mAP50  mAP50-95): 100%|██████████| 2/2 [00:00<00:00,  2.75it/s]"
     ]
    },
    {
     "name": "stdout",
     "output_type": "stream",
     "text": [
      "                   all         40         55       0.78      0.945      0.875      0.639     0.0826     0.0364     0.0216    0.00223\n"
     ]
    },
    {
     "name": "stderr",
     "output_type": "stream",
     "text": [
      "\n"
     ]
    },
    {
     "name": "stdout",
     "output_type": "stream",
     "text": [
      "\n",
      "      Epoch    GPU_mem   box_loss  pose_loss  kobj_loss   cls_loss   dfl_loss  Instances       Size\n"
     ]
    },
    {
     "name": "stderr",
     "output_type": "stream",
     "text": [
      "     14/100      2.44G      1.015      9.099          0     0.8573      1.085         17        640: 100%|██████████| 23/23 [00:16<00:00,  1.39it/s]\n",
      "                 Class     Images  Instances      Box(P          R      mAP50  mAP50-95)     Pose(P          R      mAP50  mAP50-95): 100%|██████████| 2/2 [00:00<00:00,  2.90it/s]"
     ]
    },
    {
     "name": "stdout",
     "output_type": "stream",
     "text": [
      "                   all         40         55      0.767      0.958      0.859      0.596     0.0867     0.0909     0.0155    0.00224\n"
     ]
    },
    {
     "name": "stderr",
     "output_type": "stream",
     "text": [
      "\n"
     ]
    },
    {
     "name": "stdout",
     "output_type": "stream",
     "text": [
      "\n",
      "      Epoch    GPU_mem   box_loss  pose_loss  kobj_loss   cls_loss   dfl_loss  Instances       Size\n"
     ]
    },
    {
     "name": "stderr",
     "output_type": "stream",
     "text": [
      "     15/100      2.43G     0.9926      8.557          0     0.8497        1.1         12        640: 100%|██████████| 23/23 [00:15<00:00,  1.52it/s]\n",
      "                 Class     Images  Instances      Box(P          R      mAP50  mAP50-95)     Pose(P          R      mAP50  mAP50-95): 100%|██████████| 2/2 [00:00<00:00,  3.02it/s]"
     ]
    },
    {
     "name": "stdout",
     "output_type": "stream",
     "text": [
      "                   all         40         55      0.746      0.959      0.819      0.627        0.1      0.127     0.0265    0.00282\n"
     ]
    },
    {
     "name": "stderr",
     "output_type": "stream",
     "text": [
      "\n"
     ]
    },
    {
     "name": "stdout",
     "output_type": "stream",
     "text": [
      "\n",
      "      Epoch    GPU_mem   box_loss  pose_loss  kobj_loss   cls_loss   dfl_loss  Instances       Size\n"
     ]
    },
    {
     "name": "stderr",
     "output_type": "stream",
     "text": [
      "     16/100      2.46G     0.9815      8.532          0     0.8268      1.088         17        640: 100%|██████████| 23/23 [00:12<00:00,  1.85it/s]\n",
      "                 Class     Images  Instances      Box(P          R      mAP50  mAP50-95)     Pose(P          R      mAP50  mAP50-95): 100%|██████████| 2/2 [00:00<00:00,  2.93it/s]"
     ]
    },
    {
     "name": "stdout",
     "output_type": "stream",
     "text": [
      "                   all         40         55      0.767      0.891      0.841      0.622      0.178      0.145     0.0359    0.00404\n"
     ]
    },
    {
     "name": "stderr",
     "output_type": "stream",
     "text": [
      "\n"
     ]
    },
    {
     "name": "stdout",
     "output_type": "stream",
     "text": [
      "\n",
      "      Epoch    GPU_mem   box_loss  pose_loss  kobj_loss   cls_loss   dfl_loss  Instances       Size\n"
     ]
    },
    {
     "name": "stderr",
     "output_type": "stream",
     "text": [
      "     17/100      2.45G     0.9635      8.535          0     0.8092      1.084         17        640: 100%|██████████| 23/23 [00:15<00:00,  1.53it/s]\n",
      "                 Class     Images  Instances      Box(P          R      mAP50  mAP50-95)     Pose(P          R      mAP50  mAP50-95): 100%|██████████| 2/2 [00:00<00:00,  2.57it/s]"
     ]
    },
    {
     "name": "stdout",
     "output_type": "stream",
     "text": [
      "                   all         40         55      0.779      0.895       0.89      0.675      0.173      0.218     0.0896     0.0141\n"
     ]
    },
    {
     "name": "stderr",
     "output_type": "stream",
     "text": [
      "\n"
     ]
    },
    {
     "name": "stdout",
     "output_type": "stream",
     "text": [
      "\n",
      "      Epoch    GPU_mem   box_loss  pose_loss  kobj_loss   cls_loss   dfl_loss  Instances       Size\n"
     ]
    },
    {
     "name": "stderr",
     "output_type": "stream",
     "text": [
      "     18/100      2.45G     0.9743      8.421          0     0.8265      1.081         19        640: 100%|██████████| 23/23 [00:20<00:00,  1.14it/s]\n",
      "                 Class     Images  Instances      Box(P          R      mAP50  mAP50-95)     Pose(P          R      mAP50  mAP50-95): 100%|██████████| 2/2 [00:00<00:00,  2.66it/s]"
     ]
    },
    {
     "name": "stdout",
     "output_type": "stream",
     "text": [
      "                   all         40         55      0.795      0.915      0.849      0.623      0.193      0.127     0.0675     0.0145\n"
     ]
    },
    {
     "name": "stderr",
     "output_type": "stream",
     "text": [
      "\n"
     ]
    },
    {
     "name": "stdout",
     "output_type": "stream",
     "text": [
      "\n",
      "      Epoch    GPU_mem   box_loss  pose_loss  kobj_loss   cls_loss   dfl_loss  Instances       Size\n"
     ]
    },
    {
     "name": "stderr",
     "output_type": "stream",
     "text": [
      "     19/100      2.44G     0.9521      8.343          0     0.7968      1.066         15        640: 100%|██████████| 23/23 [00:14<00:00,  1.61it/s]\n",
      "                 Class     Images  Instances      Box(P          R      mAP50  mAP50-95)     Pose(P          R      mAP50  mAP50-95): 100%|██████████| 2/2 [00:00<00:00,  2.79it/s]\n"
     ]
    },
    {
     "name": "stdout",
     "output_type": "stream",
     "text": [
      "                   all         40         55      0.778      0.909      0.833      0.626      0.248      0.236      0.135     0.0252\n",
      "\n",
      "      Epoch    GPU_mem   box_loss  pose_loss  kobj_loss   cls_loss   dfl_loss  Instances       Size\n"
     ]
    },
    {
     "name": "stderr",
     "output_type": "stream",
     "text": [
      "     20/100      2.45G     0.9407       8.21          0     0.8135       1.05         14        640: 100%|██████████| 23/23 [00:19<00:00,  1.20it/s]\n",
      "                 Class     Images  Instances      Box(P          R      mAP50  mAP50-95)     Pose(P          R      mAP50  mAP50-95): 100%|██████████| 2/2 [00:00<00:00,  2.54it/s]"
     ]
    },
    {
     "name": "stdout",
     "output_type": "stream",
     "text": [
      "                   all         40         55      0.778      0.958      0.846      0.657      0.218      0.236     0.0924     0.0197\n"
     ]
    },
    {
     "name": "stderr",
     "output_type": "stream",
     "text": [
      "\n"
     ]
    },
    {
     "name": "stdout",
     "output_type": "stream",
     "text": [
      "\n",
      "      Epoch    GPU_mem   box_loss  pose_loss  kobj_loss   cls_loss   dfl_loss  Instances       Size\n"
     ]
    },
    {
     "name": "stderr",
     "output_type": "stream",
     "text": [
      "     21/100      2.45G     0.9541      8.123          0     0.7918      1.064         12        640: 100%|██████████| 23/23 [00:15<00:00,  1.46it/s]\n",
      "                 Class     Images  Instances      Box(P          R      mAP50  mAP50-95)     Pose(P          R      mAP50  mAP50-95): 100%|██████████| 2/2 [00:00<00:00,  2.65it/s]"
     ]
    },
    {
     "name": "stdout",
     "output_type": "stream",
     "text": [
      "                   all         40         55      0.798      0.927      0.863       0.62      0.412      0.218      0.144     0.0323\n"
     ]
    },
    {
     "name": "stderr",
     "output_type": "stream",
     "text": [
      "\n"
     ]
    },
    {
     "name": "stdout",
     "output_type": "stream",
     "text": [
      "\n",
      "      Epoch    GPU_mem   box_loss  pose_loss  kobj_loss   cls_loss   dfl_loss  Instances       Size\n"
     ]
    },
    {
     "name": "stderr",
     "output_type": "stream",
     "text": [
      "     22/100      2.44G     0.9091      8.205          0     0.7589      1.059         16        640: 100%|██████████| 23/23 [00:17<00:00,  1.35it/s]\n",
      "                 Class     Images  Instances      Box(P          R      mAP50  mAP50-95)     Pose(P          R      mAP50  mAP50-95): 100%|██████████| 2/2 [00:00<00:00,  2.60it/s]"
     ]
    },
    {
     "name": "stdout",
     "output_type": "stream",
     "text": [
      "                   all         40         55      0.788      0.964      0.895      0.691      0.388      0.327      0.208     0.0435\n"
     ]
    },
    {
     "name": "stderr",
     "output_type": "stream",
     "text": [
      "\n"
     ]
    },
    {
     "name": "stdout",
     "output_type": "stream",
     "text": [
      "\n",
      "      Epoch    GPU_mem   box_loss  pose_loss  kobj_loss   cls_loss   dfl_loss  Instances       Size\n"
     ]
    },
    {
     "name": "stderr",
     "output_type": "stream",
     "text": [
      "     23/100      2.45G     0.9317      7.948          0     0.7993      1.054         15        640: 100%|██████████| 23/23 [00:15<00:00,  1.46it/s]\n",
      "                 Class     Images  Instances      Box(P          R      mAP50  mAP50-95)     Pose(P          R      mAP50  mAP50-95): 100%|██████████| 2/2 [00:00<00:00,  2.70it/s]"
     ]
    },
    {
     "name": "stdout",
     "output_type": "stream",
     "text": [
      "                   all         40         55       0.73      0.936      0.849      0.629      0.361      0.309      0.227     0.0517\n"
     ]
    },
    {
     "name": "stderr",
     "output_type": "stream",
     "text": [
      "\n"
     ]
    },
    {
     "name": "stdout",
     "output_type": "stream",
     "text": [
      "\n",
      "      Epoch    GPU_mem   box_loss  pose_loss  kobj_loss   cls_loss   dfl_loss  Instances       Size\n"
     ]
    },
    {
     "name": "stderr",
     "output_type": "stream",
     "text": [
      "     24/100      2.46G      0.891      7.939          0     0.7638       1.05         19        640: 100%|██████████| 23/23 [00:17<00:00,  1.34it/s]\n",
      "                 Class     Images  Instances      Box(P          R      mAP50  mAP50-95)     Pose(P          R      mAP50  mAP50-95): 100%|██████████| 2/2 [00:00<00:00,  2.78it/s]"
     ]
    },
    {
     "name": "stdout",
     "output_type": "stream",
     "text": [
      "                   all         40         55      0.784      0.921       0.85      0.638      0.497      0.377      0.321     0.0775\n"
     ]
    },
    {
     "name": "stderr",
     "output_type": "stream",
     "text": [
      "\n"
     ]
    },
    {
     "name": "stdout",
     "output_type": "stream",
     "text": [
      "\n",
      "      Epoch    GPU_mem   box_loss  pose_loss  kobj_loss   cls_loss   dfl_loss  Instances       Size\n"
     ]
    },
    {
     "name": "stderr",
     "output_type": "stream",
     "text": [
      "     25/100      2.46G      0.915      7.725          0     0.7803       1.05         12        640: 100%|██████████| 23/23 [00:17<00:00,  1.34it/s]\n",
      "                 Class     Images  Instances      Box(P          R      mAP50  mAP50-95)     Pose(P          R      mAP50  mAP50-95): 100%|██████████| 2/2 [00:00<00:00,  2.63it/s]"
     ]
    },
    {
     "name": "stdout",
     "output_type": "stream",
     "text": [
      "                   all         40         55      0.777      0.953      0.855      0.654      0.447      0.352      0.229     0.0585\n"
     ]
    },
    {
     "name": "stderr",
     "output_type": "stream",
     "text": [
      "\n"
     ]
    },
    {
     "name": "stdout",
     "output_type": "stream",
     "text": [
      "\n",
      "      Epoch    GPU_mem   box_loss  pose_loss  kobj_loss   cls_loss   dfl_loss  Instances       Size\n"
     ]
    },
    {
     "name": "stderr",
     "output_type": "stream",
     "text": [
      "     26/100      2.45G     0.9034      7.548          0     0.7828       1.06         13        640: 100%|██████████| 23/23 [00:17<00:00,  1.28it/s]\n",
      "                 Class     Images  Instances      Box(P          R      mAP50  mAP50-95)     Pose(P          R      mAP50  mAP50-95): 100%|██████████| 2/2 [00:00<00:00,  2.09it/s]"
     ]
    },
    {
     "name": "stdout",
     "output_type": "stream",
     "text": [
      "                   all         40         55      0.782      0.911      0.838      0.661      0.455      0.471      0.287     0.0697\n"
     ]
    },
    {
     "name": "stderr",
     "output_type": "stream",
     "text": [
      "\n"
     ]
    },
    {
     "name": "stdout",
     "output_type": "stream",
     "text": [
      "\n",
      "      Epoch    GPU_mem   box_loss  pose_loss  kobj_loss   cls_loss   dfl_loss  Instances       Size\n"
     ]
    },
    {
     "name": "stderr",
     "output_type": "stream",
     "text": [
      "     27/100      2.43G     0.8812      7.741          0     0.7475      1.034          8        640: 100%|██████████| 23/23 [00:13<00:00,  1.73it/s]\n",
      "                 Class     Images  Instances      Box(P          R      mAP50  mAP50-95)     Pose(P          R      mAP50  mAP50-95): 100%|██████████| 2/2 [00:00<00:00,  2.70it/s]"
     ]
    },
    {
     "name": "stdout",
     "output_type": "stream",
     "text": [
      "                   all         40         55      0.779      0.961      0.822       0.62      0.397       0.42      0.311     0.0792\n"
     ]
    },
    {
     "name": "stderr",
     "output_type": "stream",
     "text": [
      "\n"
     ]
    },
    {
     "name": "stdout",
     "output_type": "stream",
     "text": [
      "\n",
      "      Epoch    GPU_mem   box_loss  pose_loss  kobj_loss   cls_loss   dfl_loss  Instances       Size\n"
     ]
    },
    {
     "name": "stderr",
     "output_type": "stream",
     "text": [
      "     28/100      2.46G     0.8913      7.739          0     0.7624      1.052          7        640: 100%|██████████| 23/23 [00:15<00:00,  1.48it/s]\n",
      "                 Class     Images  Instances      Box(P          R      mAP50  mAP50-95)     Pose(P          R      mAP50  mAP50-95): 100%|██████████| 2/2 [00:00<00:00,  2.80it/s]"
     ]
    },
    {
     "name": "stdout",
     "output_type": "stream",
     "text": [
      "                   all         40         55      0.825      0.927      0.863      0.659      0.391      0.436       0.27     0.0651\n"
     ]
    },
    {
     "name": "stderr",
     "output_type": "stream",
     "text": [
      "\n"
     ]
    },
    {
     "name": "stdout",
     "output_type": "stream",
     "text": [
      "\n",
      "      Epoch    GPU_mem   box_loss  pose_loss  kobj_loss   cls_loss   dfl_loss  Instances       Size\n"
     ]
    },
    {
     "name": "stderr",
     "output_type": "stream",
     "text": [
      "     29/100      2.46G     0.8521      7.563          0     0.7307      1.038         10        640: 100%|██████████| 23/23 [00:18<00:00,  1.26it/s]\n",
      "                 Class     Images  Instances      Box(P          R      mAP50  mAP50-95)     Pose(P          R      mAP50  mAP50-95): 100%|██████████| 2/2 [00:00<00:00,  2.88it/s]"
     ]
    },
    {
     "name": "stdout",
     "output_type": "stream",
     "text": [
      "                   all         40         55       0.72      0.982      0.853      0.663      0.406      0.527      0.282     0.0787\n"
     ]
    },
    {
     "name": "stderr",
     "output_type": "stream",
     "text": [
      "\n"
     ]
    },
    {
     "name": "stdout",
     "output_type": "stream",
     "text": [
      "\n",
      "      Epoch    GPU_mem   box_loss  pose_loss  kobj_loss   cls_loss   dfl_loss  Instances       Size\n"
     ]
    },
    {
     "name": "stderr",
     "output_type": "stream",
     "text": [
      "     30/100      2.45G     0.8695      7.515          0     0.7379      1.036         10        640: 100%|██████████| 23/23 [00:16<00:00,  1.39it/s]\n",
      "                 Class     Images  Instances      Box(P          R      mAP50  mAP50-95)     Pose(P          R      mAP50  mAP50-95): 100%|██████████| 2/2 [00:00<00:00,  2.67it/s]"
     ]
    },
    {
     "name": "stdout",
     "output_type": "stream",
     "text": [
      "                   all         40         55      0.808      0.921      0.876      0.685      0.565      0.455      0.368      0.122\n"
     ]
    },
    {
     "name": "stderr",
     "output_type": "stream",
     "text": [
      "\n"
     ]
    },
    {
     "name": "stdout",
     "output_type": "stream",
     "text": [
      "\n",
      "      Epoch    GPU_mem   box_loss  pose_loss  kobj_loss   cls_loss   dfl_loss  Instances       Size\n"
     ]
    },
    {
     "name": "stderr",
     "output_type": "stream",
     "text": [
      "     31/100      2.45G     0.8633       7.64          0     0.7416      1.024         16        640: 100%|██████████| 23/23 [00:13<00:00,  1.70it/s]\n",
      "                 Class     Images  Instances      Box(P          R      mAP50  mAP50-95)     Pose(P          R      mAP50  mAP50-95): 100%|██████████| 2/2 [00:00<00:00,  2.57it/s]"
     ]
    },
    {
     "name": "stdout",
     "output_type": "stream",
     "text": [
      "                   all         40         55      0.832      0.903      0.885      0.687      0.542      0.409      0.363      0.126\n"
     ]
    },
    {
     "name": "stderr",
     "output_type": "stream",
     "text": [
      "\n"
     ]
    },
    {
     "name": "stdout",
     "output_type": "stream",
     "text": [
      "\n",
      "      Epoch    GPU_mem   box_loss  pose_loss  kobj_loss   cls_loss   dfl_loss  Instances       Size\n"
     ]
    },
    {
     "name": "stderr",
     "output_type": "stream",
     "text": [
      "     32/100      2.45G     0.8894      7.238          0     0.7475      1.033         10        640: 100%|██████████| 23/23 [00:14<00:00,  1.60it/s]\n",
      "                 Class     Images  Instances      Box(P          R      mAP50  mAP50-95)     Pose(P          R      mAP50  mAP50-95): 100%|██████████| 2/2 [00:00<00:00,  2.41it/s]"
     ]
    },
    {
     "name": "stdout",
     "output_type": "stream",
     "text": [
      "                   all         40         55      0.793      0.978      0.881      0.659      0.523      0.564      0.457      0.162\n"
     ]
    },
    {
     "name": "stderr",
     "output_type": "stream",
     "text": [
      "\n"
     ]
    },
    {
     "name": "stdout",
     "output_type": "stream",
     "text": [
      "\n",
      "      Epoch    GPU_mem   box_loss  pose_loss  kobj_loss   cls_loss   dfl_loss  Instances       Size\n"
     ]
    },
    {
     "name": "stderr",
     "output_type": "stream",
     "text": [
      "     33/100      2.46G     0.8757      7.405          0     0.7529      1.039         13        640: 100%|██████████| 23/23 [00:16<00:00,  1.38it/s]\n",
      "                 Class     Images  Instances      Box(P          R      mAP50  mAP50-95)     Pose(P          R      mAP50  mAP50-95): 100%|██████████| 2/2 [00:01<00:00,  1.88it/s]"
     ]
    },
    {
     "name": "stdout",
     "output_type": "stream",
     "text": [
      "                   all         40         55      0.826      0.964      0.894      0.656      0.486      0.545      0.395      0.149\n"
     ]
    },
    {
     "name": "stderr",
     "output_type": "stream",
     "text": [
      "\n"
     ]
    },
    {
     "name": "stdout",
     "output_type": "stream",
     "text": [
      "\n",
      "      Epoch    GPU_mem   box_loss  pose_loss  kobj_loss   cls_loss   dfl_loss  Instances       Size\n"
     ]
    },
    {
     "name": "stderr",
     "output_type": "stream",
     "text": [
      "     34/100      2.46G     0.8922      7.285          0     0.7431      1.037          7        640: 100%|██████████| 23/23 [00:16<00:00,  1.37it/s]\n",
      "                 Class     Images  Instances      Box(P          R      mAP50  mAP50-95)     Pose(P          R      mAP50  mAP50-95): 100%|██████████| 2/2 [00:00<00:00,  2.67it/s]"
     ]
    },
    {
     "name": "stdout",
     "output_type": "stream",
     "text": [
      "                   all         40         55      0.782      0.977      0.885      0.657      0.655      0.455      0.391      0.152\n"
     ]
    },
    {
     "name": "stderr",
     "output_type": "stream",
     "text": [
      "\n"
     ]
    },
    {
     "name": "stdout",
     "output_type": "stream",
     "text": [
      "\n",
      "      Epoch    GPU_mem   box_loss  pose_loss  kobj_loss   cls_loss   dfl_loss  Instances       Size\n"
     ]
    },
    {
     "name": "stderr",
     "output_type": "stream",
     "text": [
      "     35/100      2.45G     0.8679      7.401          0     0.7338      1.013         24        640: 100%|██████████| 23/23 [00:16<00:00,  1.37it/s]\n",
      "                 Class     Images  Instances      Box(P          R      mAP50  mAP50-95)     Pose(P          R      mAP50  mAP50-95): 100%|██████████| 2/2 [00:00<00:00,  2.83it/s]"
     ]
    },
    {
     "name": "stdout",
     "output_type": "stream",
     "text": [
      "                   all         40         55        0.8      0.947      0.843      0.655      0.524      0.618      0.488      0.161\n"
     ]
    },
    {
     "name": "stderr",
     "output_type": "stream",
     "text": [
      "\n"
     ]
    },
    {
     "name": "stdout",
     "output_type": "stream",
     "text": [
      "\n",
      "      Epoch    GPU_mem   box_loss  pose_loss  kobj_loss   cls_loss   dfl_loss  Instances       Size\n"
     ]
    },
    {
     "name": "stderr",
     "output_type": "stream",
     "text": [
      "     36/100      2.44G     0.8707      7.119          0     0.7437       1.05         17        640: 100%|██████████| 23/23 [00:18<00:00,  1.27it/s]\n",
      "                 Class     Images  Instances      Box(P          R      mAP50  mAP50-95)     Pose(P          R      mAP50  mAP50-95): 100%|██████████| 2/2 [00:00<00:00,  2.86it/s]"
     ]
    },
    {
     "name": "stdout",
     "output_type": "stream",
     "text": [
      "                   all         40         55      0.812      0.942      0.873      0.675      0.604      0.545      0.428      0.152\n"
     ]
    },
    {
     "name": "stderr",
     "output_type": "stream",
     "text": [
      "\n"
     ]
    },
    {
     "name": "stdout",
     "output_type": "stream",
     "text": [
      "\n",
      "      Epoch    GPU_mem   box_loss  pose_loss  kobj_loss   cls_loss   dfl_loss  Instances       Size\n"
     ]
    },
    {
     "name": "stderr",
     "output_type": "stream",
     "text": [
      "     37/100      2.44G     0.8167      7.118          0     0.7227      1.011         19        640: 100%|██████████| 23/23 [00:16<00:00,  1.36it/s]\n",
      "                 Class     Images  Instances      Box(P          R      mAP50  mAP50-95)     Pose(P          R      mAP50  mAP50-95): 100%|██████████| 2/2 [00:00<00:00,  2.74it/s]"
     ]
    },
    {
     "name": "stdout",
     "output_type": "stream",
     "text": [
      "                   all         40         55      0.786      0.927       0.86      0.692      0.478      0.564        0.4      0.141\n"
     ]
    },
    {
     "name": "stderr",
     "output_type": "stream",
     "text": [
      "\n"
     ]
    },
    {
     "name": "stdout",
     "output_type": "stream",
     "text": [
      "\n",
      "      Epoch    GPU_mem   box_loss  pose_loss  kobj_loss   cls_loss   dfl_loss  Instances       Size\n"
     ]
    },
    {
     "name": "stderr",
     "output_type": "stream",
     "text": [
      "     38/100      2.45G     0.8251      6.951          0     0.7187      1.011         12        640: 100%|██████████| 23/23 [00:18<00:00,  1.26it/s]\n",
      "                 Class     Images  Instances      Box(P          R      mAP50  mAP50-95)     Pose(P          R      mAP50  mAP50-95): 100%|██████████| 2/2 [00:00<00:00,  2.34it/s]"
     ]
    },
    {
     "name": "stdout",
     "output_type": "stream",
     "text": [
      "                   all         40         55      0.852      0.855      0.889      0.698      0.487      0.473      0.348      0.137\n"
     ]
    },
    {
     "name": "stderr",
     "output_type": "stream",
     "text": [
      "\n"
     ]
    },
    {
     "name": "stdout",
     "output_type": "stream",
     "text": [
      "\n",
      "      Epoch    GPU_mem   box_loss  pose_loss  kobj_loss   cls_loss   dfl_loss  Instances       Size\n"
     ]
    },
    {
     "name": "stderr",
     "output_type": "stream",
     "text": [
      "     39/100      2.45G     0.8363       7.05          0      0.727      1.022         11        640: 100%|██████████| 23/23 [00:15<00:00,  1.47it/s]\n",
      "                 Class     Images  Instances      Box(P          R      mAP50  mAP50-95)     Pose(P          R      mAP50  mAP50-95): 100%|██████████| 2/2 [00:00<00:00,  2.47it/s]"
     ]
    },
    {
     "name": "stdout",
     "output_type": "stream",
     "text": [
      "                   all         40         55      0.848      0.927      0.891      0.699      0.557      0.491      0.358      0.134\n"
     ]
    },
    {
     "name": "stderr",
     "output_type": "stream",
     "text": [
      "\n"
     ]
    },
    {
     "name": "stdout",
     "output_type": "stream",
     "text": [
      "\n",
      "      Epoch    GPU_mem   box_loss  pose_loss  kobj_loss   cls_loss   dfl_loss  Instances       Size\n"
     ]
    },
    {
     "name": "stderr",
     "output_type": "stream",
     "text": [
      "     40/100      2.44G     0.8416      7.178          0     0.7256      1.021          7        640: 100%|██████████| 23/23 [00:17<00:00,  1.29it/s]\n",
      "                 Class     Images  Instances      Box(P          R      mAP50  mAP50-95)     Pose(P          R      mAP50  mAP50-95): 100%|██████████| 2/2 [00:00<00:00,  2.79it/s]"
     ]
    },
    {
     "name": "stdout",
     "output_type": "stream",
     "text": [
      "                   all         40         55      0.847      0.945      0.902      0.721      0.545      0.564      0.463      0.169\n"
     ]
    },
    {
     "name": "stderr",
     "output_type": "stream",
     "text": [
      "\n"
     ]
    },
    {
     "name": "stdout",
     "output_type": "stream",
     "text": [
      "\n",
      "      Epoch    GPU_mem   box_loss  pose_loss  kobj_loss   cls_loss   dfl_loss  Instances       Size\n"
     ]
    },
    {
     "name": "stderr",
     "output_type": "stream",
     "text": [
      "     41/100      2.45G     0.8385      7.201          0     0.7046      1.026         12        640: 100%|██████████| 23/23 [00:16<00:00,  1.41it/s]\n",
      "                 Class     Images  Instances      Box(P          R      mAP50  mAP50-95)     Pose(P          R      mAP50  mAP50-95): 100%|██████████| 2/2 [00:00<00:00,  2.67it/s]"
     ]
    },
    {
     "name": "stdout",
     "output_type": "stream",
     "text": [
      "                   all         40         55       0.83      0.927      0.854      0.695      0.482      0.527      0.384      0.159\n"
     ]
    },
    {
     "name": "stderr",
     "output_type": "stream",
     "text": [
      "\n"
     ]
    },
    {
     "name": "stdout",
     "output_type": "stream",
     "text": [
      "\n",
      "      Epoch    GPU_mem   box_loss  pose_loss  kobj_loss   cls_loss   dfl_loss  Instances       Size\n"
     ]
    },
    {
     "name": "stderr",
     "output_type": "stream",
     "text": [
      "     42/100      2.45G     0.8329      6.821          0     0.7057      1.028         14        640: 100%|██████████| 23/23 [00:16<00:00,  1.38it/s]\n",
      "                 Class     Images  Instances      Box(P          R      mAP50  mAP50-95)     Pose(P          R      mAP50  mAP50-95): 100%|██████████| 2/2 [00:00<00:00,  2.84it/s]"
     ]
    },
    {
     "name": "stdout",
     "output_type": "stream",
     "text": [
      "                   all         40         55      0.762      0.945       0.84      0.663      0.536      0.505      0.377      0.172\n"
     ]
    },
    {
     "name": "stderr",
     "output_type": "stream",
     "text": [
      "\n"
     ]
    },
    {
     "name": "stdout",
     "output_type": "stream",
     "text": [
      "\n",
      "      Epoch    GPU_mem   box_loss  pose_loss  kobj_loss   cls_loss   dfl_loss  Instances       Size\n"
     ]
    },
    {
     "name": "stderr",
     "output_type": "stream",
     "text": [
      "     43/100      2.44G      0.825      6.697          0     0.6788      1.023         13        640: 100%|██████████| 23/23 [00:15<00:00,  1.53it/s]\n",
      "                 Class     Images  Instances      Box(P          R      mAP50  mAP50-95)     Pose(P          R      mAP50  mAP50-95): 100%|██████████| 2/2 [00:00<00:00,  2.28it/s]"
     ]
    },
    {
     "name": "stdout",
     "output_type": "stream",
     "text": [
      "                   all         40         55      0.853      0.947      0.875      0.685      0.546      0.582      0.422      0.191\n"
     ]
    },
    {
     "name": "stderr",
     "output_type": "stream",
     "text": [
      "\n"
     ]
    },
    {
     "name": "stdout",
     "output_type": "stream",
     "text": [
      "\n",
      "      Epoch    GPU_mem   box_loss  pose_loss  kobj_loss   cls_loss   dfl_loss  Instances       Size\n"
     ]
    },
    {
     "name": "stderr",
     "output_type": "stream",
     "text": [
      "     44/100      2.45G     0.8152       6.64          0     0.7072      1.011         14        640: 100%|██████████| 23/23 [00:24<00:00,  1.05s/it]\n",
      "                 Class     Images  Instances      Box(P          R      mAP50  mAP50-95)     Pose(P          R      mAP50  mAP50-95): 100%|██████████| 2/2 [00:00<00:00,  2.16it/s]"
     ]
    },
    {
     "name": "stdout",
     "output_type": "stream",
     "text": [
      "                   all         40         55      0.815      0.945      0.908      0.725       0.54      0.597      0.386      0.183\n"
     ]
    },
    {
     "name": "stderr",
     "output_type": "stream",
     "text": [
      "\n"
     ]
    },
    {
     "name": "stdout",
     "output_type": "stream",
     "text": [
      "\n",
      "      Epoch    GPU_mem   box_loss  pose_loss  kobj_loss   cls_loss   dfl_loss  Instances       Size\n"
     ]
    },
    {
     "name": "stderr",
     "output_type": "stream",
     "text": [
      "     45/100      2.44G     0.8236       6.74          0     0.7148      1.017          8        640: 100%|██████████| 23/23 [00:18<00:00,  1.24it/s]\n",
      "                 Class     Images  Instances      Box(P          R      mAP50  mAP50-95)     Pose(P          R      mAP50  mAP50-95): 100%|██████████| 2/2 [00:00<00:00,  2.69it/s]"
     ]
    },
    {
     "name": "stdout",
     "output_type": "stream",
     "text": [
      "                   all         40         55      0.825      0.945      0.873      0.694      0.576      0.545      0.439      0.205\n"
     ]
    },
    {
     "name": "stderr",
     "output_type": "stream",
     "text": [
      "\n"
     ]
    },
    {
     "name": "stdout",
     "output_type": "stream",
     "text": [
      "\n",
      "      Epoch    GPU_mem   box_loss  pose_loss  kobj_loss   cls_loss   dfl_loss  Instances       Size\n"
     ]
    },
    {
     "name": "stderr",
     "output_type": "stream",
     "text": [
      "     46/100      2.46G     0.7972      6.685          0     0.6963     0.9936         18        640: 100%|██████████| 23/23 [00:15<00:00,  1.50it/s]\n",
      "                 Class     Images  Instances      Box(P          R      mAP50  mAP50-95)     Pose(P          R      mAP50  mAP50-95): 100%|██████████| 2/2 [00:00<00:00,  2.58it/s]"
     ]
    },
    {
     "name": "stdout",
     "output_type": "stream",
     "text": [
      "                   all         40         55      0.789      0.954      0.856      0.679      0.504        0.6      0.431      0.182\n"
     ]
    },
    {
     "name": "stderr",
     "output_type": "stream",
     "text": [
      "\n"
     ]
    },
    {
     "name": "stdout",
     "output_type": "stream",
     "text": [
      "\n",
      "      Epoch    GPU_mem   box_loss  pose_loss  kobj_loss   cls_loss   dfl_loss  Instances       Size\n"
     ]
    },
    {
     "name": "stderr",
     "output_type": "stream",
     "text": [
      "     47/100      2.44G     0.8009       6.51          0     0.6938       1.01         15        640: 100%|██████████| 23/23 [00:16<00:00,  1.42it/s]\n",
      "                 Class     Images  Instances      Box(P          R      mAP50  mAP50-95)     Pose(P          R      mAP50  mAP50-95): 100%|██████████| 2/2 [00:00<00:00,  2.69it/s]"
     ]
    },
    {
     "name": "stdout",
     "output_type": "stream",
     "text": [
      "                   all         40         55      0.789      0.951      0.867      0.678       0.55      0.545      0.451      0.191\n"
     ]
    },
    {
     "name": "stderr",
     "output_type": "stream",
     "text": [
      "\n"
     ]
    }
   ],
   "source": [
    "# Train the model\n",
    "results = model.train(data=\"../data/config_pose.yaml\", epochs=100, imgsz=640)"
   ]
  },
  {
   "cell_type": "code",
   "execution_count": 117,
   "id": "abec0de2-4839-418e-936d-d0a876dae0b2",
   "metadata": {},
   "outputs": [],
   "source": [
    "model = YOLO('../runs/pose/train5/weights/best.pt')"
   ]
  },
  {
   "cell_type": "code",
   "execution_count": 130,
   "id": "0fb32e35-1ecf-4c76-996d-352fbed425ec",
   "metadata": {},
   "outputs": [],
   "source": [
    "path = '../data/images/test/2016.08.11.489.02.jpg'\n"
   ]
  },
  {
   "cell_type": "code",
   "execution_count": 128,
   "id": "e99d5191-1780-4194-8f13-abb697448075",
   "metadata": {},
   "outputs": [
    {
     "data": {
      "text/html": [
       "<div>\n",
       "<style scoped>\n",
       "    .dataframe tbody tr th:only-of-type {\n",
       "        vertical-align: middle;\n",
       "    }\n",
       "\n",
       "    .dataframe tbody tr th {\n",
       "        vertical-align: top;\n",
       "    }\n",
       "\n",
       "    .dataframe thead th {\n",
       "        text-align: right;\n",
       "    }\n",
       "</style>\n",
       "<table border=\"1\" class=\"dataframe\">\n",
       "  <thead>\n",
       "    <tr style=\"text-align: right;\">\n",
       "      <th></th>\n",
       "      <th>Unnamed: 0</th>\n",
       "      <th>filename</th>\n",
       "      <th>whale_id</th>\n",
       "      <th>rostrum_x</th>\n",
       "      <th>rostrum_y</th>\n",
       "      <th>side1_head1_x</th>\n",
       "      <th>side1_head1_y</th>\n",
       "      <th>side1_head2_x</th>\n",
       "      <th>side1_head2_y</th>\n",
       "      <th>side1_eye_x</th>\n",
       "      <th>...</th>\n",
       "      <th>side2_head1_x</th>\n",
       "      <th>side2_head1_y</th>\n",
       "      <th>blowhole_x</th>\n",
       "      <th>blowhole_y</th>\n",
       "      <th>len_mid_x</th>\n",
       "      <th>len_mid_y</th>\n",
       "      <th>fluke_x</th>\n",
       "      <th>fluke_y</th>\n",
       "      <th>Image.Length</th>\n",
       "      <th>Image.Width</th>\n",
       "    </tr>\n",
       "  </thead>\n",
       "  <tbody>\n",
       "    <tr>\n",
       "      <th>371</th>\n",
       "      <td>371</td>\n",
       "      <td>2016.08.11.489.02.JPG</td>\n",
       "      <td>1</td>\n",
       "      <td>642.0</td>\n",
       "      <td>2760.0</td>\n",
       "      <td>790.0</td>\n",
       "      <td>2760.0</td>\n",
       "      <td>1039.0</td>\n",
       "      <td>2619.0</td>\n",
       "      <td>1285.0</td>\n",
       "      <td>...</td>\n",
       "      <td>617.0</td>\n",
       "      <td>2625.0</td>\n",
       "      <td>977.0</td>\n",
       "      <td>2419.0</td>\n",
       "      <td>1488.0</td>\n",
       "      <td>1970.0</td>\n",
       "      <td>2663.0</td>\n",
       "      <td>1264.0</td>\n",
       "      <td>3456</td>\n",
       "      <td>4608</td>\n",
       "    </tr>\n",
       "    <tr>\n",
       "      <th>372</th>\n",
       "      <td>372</td>\n",
       "      <td>2016.08.11.489.02.JPG</td>\n",
       "      <td>2</td>\n",
       "      <td>1505.0</td>\n",
       "      <td>3151.0</td>\n",
       "      <td>1588.0</td>\n",
       "      <td>3168.0</td>\n",
       "      <td>1679.0</td>\n",
       "      <td>3114.0</td>\n",
       "      <td>1779.0</td>\n",
       "      <td>...</td>\n",
       "      <td>1523.0</td>\n",
       "      <td>3067.0</td>\n",
       "      <td>1659.0</td>\n",
       "      <td>3014.0</td>\n",
       "      <td>2024.0</td>\n",
       "      <td>2669.0</td>\n",
       "      <td>2482.0</td>\n",
       "      <td>2250.0</td>\n",
       "      <td>3456</td>\n",
       "      <td>4608</td>\n",
       "    </tr>\n",
       "  </tbody>\n",
       "</table>\n",
       "<p>2 rows × 43 columns</p>\n",
       "</div>"
      ],
      "text/plain": [
       "     Unnamed: 0               filename  whale_id  rostrum_x  rostrum_y  \\\n",
       "371         371  2016.08.11.489.02.JPG         1      642.0     2760.0   \n",
       "372         372  2016.08.11.489.02.JPG         2     1505.0     3151.0   \n",
       "\n",
       "     side1_head1_x  side1_head1_y  side1_head2_x  side1_head2_y  side1_eye_x  \\\n",
       "371          790.0         2760.0         1039.0         2619.0       1285.0   \n",
       "372         1588.0         3168.0         1679.0         3114.0       1779.0   \n",
       "\n",
       "     ...  side2_head1_x  side2_head1_y  blowhole_x  blowhole_y  len_mid_x  \\\n",
       "371  ...          617.0         2625.0       977.0      2419.0     1488.0   \n",
       "372  ...         1523.0         3067.0      1659.0      3014.0     2024.0   \n",
       "\n",
       "     len_mid_y  fluke_x  fluke_y  Image.Length  Image.Width  \n",
       "371     1970.0   2663.0   1264.0          3456         4608  \n",
       "372     2669.0   2482.0   2250.0          3456         4608  \n",
       "\n",
       "[2 rows x 43 columns]"
      ]
     },
     "execution_count": 128,
     "metadata": {},
     "output_type": "execute_result"
    }
   ],
   "source": [
    "keypoints_df.loc[keypoints_df.filename=='2016.08.11.489.02.JPG']"
   ]
  },
  {
   "cell_type": "code",
   "execution_count": 131,
   "id": "984140b2-014d-46ec-b4e4-21a9ce04681d",
   "metadata": {},
   "outputs": [
    {
     "data": {
      "text/plain": [
       "torch.Size([3, 3456, 4608])"
      ]
     },
     "execution_count": 131,
     "metadata": {},
     "output_type": "execute_result"
    }
   ],
   "source": [
    "from PIL import Image\n",
    "from torchvision import transforms\n",
    "img = Image.open(path)\n",
    "# define transform function\n",
    "transform = transforms.ToTensor()\n",
    "# convert image to tensor\n",
    "x_train = transform(img)\n",
    "x_train.shape"
   ]
  },
  {
   "cell_type": "code",
   "execution_count": 132,
   "id": "93ede352-62cc-4b06-8e39-f4755cfbd066",
   "metadata": {},
   "outputs": [
    {
     "name": "stdout",
     "output_type": "stream",
     "text": [
      "\n",
      "image 1/1 E:\\UMass\\Academics\\Spring2024\\670\\Save-The-Whales\\code\\..\\data\\images\\test\\2016.08.11.489.02.jpg: 480x640 1 whale, 62.9ms\n",
      "Speed: 1788.9ms preprocess, 62.9ms inference, 15.6ms postprocess per image at shape (1, 3, 480, 640)\n"
     ]
    }
   ],
   "source": [
    "result = model(path)[0]"
   ]
  },
  {
   "cell_type": "code",
   "execution_count": 134,
   "id": "8bf89790-5432-453b-bcc9-f15f0300403d",
   "metadata": {},
   "outputs": [
    {
     "data": {
      "text/plain": [
       "tensor([1619.7377, 3211.3948, 1759.0051, 3172.2512, 1863.2267, 3095.3828, 1882.3118, 3060.0442, 2038.2466, 2968.6455, 2154.8704, 2698.8286, 2308.4124, 2513.2029, 2401.1812, 2354.9595, 2360.6213, 2371.6074, 2331.4597, 2378.1633, 2207.9258, 2464.3879, 2048.4028, 2599.2405, 1843.8015, 2747.1150, 1708.0569, 2950.5071,\n",
       "        1596.7655, 2989.9492, 1598.2595, 3144.6255, 1729.6088, 3041.3960, 2070.2788, 2719.2510, 2407.9883, 2235.1562])"
      ]
     },
     "execution_count": 134,
     "metadata": {},
     "output_type": "execute_result"
    }
   ],
   "source": [
    "k=result.keypoints.xy[0].flatten().cpu()\n",
    "k"
   ]
  },
  {
   "cell_type": "code",
   "execution_count": 135,
   "id": "9beea7ef-09e3-4b9d-a3ff-e5a8efb700df",
   "metadata": {},
   "outputs": [
    {
     "data": {
      "image/png": "[encoded data removed]",
      "text/plain": [
       "<Figure size 640x480 with 1 Axes>"
      ]
     },
     "metadata": {},
     "output_type": "display_data"
    }
   ],
   "source": [
    "# Visualize the image and keypoints of an image\n",
    "import matplotlib.pyplot as plt\n",
    "img = 5\n",
    "y_actual_coord = []\n",
    "for i in range(0, k.shape[0], 2):\n",
    "  xy = []\n",
    "  xy.append(k[i])\n",
    "  xy.append(k[i+1])\n",
    "  y_actual_coord.append(tuple(xy))\n",
    "\n",
    "plt.imshow(x_train.permute(1,2,0))\n",
    "for i in range(len(y_actual_coord)):\n",
    "    plt.plot(y_actual_coord[i][0], y_actual_coord[i][1], 'rx', markersize=5)  # 'rx' indicates red crosses\n",
    "# Show the plot\n",
    "plt.show()"
   ]
  },
  {
   "cell_type": "code",
   "execution_count": 34,
   "id": "446e27ac-e785-4dbe-8c40-5037f1df85a8",
   "metadata": {},
   "outputs": [
    {
     "name": "stdin",
     "output_type": "stream",
     "text": [
      " 1\n"
     ]
    },
    {
     "data": {
      "text/plain": [
       "'1'"
      ]
     },
     "execution_count": 34,
     "metadata": {},
     "output_type": "execute_result"
    }
   ],
   "source": [
    "input()"
   ]
  },
  {
   "cell_type": "code",
   "execution_count": null,
   "id": "210d67aa-aebd-43e8-a2c0-38c7cd04b16d",
   "metadata": {},
   "outputs": [],
   "source": []
  }
 ],
 "metadata": {
  "kernelspec": {
   "display_name": "CV Env Kernel",
   "language": "python",
   "name": "cvenvkernel"
  },
  "language_info": {
   "codemirror_mode": {
    "name": "ipython",
    "version": 3
   },
   "file_extension": ".py",
   "mimetype": "text/x-python",
   "name": "python",
   "nbconvert_exporter": "python",
   "pygments_lexer": "ipython3",
   "version": "3.11.7"
  }
 },
 "nbformat": 4,
 "nbformat_minor": 5
}
